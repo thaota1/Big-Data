{
  "cells": [
    {
      "cell_type": "markdown",
      "metadata": {
        "id": "WXeg_Pdg0qYT"
      },
      "source": [
        "# How to preprocess a mixed dataset for machine learning\n",
        "\n",
        "** What is preprocessing? **  \n",
        "Preprocessing describes the process of cleaning and converting a 'raw' (i.e. unprocessed) dataset into a clean dataset.\n",
        "\n",
        "\n",
        "When given a dataset, the preprocessing can have various steps depending on  \n",
        "a) what type of data you're looking at (text, images, time series, ...)  \n",
        "b) what models you want to train\n",
        "\n",
        "In this notebook we will look at a **dataset with both numerical and cateogorical attributes**.\n",
        "\n",
        "## Possible preprocessing steps\n",
        "\n",
        "As mentioned already, the preprocessing steps you will need for your dataset depend on the nature of the dataset and models you want to train. Possible preprocessing steps are:\n",
        "\n",
        "- Rescaling attributes with different scales\n",
        "- Standardizing the dataset\n",
        "- Encoding categorial attributes with integer values\n",
        "- Handling missing data\n",
        "- Removing duplicated data points\n",
        "- Removing outliers/ handle noisy data\n",
        "- Discretize the data\n",
        "- Split the dataset into a training and test set\n",
        "\n",
        "## The Pima Indians Diabetes Dataset\n",
        "\n",
        "In this notebook we will work with the Pima Indians Diabetes Dataset. The dataset has 9 attributes:\n",
        "\n",
        "| Attribute name | Description\n",
        "| --------------| ---------------------------|\n",
        "| Pregnancies | Number of times pregnant\n",
        "| Glucose | Plasma glucose concentration a 2 hours in an oral glucose tolerance test\n",
        "| Blood pressure | Diastolic blood pressure (mm Hg)\n",
        "| Skin thickness | Triceps skin fold thickness (mm)\n",
        "| Insulin | 2-Hour serum insulin (mu U/ml)\n",
        "| BMI | Body mass index\n",
        "| Diabetes pedigree function | Diabetes pedigree function\n",
        "| Age | Age in years\n",
        "| Diagnosis | 0 or 1 (0: no diabetes, 1: diabetes)\n",
        "\n",
        "\n",
        "\n",
        "Further information about the dataset can be found [here](https://www.kaggle.com/uciml/pima-indians-diabetes-database).\n",
        "\n",
        "## Downloading the dataset\n",
        "\n",
        "The diabetes dataset is available on several websites. We will use the version provided by [Kaggle](https://www.kaggle.com/uciml/pima-indians-diabetes-database/data).\n",
        "\n",
        "For datasets with multiple attributes a pandas DataFrame is the most convenient format. Therefore, we will use pandas to download our data and put it into a DataFrame."
      ]
    },
    {
      "cell_type": "code",
      "execution_count": 31,
      "metadata": {
        "id": "WQQdC9O80qYa"
      },
      "outputs": [],
      "source": [
        "import pandas as pd\n",
        "import matplotlib.pyplot as plt\n",
        "import numpy as np\n",
        "from sklearn.model_selection import train_test_split\n",
        "import os\n",
        "\n",
        "%matplotlib inline"
      ]
    },
    {
      "cell_type": "code",
      "execution_count": 32,
      "metadata": {
        "colab": {
          "base_uri": "https://localhost:8080/",
          "height": 206
        },
        "id": "igZ7EfL30qYb",
        "outputId": "a26cd781-f47a-4b8e-b105-1951c34eab3f"
      },
      "outputs": [
        {
          "data": {
            "text/html": [
              "<div>\n",
              "<style scoped>\n",
              "    .dataframe tbody tr th:only-of-type {\n",
              "        vertical-align: middle;\n",
              "    }\n",
              "\n",
              "    .dataframe tbody tr th {\n",
              "        vertical-align: top;\n",
              "    }\n",
              "\n",
              "    .dataframe thead th {\n",
              "        text-align: right;\n",
              "    }\n",
              "</style>\n",
              "<table border=\"1\" class=\"dataframe\">\n",
              "  <thead>\n",
              "    <tr style=\"text-align: right;\">\n",
              "      <th></th>\n",
              "      <th>Pregnancies</th>\n",
              "      <th>Glucose</th>\n",
              "      <th>BloodPressure</th>\n",
              "      <th>SkinThickness</th>\n",
              "      <th>Insulin</th>\n",
              "      <th>BMI</th>\n",
              "      <th>DiabetesPedigreeFunction</th>\n",
              "      <th>Age</th>\n",
              "      <th>Outcome</th>\n",
              "    </tr>\n",
              "  </thead>\n",
              "  <tbody>\n",
              "    <tr>\n",
              "      <th>0</th>\n",
              "      <td>6</td>\n",
              "      <td>148</td>\n",
              "      <td>72</td>\n",
              "      <td>35</td>\n",
              "      <td>0</td>\n",
              "      <td>33.6</td>\n",
              "      <td>0.627</td>\n",
              "      <td>50</td>\n",
              "      <td>1</td>\n",
              "    </tr>\n",
              "    <tr>\n",
              "      <th>1</th>\n",
              "      <td>1</td>\n",
              "      <td>85</td>\n",
              "      <td>66</td>\n",
              "      <td>29</td>\n",
              "      <td>0</td>\n",
              "      <td>26.6</td>\n",
              "      <td>0.351</td>\n",
              "      <td>31</td>\n",
              "      <td>0</td>\n",
              "    </tr>\n",
              "    <tr>\n",
              "      <th>2</th>\n",
              "      <td>8</td>\n",
              "      <td>183</td>\n",
              "      <td>64</td>\n",
              "      <td>0</td>\n",
              "      <td>0</td>\n",
              "      <td>23.3</td>\n",
              "      <td>0.672</td>\n",
              "      <td>32</td>\n",
              "      <td>1</td>\n",
              "    </tr>\n",
              "    <tr>\n",
              "      <th>3</th>\n",
              "      <td>1</td>\n",
              "      <td>89</td>\n",
              "      <td>66</td>\n",
              "      <td>23</td>\n",
              "      <td>94</td>\n",
              "      <td>28.1</td>\n",
              "      <td>0.167</td>\n",
              "      <td>21</td>\n",
              "      <td>0</td>\n",
              "    </tr>\n",
              "    <tr>\n",
              "      <th>4</th>\n",
              "      <td>0</td>\n",
              "      <td>137</td>\n",
              "      <td>40</td>\n",
              "      <td>35</td>\n",
              "      <td>168</td>\n",
              "      <td>43.1</td>\n",
              "      <td>2.288</td>\n",
              "      <td>33</td>\n",
              "      <td>1</td>\n",
              "    </tr>\n",
              "  </tbody>\n",
              "</table>\n",
              "</div>"
            ],
            "text/plain": [
              "   Pregnancies  Glucose  BloodPressure  SkinThickness  Insulin   BMI   \n",
              "0            6      148             72             35        0  33.6  \\\n",
              "1            1       85             66             29        0  26.6   \n",
              "2            8      183             64              0        0  23.3   \n",
              "3            1       89             66             23       94  28.1   \n",
              "4            0      137             40             35      168  43.1   \n",
              "\n",
              "   DiabetesPedigreeFunction  Age  Outcome  \n",
              "0                     0.627   50        1  \n",
              "1                     0.351   31        0  \n",
              "2                     0.672   32        1  \n",
              "3                     0.167   21        0  \n",
              "4                     2.288   33        1  "
            ]
          },
          "execution_count": 32,
          "metadata": {},
          "output_type": "execute_result"
        }
      ],
      "source": [
        "#data_path = os.path.expanduser('~/ml_basics/data/diabetes.csv')\n",
        "df = pd.read_csv('https://raw.githubusercontent.com/plotly/datasets/master/diabetes.csv')#, names=column_names)\n",
        "column_names = df.columns.tolist()\n",
        "\n",
        "df.head()"
      ]
    },
    {
      "cell_type": "code",
      "execution_count": 33,
      "metadata": {
        "colab": {
          "base_uri": "https://localhost:8080/"
        },
        "id": "Qedr8EOvHtuu",
        "outputId": "fa0e9291-292d-4b49-e63f-faff7100e5c1"
      },
      "outputs": [
        {
          "data": {
            "text/plain": [
              "(768, 9)"
            ]
          },
          "execution_count": 33,
          "metadata": {},
          "output_type": "execute_result"
        }
      ],
      "source": [
        "df.shape"
      ]
    },
    {
      "cell_type": "markdown",
      "metadata": {
        "id": "hsE1HP7z0qYd"
      },
      "source": [
        "## Inspecting the dataset\n",
        "\n",
        "Two pandas functions make it very easy to take a first look at the dataset: ```DataFrame.describe()``` and ```DataFrame.info()```. From the current [pandas documentation](https://pandas.pydata.org/pandas-docs/stable/generated/pandas.DataFrame.describe.html)\n",
        "\n",
        "\n",
        "``` DataFrame.info() ```   \n",
        "Print a concise summary of a DataFrame.   \n",
        "\n",
        "``` DataFrame.describe():```  \n",
        "Generates descriptive statistics that summarize the central tendency, dispersion and shape of a dataset’s distribution, excluding NaN values.   \n",
        "Analyzes both numeric and object series, as well as DataFrame column sets of mixed data types. The output will vary depending on what is provided. Refer to the notes below for more detail."
      ]
    },
    {
      "cell_type": "code",
      "execution_count": 34,
      "metadata": {
        "colab": {
          "base_uri": "https://localhost:8080/"
        },
        "id": "yR2b3ymv0qYe",
        "outputId": "360f2eca-8978-456b-9726-badca16b7c2d"
      },
      "outputs": [
        {
          "name": "stdout",
          "output_type": "stream",
          "text": [
            "<class 'pandas.core.frame.DataFrame'>\n",
            "RangeIndex: 768 entries, 0 to 767\n",
            "Data columns (total 9 columns):\n",
            " #   Column                    Non-Null Count  Dtype  \n",
            "---  ------                    --------------  -----  \n",
            " 0   Pregnancies               768 non-null    int64  \n",
            " 1   Glucose                   768 non-null    int64  \n",
            " 2   BloodPressure             768 non-null    int64  \n",
            " 3   SkinThickness             768 non-null    int64  \n",
            " 4   Insulin                   768 non-null    int64  \n",
            " 5   BMI                       768 non-null    float64\n",
            " 6   DiabetesPedigreeFunction  768 non-null    float64\n",
            " 7   Age                       768 non-null    int64  \n",
            " 8   Outcome                   768 non-null    int64  \n",
            "dtypes: float64(2), int64(7)\n",
            "memory usage: 54.1 KB\n"
          ]
        }
      ],
      "source": [
        "df.info()"
      ]
    },
    {
      "cell_type": "markdown",
      "metadata": {
        "id": "vEIrXbd_0qYe"
      },
      "source": [
        "We can see that there are 768 instances in the dataset, which is very small for a machine learning dataset. For most algorithms you will need more data."
      ]
    },
    {
      "cell_type": "code",
      "execution_count": 35,
      "metadata": {
        "colab": {
          "base_uri": "https://localhost:8080/",
          "height": 364
        },
        "id": "IjY1DNRt0qYe",
        "outputId": "b843a26a-b0ad-419f-e524-c285d510b944"
      },
      "outputs": [
        {
          "data": {
            "text/html": [
              "<div>\n",
              "<style scoped>\n",
              "    .dataframe tbody tr th:only-of-type {\n",
              "        vertical-align: middle;\n",
              "    }\n",
              "\n",
              "    .dataframe tbody tr th {\n",
              "        vertical-align: top;\n",
              "    }\n",
              "\n",
              "    .dataframe thead th {\n",
              "        text-align: right;\n",
              "    }\n",
              "</style>\n",
              "<table border=\"1\" class=\"dataframe\">\n",
              "  <thead>\n",
              "    <tr style=\"text-align: right;\">\n",
              "      <th></th>\n",
              "      <th>Pregnancies</th>\n",
              "      <th>Glucose</th>\n",
              "      <th>BloodPressure</th>\n",
              "      <th>SkinThickness</th>\n",
              "      <th>Insulin</th>\n",
              "      <th>BMI</th>\n",
              "      <th>DiabetesPedigreeFunction</th>\n",
              "      <th>Age</th>\n",
              "      <th>Outcome</th>\n",
              "    </tr>\n",
              "  </thead>\n",
              "  <tbody>\n",
              "    <tr>\n",
              "      <th>count</th>\n",
              "      <td>768.000000</td>\n",
              "      <td>768.000000</td>\n",
              "      <td>768.000000</td>\n",
              "      <td>768.000000</td>\n",
              "      <td>768.000000</td>\n",
              "      <td>768.000000</td>\n",
              "      <td>768.000000</td>\n",
              "      <td>768.000000</td>\n",
              "      <td>768.000000</td>\n",
              "    </tr>\n",
              "    <tr>\n",
              "      <th>mean</th>\n",
              "      <td>3.845052</td>\n",
              "      <td>120.894531</td>\n",
              "      <td>69.105469</td>\n",
              "      <td>20.536458</td>\n",
              "      <td>79.799479</td>\n",
              "      <td>31.992578</td>\n",
              "      <td>0.471876</td>\n",
              "      <td>33.240885</td>\n",
              "      <td>0.348958</td>\n",
              "    </tr>\n",
              "    <tr>\n",
              "      <th>std</th>\n",
              "      <td>3.369578</td>\n",
              "      <td>31.972618</td>\n",
              "      <td>19.355807</td>\n",
              "      <td>15.952218</td>\n",
              "      <td>115.244002</td>\n",
              "      <td>7.884160</td>\n",
              "      <td>0.331329</td>\n",
              "      <td>11.760232</td>\n",
              "      <td>0.476951</td>\n",
              "    </tr>\n",
              "    <tr>\n",
              "      <th>min</th>\n",
              "      <td>0.000000</td>\n",
              "      <td>0.000000</td>\n",
              "      <td>0.000000</td>\n",
              "      <td>0.000000</td>\n",
              "      <td>0.000000</td>\n",
              "      <td>0.000000</td>\n",
              "      <td>0.078000</td>\n",
              "      <td>21.000000</td>\n",
              "      <td>0.000000</td>\n",
              "    </tr>\n",
              "    <tr>\n",
              "      <th>25%</th>\n",
              "      <td>1.000000</td>\n",
              "      <td>99.000000</td>\n",
              "      <td>62.000000</td>\n",
              "      <td>0.000000</td>\n",
              "      <td>0.000000</td>\n",
              "      <td>27.300000</td>\n",
              "      <td>0.243750</td>\n",
              "      <td>24.000000</td>\n",
              "      <td>0.000000</td>\n",
              "    </tr>\n",
              "    <tr>\n",
              "      <th>50%</th>\n",
              "      <td>3.000000</td>\n",
              "      <td>117.000000</td>\n",
              "      <td>72.000000</td>\n",
              "      <td>23.000000</td>\n",
              "      <td>30.500000</td>\n",
              "      <td>32.000000</td>\n",
              "      <td>0.372500</td>\n",
              "      <td>29.000000</td>\n",
              "      <td>0.000000</td>\n",
              "    </tr>\n",
              "    <tr>\n",
              "      <th>75%</th>\n",
              "      <td>6.000000</td>\n",
              "      <td>140.250000</td>\n",
              "      <td>80.000000</td>\n",
              "      <td>32.000000</td>\n",
              "      <td>127.250000</td>\n",
              "      <td>36.600000</td>\n",
              "      <td>0.626250</td>\n",
              "      <td>41.000000</td>\n",
              "      <td>1.000000</td>\n",
              "    </tr>\n",
              "    <tr>\n",
              "      <th>max</th>\n",
              "      <td>17.000000</td>\n",
              "      <td>199.000000</td>\n",
              "      <td>122.000000</td>\n",
              "      <td>99.000000</td>\n",
              "      <td>846.000000</td>\n",
              "      <td>67.100000</td>\n",
              "      <td>2.420000</td>\n",
              "      <td>81.000000</td>\n",
              "      <td>1.000000</td>\n",
              "    </tr>\n",
              "  </tbody>\n",
              "</table>\n",
              "</div>"
            ],
            "text/plain": [
              "       Pregnancies     Glucose  BloodPressure  SkinThickness     Insulin   \n",
              "count   768.000000  768.000000     768.000000     768.000000  768.000000  \\\n",
              "mean      3.845052  120.894531      69.105469      20.536458   79.799479   \n",
              "std       3.369578   31.972618      19.355807      15.952218  115.244002   \n",
              "min       0.000000    0.000000       0.000000       0.000000    0.000000   \n",
              "25%       1.000000   99.000000      62.000000       0.000000    0.000000   \n",
              "50%       3.000000  117.000000      72.000000      23.000000   30.500000   \n",
              "75%       6.000000  140.250000      80.000000      32.000000  127.250000   \n",
              "max      17.000000  199.000000     122.000000      99.000000  846.000000   \n",
              "\n",
              "              BMI  DiabetesPedigreeFunction         Age     Outcome  \n",
              "count  768.000000                768.000000  768.000000  768.000000  \n",
              "mean    31.992578                  0.471876   33.240885    0.348958  \n",
              "std      7.884160                  0.331329   11.760232    0.476951  \n",
              "min      0.000000                  0.078000   21.000000    0.000000  \n",
              "25%     27.300000                  0.243750   24.000000    0.000000  \n",
              "50%     32.000000                  0.372500   29.000000    0.000000  \n",
              "75%     36.600000                  0.626250   41.000000    1.000000  \n",
              "max     67.100000                  2.420000   81.000000    1.000000  "
            ]
          },
          "execution_count": 35,
          "metadata": {},
          "output_type": "execute_result"
        }
      ],
      "source": [
        "df.describe()"
      ]
    },
    {
      "cell_type": "markdown",
      "metadata": {
        "id": "tx_kmvZ20qYf"
      },
      "source": [
        "The variables *count, mean, std* and *max* are self-explanatory. Using the minimum values we can already see that the minimum value of many attributes is 0. For the \"pregnancies\" attribute this makes sense. However, for attributes like \"blood pressure\" or \"insulin\" is doesn't. This  indicates that certain values are missing.\n",
        "\n",
        "The rows named *25%, 50%* and *75%* represent the corresponding *percentiles*. For example, 25% of the woman had less than 1 pregnancy, 50% had less than 3 pregnancies and 75% had less than 6 pregnancies.\n",
        "\n",
        "## Visualizing aspects of the dataset\n",
        "\n",
        "Another way to get familiar with the dataset is to look at all numerical attributes and plot a histogram for each of them.\n",
        "\n",
        "> What is a histogram?   \n",
        "> A histogram is a graphical representation of data that uses bars of different heights. It groups data points into value ranges. The exact shape of the value ranges depends on the number of bars. With a lot of bars, value ranges will be small, with only a few bars they will be wider. The height of a bar (y-axis) represents the number of data points that fall into the corresponding value range (x-axis).\n",
        "\n",
        "Since our dataset has only numerical values we can simply call the ```DataFrame.hist()``` function (see section \"Encoding categorical attributes\" for more details on how to convert categorical to numerical attributes).\n",
        "\n",
        "```DataFrame.hist()``` calls matplotlib.pyplot.hist() on each series in the DataFrame, resulting in one histogram per column (i.e. one histogram per attribute).\n",
        "\n",
        "The histograms will also make it easier to detect outliers or erroneous values (see section \"Handling noisy data\" for more details)."
      ]
    },
    {
      "cell_type": "code",
      "execution_count": 36,
      "metadata": {
        "colab": {
          "base_uri": "https://localhost:8080/",
          "height": 829
        },
        "id": "jlncReGG0qYf",
        "outputId": "b192eb3e-5705-4b70-f11d-1ccf1068818c"
      },
      "outputs": [
        {
          "data": {
            "image/png": "[encoded data removed]",
            "text/plain": [
              "<Figure size 2500x2000 with 9 Axes>"
            ]
          },
          "metadata": {},
          "output_type": "display_data"
        }
      ],
      "source": [
        "df.hist(bins=50, figsize=(25, 20))\n",
        "plt.show()"
      ]
    },
    {
      "cell_type": "markdown",
      "metadata": {
        "id": "cTM_fzAf0qYg"
      },
      "source": [
        "We can observe several things in these histograms:\n",
        "\n",
        "1. Some entries have the \"insulin\" and/or \"skin_thickness\" attribute set to zero. As mentioned before, this indicates that certain values are missing.\n",
        "2. The attributes have different scales. We will see later how to handle this.\n",
        "3. Some histograms extend further to the left of the median than to the right. Other histograms are more centered. We will discuss at a later point how these different distributions can be handeled."
      ]
    },
    {
      "cell_type": "markdown",
      "metadata": {
        "id": "OIri2Q5F0qYg"
      },
      "source": [
        "## Removing duplicated data points\n",
        "\n",
        "To make sure that none of the data point are duplicated and hence overrepresented, we can scan the dataset for duplicated entries and delete them. This becomes very easy with the ```DataFrame.drop_duplicates()``` function."
      ]
    },
    {
      "cell_type": "code",
      "execution_count": 37,
      "metadata": {
        "id": "mImjqpmL0qYh"
      },
      "outputs": [],
      "source": [
        "df.drop_duplicates(keep='first', inplace=True)"
      ]
    },
    {
      "cell_type": "code",
      "execution_count": 38,
      "metadata": {
        "colab": {
          "base_uri": "https://localhost:8080/"
        },
        "id": "wUKgDBQ2W5w_",
        "outputId": "bb69d383-3e85-47d2-876e-87c8da13a5aa"
      },
      "outputs": [
        {
          "data": {
            "text/plain": [
              "(768, 9)"
            ]
          },
          "execution_count": 38,
          "metadata": {},
          "output_type": "execute_result"
        }
      ],
      "source": [
        "df.shape"
      ]
    },
    {
      "cell_type": "markdown",
      "metadata": {
        "id": "IvbhK7Ai0qYh"
      },
      "source": [
        "## Creating a test set\n",
        "\n",
        "If you want to train a machine learning model on your data it's important that you create a separate test set BEFORE you do any further preprocessing. The test set is put aside and not looked at, it's sole purpose is to allow for an evaluation of the trained classifier.\n",
        "\n",
        "Creating a test set is very easy using scikit-learn. We will use 20% of the data as a test set."
      ]
    },
    {
      "cell_type": "code",
      "execution_count": 39,
      "metadata": {
        "id": "cn5GoP3Q0qYh"
      },
      "outputs": [],
      "source": [
        "original_train_df, test_df = train_test_split(df, test_size=0.2)\n",
        "\n",
        "# To be sure we will create a copy for further processing\n",
        "train_df = original_train_df.copy()"
      ]
    },
    {
      "cell_type": "code",
      "execution_count": 40,
      "metadata": {
        "colab": {
          "base_uri": "https://localhost:8080/"
        },
        "id": "nQqT32wuMXvP",
        "outputId": "a14dc2f6-957a-4fdc-86b3-ec004472c668"
      },
      "outputs": [
        {
          "data": {
            "text/plain": [
              "(614, 9)"
            ]
          },
          "execution_count": 40,
          "metadata": {},
          "output_type": "execute_result"
        }
      ],
      "source": [
        "train_df.shape"
      ]
    },
    {
      "cell_type": "code",
      "execution_count": 41,
      "metadata": {
        "colab": {
          "base_uri": "https://localhost:8080/"
        },
        "id": "BK3jvCZFXPuW",
        "outputId": "64af55af-cbe8-418b-b3c2-def80caa0c82"
      },
      "outputs": [
        {
          "data": {
            "text/plain": [
              "(154, 9)"
            ]
          },
          "execution_count": 41,
          "metadata": {},
          "output_type": "execute_result"
        }
      ],
      "source": [
        "test_df.shape"
      ]
    },
    {
      "cell_type": "markdown",
      "metadata": {
        "id": "mtIoJqRq0qYi"
      },
      "source": [
        "## Gaining further insight\n",
        "\n",
        "To further improve our understanding of the dataset, we can add a few more exploration steps. Besides creating more plots, another useful thing is looking for *correlations* between the attributes.\n",
        "\n",
        "For example, we can compute [Pearson's correlation coefficient](https://en.wikipedia.org/wiki/Pearson_correlation_coefficient). From the linked Wikipedia website:\n",
        "\n",
        "> Pearson's correlation coefficient is a measure of the linear correlation between two variables X and Y. It has a value between +1 and −1, where 1 is total positive linear correlation, 0 is no linear correlation, and −1 is total negative linear correlation.\n",
        "\n",
        "A 'total positive linear correlation' means that as X increases, Y increases. A 'total negative linear correlation' means that as X increases, Y *decreases*.\n",
        "\n",
        "We can easily compute Pearson's correlation coefficient between every pair of attributes using ```DataFrame.corr()```. In fact, ```DataFrame.corr()``` could also be used to compute the Kendall Tau correlation coefficient or  Spearman rank correlation."
      ]
    },
    {
      "cell_type": "code",
      "execution_count": 42,
      "metadata": {
        "colab": {
          "base_uri": "https://localhost:8080/",
          "height": 396
        },
        "id": "c5tJWkpe0qYi",
        "outputId": "be0f98e7-00fe-4492-d585-602af1e6818b"
      },
      "outputs": [
        {
          "data": {
            "text/html": [
              "<div>\n",
              "<style scoped>\n",
              "    .dataframe tbody tr th:only-of-type {\n",
              "        vertical-align: middle;\n",
              "    }\n",
              "\n",
              "    .dataframe tbody tr th {\n",
              "        vertical-align: top;\n",
              "    }\n",
              "\n",
              "    .dataframe thead th {\n",
              "        text-align: right;\n",
              "    }\n",
              "</style>\n",
              "<table border=\"1\" class=\"dataframe\">\n",
              "  <thead>\n",
              "    <tr style=\"text-align: right;\">\n",
              "      <th></th>\n",
              "      <th>Pregnancies</th>\n",
              "      <th>Glucose</th>\n",
              "      <th>BloodPressure</th>\n",
              "      <th>SkinThickness</th>\n",
              "      <th>Insulin</th>\n",
              "      <th>BMI</th>\n",
              "      <th>DiabetesPedigreeFunction</th>\n",
              "      <th>Age</th>\n",
              "      <th>Outcome</th>\n",
              "    </tr>\n",
              "  </thead>\n",
              "  <tbody>\n",
              "    <tr>\n",
              "      <th>Pregnancies</th>\n",
              "      <td>1.000000</td>\n",
              "      <td>0.141429</td>\n",
              "      <td>0.132631</td>\n",
              "      <td>-0.097616</td>\n",
              "      <td>-0.103190</td>\n",
              "      <td>0.004257</td>\n",
              "      <td>-0.001906</td>\n",
              "      <td>0.585652</td>\n",
              "      <td>0.215106</td>\n",
              "    </tr>\n",
              "    <tr>\n",
              "      <th>Glucose</th>\n",
              "      <td>0.141429</td>\n",
              "      <td>1.000000</td>\n",
              "      <td>0.141444</td>\n",
              "      <td>0.049125</td>\n",
              "      <td>0.348543</td>\n",
              "      <td>0.226284</td>\n",
              "      <td>0.153355</td>\n",
              "      <td>0.260232</td>\n",
              "      <td>0.470839</td>\n",
              "    </tr>\n",
              "    <tr>\n",
              "      <th>BloodPressure</th>\n",
              "      <td>0.132631</td>\n",
              "      <td>0.141444</td>\n",
              "      <td>1.000000</td>\n",
              "      <td>0.251054</td>\n",
              "      <td>0.105139</td>\n",
              "      <td>0.294579</td>\n",
              "      <td>0.069154</td>\n",
              "      <td>0.242266</td>\n",
              "      <td>0.044310</td>\n",
              "    </tr>\n",
              "    <tr>\n",
              "      <th>SkinThickness</th>\n",
              "      <td>-0.097616</td>\n",
              "      <td>0.049125</td>\n",
              "      <td>0.251054</td>\n",
              "      <td>1.000000</td>\n",
              "      <td>0.431332</td>\n",
              "      <td>0.415178</td>\n",
              "      <td>0.206518</td>\n",
              "      <td>-0.102537</td>\n",
              "      <td>0.072703</td>\n",
              "    </tr>\n",
              "    <tr>\n",
              "      <th>Insulin</th>\n",
              "      <td>-0.103190</td>\n",
              "      <td>0.348543</td>\n",
              "      <td>0.105139</td>\n",
              "      <td>0.431332</td>\n",
              "      <td>1.000000</td>\n",
              "      <td>0.205432</td>\n",
              "      <td>0.199602</td>\n",
              "      <td>-0.057037</td>\n",
              "      <td>0.118226</td>\n",
              "    </tr>\n",
              "    <tr>\n",
              "      <th>BMI</th>\n",
              "      <td>0.004257</td>\n",
              "      <td>0.226284</td>\n",
              "      <td>0.294579</td>\n",
              "      <td>0.415178</td>\n",
              "      <td>0.205432</td>\n",
              "      <td>1.000000</td>\n",
              "      <td>0.165981</td>\n",
              "      <td>0.029550</td>\n",
              "      <td>0.298881</td>\n",
              "    </tr>\n",
              "    <tr>\n",
              "      <th>DiabetesPedigreeFunction</th>\n",
              "      <td>-0.001906</td>\n",
              "      <td>0.153355</td>\n",
              "      <td>0.069154</td>\n",
              "      <td>0.206518</td>\n",
              "      <td>0.199602</td>\n",
              "      <td>0.165981</td>\n",
              "      <td>1.000000</td>\n",
              "      <td>0.032133</td>\n",
              "      <td>0.210105</td>\n",
              "    </tr>\n",
              "    <tr>\n",
              "      <th>Age</th>\n",
              "      <td>0.585652</td>\n",
              "      <td>0.260232</td>\n",
              "      <td>0.242266</td>\n",
              "      <td>-0.102537</td>\n",
              "      <td>-0.057037</td>\n",
              "      <td>0.029550</td>\n",
              "      <td>0.032133</td>\n",
              "      <td>1.000000</td>\n",
              "      <td>0.243284</td>\n",
              "    </tr>\n",
              "    <tr>\n",
              "      <th>Outcome</th>\n",
              "      <td>0.215106</td>\n",
              "      <td>0.470839</td>\n",
              "      <td>0.044310</td>\n",
              "      <td>0.072703</td>\n",
              "      <td>0.118226</td>\n",
              "      <td>0.298881</td>\n",
              "      <td>0.210105</td>\n",
              "      <td>0.243284</td>\n",
              "      <td>1.000000</td>\n",
              "    </tr>\n",
              "  </tbody>\n",
              "</table>\n",
              "</div>"
            ],
            "text/plain": [
              "                          Pregnancies   Glucose  BloodPressure  SkinThickness   \n",
              "Pregnancies                  1.000000  0.141429       0.132631      -0.097616  \\\n",
              "Glucose                      0.141429  1.000000       0.141444       0.049125   \n",
              "BloodPressure                0.132631  0.141444       1.000000       0.251054   \n",
              "SkinThickness               -0.097616  0.049125       0.251054       1.000000   \n",
              "Insulin                     -0.103190  0.348543       0.105139       0.431332   \n",
              "BMI                          0.004257  0.226284       0.294579       0.415178   \n",
              "DiabetesPedigreeFunction    -0.001906  0.153355       0.069154       0.206518   \n",
              "Age                          0.585652  0.260232       0.242266      -0.102537   \n",
              "Outcome                      0.215106  0.470839       0.044310       0.072703   \n",
              "\n",
              "                           Insulin       BMI  DiabetesPedigreeFunction   \n",
              "Pregnancies              -0.103190  0.004257                 -0.001906  \\\n",
              "Glucose                   0.348543  0.226284                  0.153355   \n",
              "BloodPressure             0.105139  0.294579                  0.069154   \n",
              "SkinThickness             0.431332  0.415178                  0.206518   \n",
              "Insulin                   1.000000  0.205432                  0.199602   \n",
              "BMI                       0.205432  1.000000                  0.165981   \n",
              "DiabetesPedigreeFunction  0.199602  0.165981                  1.000000   \n",
              "Age                      -0.057037  0.029550                  0.032133   \n",
              "Outcome                   0.118226  0.298881                  0.210105   \n",
              "\n",
              "                               Age   Outcome  \n",
              "Pregnancies               0.585652  0.215106  \n",
              "Glucose                   0.260232  0.470839  \n",
              "BloodPressure             0.242266  0.044310  \n",
              "SkinThickness            -0.102537  0.072703  \n",
              "Insulin                  -0.057037  0.118226  \n",
              "BMI                       0.029550  0.298881  \n",
              "DiabetesPedigreeFunction  0.032133  0.210105  \n",
              "Age                       1.000000  0.243284  \n",
              "Outcome                   0.243284  1.000000  "
            ]
          },
          "execution_count": 42,
          "metadata": {},
          "output_type": "execute_result"
        }
      ],
      "source": [
        "correlation_matrix = train_df.corr(method='pearson')\n",
        "\n",
        "correlation_matrix"
      ]
    },
    {
      "cell_type": "markdown",
      "metadata": {
        "id": "m3Vnz1FV0qYi"
      },
      "source": [
        "Let's take a look at how each attribute correlates with the final diagnosis"
      ]
    },
    {
      "cell_type": "code",
      "execution_count": 43,
      "metadata": {
        "colab": {
          "base_uri": "https://localhost:8080/"
        },
        "id": "cOfOKnbg0qYj",
        "outputId": "a317bbb6-fb3d-4047-afc6-1122c6837f26"
      },
      "outputs": [
        {
          "data": {
            "text/plain": [
              "BloodPressure               0.044310\n",
              "SkinThickness               0.072703\n",
              "Insulin                     0.118226\n",
              "DiabetesPedigreeFunction    0.210105\n",
              "Pregnancies                 0.215106\n",
              "Age                         0.243284\n",
              "BMI                         0.298881\n",
              "Glucose                     0.470839\n",
              "Outcome                     1.000000\n",
              "Name: Outcome, dtype: float64"
            ]
          },
          "execution_count": 43,
          "metadata": {},
          "output_type": "execute_result"
        }
      ],
      "source": [
        "correlation_matrix[\"Outcome\"].sort_values()"
      ]
    },
    {
      "cell_type": "markdown",
      "metadata": {
        "id": "U5Zrtp9i0qYj"
      },
      "source": [
        "The highest correlation exists for the attribute \"glucose\" but none of these correlations are very high. However, it's important that we keep in mind that Pearson's only measures *linear* correlations. Nonlinear correlations are not measured and might still exist!\n",
        "\n",
        "Tip: if you want to take a closer look at correlations and create some plots consider pandas [scatter matrix](https://pandas.pydata.org/pandas-docs/stable/generated/pandas.plotting.scatter_matrix.html) function."
      ]
    },
    {
      "cell_type": "markdown",
      "metadata": {
        "id": "FZYxKW_F0qYk"
      },
      "source": [
        "## Handling missing data\n",
        "\n",
        "To make sure that we don't mistake missing values as being 0, we will replace them with 'NaN' (short for \"not a number\"). We need to handle missing values in the columns 'glucose', 'blood_pressure', 'skin_thickness', 'insulin', 'bmi', 'diabetes_pedigree_function' and 'age'."
      ]
    },
    {
      "cell_type": "code",
      "execution_count": 44,
      "metadata": {
        "id": "Wk7X8oPd0qYk"
      },
      "outputs": [],
      "source": [
        "names = ['Glucose', 'BloodPressure', 'SkinThickness', 'Insulin', 'BMI', 'DiabetesPedigreeFunction', 'Age']\n",
        "\n",
        "for name in names:\n",
        "    train_df[name].replace(0, np.nan, inplace=True)"
      ]
    },
    {
      "cell_type": "code",
      "execution_count": 45,
      "metadata": {
        "colab": {
          "base_uri": "https://localhost:8080/",
          "height": 299
        },
        "id": "ljtKg4Iw0qYk",
        "outputId": "2d83cb1b-ffc8-4eb9-bdeb-cb2202ce81e7"
      },
      "outputs": [
        {
          "data": {
            "text/html": [
              "<div>\n",
              "<style scoped>\n",
              "    .dataframe tbody tr th:only-of-type {\n",
              "        vertical-align: middle;\n",
              "    }\n",
              "\n",
              "    .dataframe tbody tr th {\n",
              "        vertical-align: top;\n",
              "    }\n",
              "\n",
              "    .dataframe thead th {\n",
              "        text-align: right;\n",
              "    }\n",
              "</style>\n",
              "<table border=\"1\" class=\"dataframe\">\n",
              "  <thead>\n",
              "    <tr style=\"text-align: right;\">\n",
              "      <th></th>\n",
              "      <th>Pregnancies</th>\n",
              "      <th>Glucose</th>\n",
              "      <th>BloodPressure</th>\n",
              "      <th>SkinThickness</th>\n",
              "      <th>Insulin</th>\n",
              "      <th>BMI</th>\n",
              "      <th>DiabetesPedigreeFunction</th>\n",
              "      <th>Age</th>\n",
              "      <th>Outcome</th>\n",
              "    </tr>\n",
              "  </thead>\n",
              "  <tbody>\n",
              "    <tr>\n",
              "      <th>455</th>\n",
              "      <td>14</td>\n",
              "      <td>175.0</td>\n",
              "      <td>62.0</td>\n",
              "      <td>30.0</td>\n",
              "      <td>NaN</td>\n",
              "      <td>33.6</td>\n",
              "      <td>0.212</td>\n",
              "      <td>38</td>\n",
              "      <td>1</td>\n",
              "    </tr>\n",
              "    <tr>\n",
              "      <th>74</th>\n",
              "      <td>1</td>\n",
              "      <td>79.0</td>\n",
              "      <td>75.0</td>\n",
              "      <td>30.0</td>\n",
              "      <td>NaN</td>\n",
              "      <td>32.0</td>\n",
              "      <td>0.396</td>\n",
              "      <td>22</td>\n",
              "      <td>0</td>\n",
              "    </tr>\n",
              "    <tr>\n",
              "      <th>184</th>\n",
              "      <td>4</td>\n",
              "      <td>141.0</td>\n",
              "      <td>74.0</td>\n",
              "      <td>NaN</td>\n",
              "      <td>NaN</td>\n",
              "      <td>27.6</td>\n",
              "      <td>0.244</td>\n",
              "      <td>40</td>\n",
              "      <td>0</td>\n",
              "    </tr>\n",
              "    <tr>\n",
              "      <th>486</th>\n",
              "      <td>1</td>\n",
              "      <td>139.0</td>\n",
              "      <td>62.0</td>\n",
              "      <td>41.0</td>\n",
              "      <td>480.0</td>\n",
              "      <td>40.7</td>\n",
              "      <td>0.536</td>\n",
              "      <td>21</td>\n",
              "      <td>0</td>\n",
              "    </tr>\n",
              "    <tr>\n",
              "      <th>625</th>\n",
              "      <td>4</td>\n",
              "      <td>90.0</td>\n",
              "      <td>88.0</td>\n",
              "      <td>47.0</td>\n",
              "      <td>54.0</td>\n",
              "      <td>37.7</td>\n",
              "      <td>0.362</td>\n",
              "      <td>29</td>\n",
              "      <td>0</td>\n",
              "    </tr>\n",
              "    <tr>\n",
              "      <th>3</th>\n",
              "      <td>1</td>\n",
              "      <td>89.0</td>\n",
              "      <td>66.0</td>\n",
              "      <td>23.0</td>\n",
              "      <td>94.0</td>\n",
              "      <td>28.1</td>\n",
              "      <td>0.167</td>\n",
              "      <td>21</td>\n",
              "      <td>0</td>\n",
              "    </tr>\n",
              "    <tr>\n",
              "      <th>211</th>\n",
              "      <td>0</td>\n",
              "      <td>147.0</td>\n",
              "      <td>85.0</td>\n",
              "      <td>54.0</td>\n",
              "      <td>NaN</td>\n",
              "      <td>42.8</td>\n",
              "      <td>0.375</td>\n",
              "      <td>24</td>\n",
              "      <td>0</td>\n",
              "    </tr>\n",
              "    <tr>\n",
              "      <th>500</th>\n",
              "      <td>2</td>\n",
              "      <td>117.0</td>\n",
              "      <td>90.0</td>\n",
              "      <td>19.0</td>\n",
              "      <td>71.0</td>\n",
              "      <td>25.2</td>\n",
              "      <td>0.313</td>\n",
              "      <td>21</td>\n",
              "      <td>0</td>\n",
              "    </tr>\n",
              "  </tbody>\n",
              "</table>\n",
              "</div>"
            ],
            "text/plain": [
              "     Pregnancies  Glucose  BloodPressure  SkinThickness  Insulin   BMI   \n",
              "455           14    175.0           62.0           30.0      NaN  33.6  \\\n",
              "74             1     79.0           75.0           30.0      NaN  32.0   \n",
              "184            4    141.0           74.0            NaN      NaN  27.6   \n",
              "486            1    139.0           62.0           41.0    480.0  40.7   \n",
              "625            4     90.0           88.0           47.0     54.0  37.7   \n",
              "3              1     89.0           66.0           23.0     94.0  28.1   \n",
              "211            0    147.0           85.0           54.0      NaN  42.8   \n",
              "500            2    117.0           90.0           19.0     71.0  25.2   \n",
              "\n",
              "     DiabetesPedigreeFunction  Age  Outcome  \n",
              "455                     0.212   38        1  \n",
              "74                      0.396   22        0  \n",
              "184                     0.244   40        0  \n",
              "486                     0.536   21        0  \n",
              "625                     0.362   29        0  \n",
              "3                       0.167   21        0  \n",
              "211                     0.375   24        0  \n",
              "500                     0.313   21        0  "
            ]
          },
          "execution_count": 45,
          "metadata": {},
          "output_type": "execute_result"
        }
      ],
      "source": [
        "train_df.head(8)"
      ]
    },
    {
      "cell_type": "markdown",
      "metadata": {
        "id": "8-zOS6wM0qYk"
      },
      "source": [
        "Missing attribute values can be handled in several ways. For example we can:\n",
        "- Delete or ignore the data points with missing values\n",
        "- Replace the missing values, for example with the median of the corresponding attribute\n",
        "- Remove the entire attribute from the dataset\n",
        "\n",
        "We will stick to the second option. This means that we first compute the median of each attribute. In a second step we replace missing values with the corresponding attribute median, using ```DataFrame.fillna()```.\n",
        "\n",
        "A more advanced way to do this, which avoids computing each median manually is scikit-learn's [imputer class](http://scikit-learn.org/stable/modules/generated/sklearn.preprocessing.Imputer.html)."
      ]
    },
    {
      "cell_type": "code",
      "execution_count": 46,
      "metadata": {
        "id": "SX1RH8R90qYl"
      },
      "outputs": [],
      "source": [
        "glucose_median = train_df[\"Glucose\"].median()\n",
        "blood_pressure_median = train_df[\"BloodPressure\"].median()\n",
        "skin_thickness_median = train_df[\"SkinThickness\"].median()\n",
        "insulin_median = train_df[\"Insulin\"].median()\n",
        "bmi_median = train_df[\"BMI\"].median()\n",
        "age_median = train_df[\"Age\"].median()\n",
        "dpf_median = train_df['DiabetesPedigreeFunction'].median()\n",
        "\n",
        "train_df[\"Glucose\"].fillna(glucose_median, inplace=True)\n",
        "train_df[\"BloodPressure\"].fillna(blood_pressure_median, inplace=True)\n",
        "train_df[\"SkinThickness\"].fillna(skin_thickness_median, inplace=True)\n",
        "train_df[\"Insulin\"].fillna(insulin_median, inplace=True)\n",
        "train_df[\"BMI\"].fillna(bmi_median, inplace=True)\n",
        "train_df[\"Age\"].fillna(age_median, inplace=True)\n",
        "train_df[\"DiabetesPedigreeFunction\"].fillna(dpf_median, inplace=True)"
      ]
    },
    {
      "cell_type": "code",
      "execution_count": 47,
      "metadata": {
        "colab": {
          "base_uri": "https://localhost:8080/",
          "height": 206
        },
        "id": "erLJk-i_0qYl",
        "outputId": "5c65e9ef-ca92-4226-f437-6678dc9de8bd"
      },
      "outputs": [
        {
          "data": {
            "text/html": [
              "<div>\n",
              "<style scoped>\n",
              "    .dataframe tbody tr th:only-of-type {\n",
              "        vertical-align: middle;\n",
              "    }\n",
              "\n",
              "    .dataframe tbody tr th {\n",
              "        vertical-align: top;\n",
              "    }\n",
              "\n",
              "    .dataframe thead th {\n",
              "        text-align: right;\n",
              "    }\n",
              "</style>\n",
              "<table border=\"1\" class=\"dataframe\">\n",
              "  <thead>\n",
              "    <tr style=\"text-align: right;\">\n",
              "      <th></th>\n",
              "      <th>Pregnancies</th>\n",
              "      <th>Glucose</th>\n",
              "      <th>BloodPressure</th>\n",
              "      <th>SkinThickness</th>\n",
              "      <th>Insulin</th>\n",
              "      <th>BMI</th>\n",
              "      <th>DiabetesPedigreeFunction</th>\n",
              "      <th>Age</th>\n",
              "      <th>Outcome</th>\n",
              "    </tr>\n",
              "  </thead>\n",
              "  <tbody>\n",
              "    <tr>\n",
              "      <th>455</th>\n",
              "      <td>14</td>\n",
              "      <td>175.0</td>\n",
              "      <td>62.0</td>\n",
              "      <td>30.0</td>\n",
              "      <td>125.0</td>\n",
              "      <td>33.6</td>\n",
              "      <td>0.212</td>\n",
              "      <td>38</td>\n",
              "      <td>1</td>\n",
              "    </tr>\n",
              "    <tr>\n",
              "      <th>74</th>\n",
              "      <td>1</td>\n",
              "      <td>79.0</td>\n",
              "      <td>75.0</td>\n",
              "      <td>30.0</td>\n",
              "      <td>125.0</td>\n",
              "      <td>32.0</td>\n",
              "      <td>0.396</td>\n",
              "      <td>22</td>\n",
              "      <td>0</td>\n",
              "    </tr>\n",
              "    <tr>\n",
              "      <th>184</th>\n",
              "      <td>4</td>\n",
              "      <td>141.0</td>\n",
              "      <td>74.0</td>\n",
              "      <td>29.0</td>\n",
              "      <td>125.0</td>\n",
              "      <td>27.6</td>\n",
              "      <td>0.244</td>\n",
              "      <td>40</td>\n",
              "      <td>0</td>\n",
              "    </tr>\n",
              "    <tr>\n",
              "      <th>486</th>\n",
              "      <td>1</td>\n",
              "      <td>139.0</td>\n",
              "      <td>62.0</td>\n",
              "      <td>41.0</td>\n",
              "      <td>480.0</td>\n",
              "      <td>40.7</td>\n",
              "      <td>0.536</td>\n",
              "      <td>21</td>\n",
              "      <td>0</td>\n",
              "    </tr>\n",
              "    <tr>\n",
              "      <th>625</th>\n",
              "      <td>4</td>\n",
              "      <td>90.0</td>\n",
              "      <td>88.0</td>\n",
              "      <td>47.0</td>\n",
              "      <td>54.0</td>\n",
              "      <td>37.7</td>\n",
              "      <td>0.362</td>\n",
              "      <td>29</td>\n",
              "      <td>0</td>\n",
              "    </tr>\n",
              "  </tbody>\n",
              "</table>\n",
              "</div>"
            ],
            "text/plain": [
              "     Pregnancies  Glucose  BloodPressure  SkinThickness  Insulin   BMI   \n",
              "455           14    175.0           62.0           30.0    125.0  33.6  \\\n",
              "74             1     79.0           75.0           30.0    125.0  32.0   \n",
              "184            4    141.0           74.0           29.0    125.0  27.6   \n",
              "486            1    139.0           62.0           41.0    480.0  40.7   \n",
              "625            4     90.0           88.0           47.0     54.0  37.7   \n",
              "\n",
              "     DiabetesPedigreeFunction  Age  Outcome  \n",
              "455                     0.212   38        1  \n",
              "74                      0.396   22        0  \n",
              "184                     0.244   40        0  \n",
              "486                     0.536   21        0  \n",
              "625                     0.362   29        0  "
            ]
          },
          "execution_count": 47,
          "metadata": {},
          "output_type": "execute_result"
        }
      ],
      "source": [
        "train_df.head()"
      ]
    },
    {
      "cell_type": "markdown",
      "metadata": {
        "id": "sdW9FHMB0qYl"
      },
      "source": [
        "## Handling noisy data and outliers\n",
        "\n",
        "It might happen that some entries of our dataset are noisy or that the dataset contains outliers. For example, the blood pressure of some person might be extremely high if they suffer from hypertension. Outliers might also represent **erroneous values**. For example, the age attribute should lie above 120.\n",
        "\n",
        "Outliers can be detected in different ways. For the age attribute we could simply check the statistics given by ```df.describe()``` and check if the min and max values are reasonable. The same holds for other attributes. If you know in which range the attribute values should lie, you can quickly test if the dataset values are within that range.\n",
        "\n",
        "Once you detect outliers you can decide how you want to deal with them. For example, you could remove them.\n",
        "\n",
        "## Encoding categorical attributes\n",
        "\n",
        "This dataset does not contain categorical attributes. Therefore, we don't have to encode them with integer ID's.\n",
        "\n",
        "For the sake of understanding, let's walk through an example with categorical attributes. Suppose our dataset had an additional column, listing the fitness of each individual. The \"fitness\" attribute has 4 possible values: \"bad\", \"moderate\", \"good\", \"very good\"."
      ]
    },
    {
      "cell_type": "code",
      "execution_count": 48,
      "metadata": {
        "colab": {
          "base_uri": "https://localhost:8080/",
          "height": 206
        },
        "id": "9jiCnzYa0qYm",
        "outputId": "9d208b0b-66c1-431f-e074-1f110c8911a0"
      },
      "outputs": [
        {
          "data": {
            "text/html": [
              "<div>\n",
              "<style scoped>\n",
              "    .dataframe tbody tr th:only-of-type {\n",
              "        vertical-align: middle;\n",
              "    }\n",
              "\n",
              "    .dataframe tbody tr th {\n",
              "        vertical-align: top;\n",
              "    }\n",
              "\n",
              "    .dataframe thead th {\n",
              "        text-align: right;\n",
              "    }\n",
              "</style>\n",
              "<table border=\"1\" class=\"dataframe\">\n",
              "  <thead>\n",
              "    <tr style=\"text-align: right;\">\n",
              "      <th></th>\n",
              "      <th>Pregnancies</th>\n",
              "      <th>Glucose</th>\n",
              "      <th>BloodPressure</th>\n",
              "      <th>SkinThickness</th>\n",
              "      <th>Insulin</th>\n",
              "      <th>BMI</th>\n",
              "      <th>DiabetesPedigreeFunction</th>\n",
              "      <th>Age</th>\n",
              "      <th>Outcome</th>\n",
              "      <th>fitness</th>\n",
              "    </tr>\n",
              "  </thead>\n",
              "  <tbody>\n",
              "    <tr>\n",
              "      <th>455</th>\n",
              "      <td>14</td>\n",
              "      <td>175.0</td>\n",
              "      <td>62.0</td>\n",
              "      <td>30.0</td>\n",
              "      <td>125.0</td>\n",
              "      <td>33.6</td>\n",
              "      <td>0.212</td>\n",
              "      <td>38</td>\n",
              "      <td>1</td>\n",
              "      <td>bad</td>\n",
              "    </tr>\n",
              "    <tr>\n",
              "      <th>74</th>\n",
              "      <td>1</td>\n",
              "      <td>79.0</td>\n",
              "      <td>75.0</td>\n",
              "      <td>30.0</td>\n",
              "      <td>125.0</td>\n",
              "      <td>32.0</td>\n",
              "      <td>0.396</td>\n",
              "      <td>22</td>\n",
              "      <td>0</td>\n",
              "      <td>bad</td>\n",
              "    </tr>\n",
              "    <tr>\n",
              "      <th>184</th>\n",
              "      <td>4</td>\n",
              "      <td>141.0</td>\n",
              "      <td>74.0</td>\n",
              "      <td>29.0</td>\n",
              "      <td>125.0</td>\n",
              "      <td>27.6</td>\n",
              "      <td>0.244</td>\n",
              "      <td>40</td>\n",
              "      <td>0</td>\n",
              "      <td>bad</td>\n",
              "    </tr>\n",
              "    <tr>\n",
              "      <th>486</th>\n",
              "      <td>1</td>\n",
              "      <td>139.0</td>\n",
              "      <td>62.0</td>\n",
              "      <td>41.0</td>\n",
              "      <td>480.0</td>\n",
              "      <td>40.7</td>\n",
              "      <td>0.536</td>\n",
              "      <td>21</td>\n",
              "      <td>0</td>\n",
              "      <td>good</td>\n",
              "    </tr>\n",
              "    <tr>\n",
              "      <th>625</th>\n",
              "      <td>4</td>\n",
              "      <td>90.0</td>\n",
              "      <td>88.0</td>\n",
              "      <td>47.0</td>\n",
              "      <td>54.0</td>\n",
              "      <td>37.7</td>\n",
              "      <td>0.362</td>\n",
              "      <td>29</td>\n",
              "      <td>0</td>\n",
              "      <td>bad</td>\n",
              "    </tr>\n",
              "  </tbody>\n",
              "</table>\n",
              "</div>"
            ],
            "text/plain": [
              "     Pregnancies  Glucose  BloodPressure  SkinThickness  Insulin   BMI   \n",
              "455           14    175.0           62.0           30.0    125.0  33.6  \\\n",
              "74             1     79.0           75.0           30.0    125.0  32.0   \n",
              "184            4    141.0           74.0           29.0    125.0  27.6   \n",
              "486            1    139.0           62.0           41.0    480.0  40.7   \n",
              "625            4     90.0           88.0           47.0     54.0  37.7   \n",
              "\n",
              "     DiabetesPedigreeFunction  Age  Outcome fitness  \n",
              "455                     0.212   38        1     bad  \n",
              "74                      0.396   22        0     bad  \n",
              "184                     0.244   40        0     bad  \n",
              "486                     0.536   21        0    good  \n",
              "625                     0.362   29        0     bad  "
            ]
          },
          "execution_count": 48,
          "metadata": {},
          "output_type": "execute_result"
        }
      ],
      "source": [
        "# Copy original dataframe and add new column with random fitness values\n",
        "temp_df = train_df.copy()\n",
        "fitness_values = [\"bad\", \"moderate\", \"good\", \"very good\",]\n",
        "temp_df['fitness'] = np.random.choice(fitness_values, temp_df.shape[0])\n",
        "\n",
        "temp_df.head(5)"
      ]
    },
    {
      "cell_type": "code",
      "execution_count": 49,
      "metadata": {
        "colab": {
          "base_uri": "https://localhost:8080/"
        },
        "id": "1ncJ0hpFqeLr",
        "outputId": "ac72d7d6-c2d1-465a-8bfd-b2cf42537f49"
      },
      "outputs": [
        {
          "name": "stdout",
          "output_type": "stream",
          "text": [
            "<class 'pandas.core.frame.DataFrame'>\n",
            "Index: 614 entries, 455 to 228\n",
            "Data columns (total 10 columns):\n",
            " #   Column                    Non-Null Count  Dtype  \n",
            "---  ------                    --------------  -----  \n",
            " 0   Pregnancies               614 non-null    int64  \n",
            " 1   Glucose                   614 non-null    float64\n",
            " 2   BloodPressure             614 non-null    float64\n",
            " 3   SkinThickness             614 non-null    float64\n",
            " 4   Insulin                   614 non-null    float64\n",
            " 5   BMI                       614 non-null    float64\n",
            " 6   DiabetesPedigreeFunction  614 non-null    float64\n",
            " 7   Age                       614 non-null    int64  \n",
            " 8   Outcome                   614 non-null    int64  \n",
            " 9   fitness                   614 non-null    object \n",
            "dtypes: float64(6), int64(3), object(1)\n",
            "memory usage: 52.8+ KB\n"
          ]
        }
      ],
      "source": [
        "temp_df.info()"
      ]
    },
    {
      "cell_type": "markdown",
      "metadata": {
        "id": "vCk26tCY0qYm"
      },
      "source": [
        "Most machine learning algorithms work with numerical data, so whenever you have categorical attributes with text labels it can be useful to convert the labels into numbers. In our case, we could encode the text labels as follows: {\"bad\": 0, \"moderate\": 1, \"good\": 2, \"very good\": 3}. This can easily be done using scikit-learn's [LabelEncoder](http://scikit-learn.org/stable/modules/generated/sklearn.preprocessing.LabelEncoder.html)."
      ]
    },
    {
      "cell_type": "code",
      "execution_count": 50,
      "metadata": {
        "colab": {
          "base_uri": "https://localhost:8080/"
        },
        "id": "LS0-3XFd0qYn",
        "outputId": "b55b0383-1351-45a4-f9b4-e7030c010f55"
      },
      "outputs": [
        {
          "name": "stdout",
          "output_type": "stream",
          "text": [
            "class id 0 has label bad\n",
            "class id 1 has label good\n",
            "class id 2 has label moderate\n",
            "class id 3 has label very good\n",
            "\n",
            "Encoded fitness values for first 10 entries: [0 0 0 1 0 3 3 1 0 0]\n"
          ]
        }
      ],
      "source": [
        "from sklearn.preprocessing import LabelEncoder\n",
        "encoder = LabelEncoder()\n",
        "fitness_encoded = encoder.fit_transform(temp_df[\"fitness\"])\n",
        "\n",
        "for id_, class_ in enumerate(encoder.classes_):\n",
        "    print(f\"class id {id_} has label {class_}\")\n",
        "\n",
        "print()\n",
        "print(f\"Encoded fitness values for first 10 entries: {fitness_encoded[:10]}\")"
      ]
    },
    {
      "cell_type": "code",
      "execution_count": 51,
      "metadata": {
        "colab": {
          "base_uri": "https://localhost:8080/"
        },
        "id": "8bGqbK6yq4p6",
        "outputId": "d242160e-acf4-4bb8-994a-e53cd2aa4782"
      },
      "outputs": [
        {
          "data": {
            "text/plain": [
              "numpy.ndarray"
            ]
          },
          "execution_count": 51,
          "metadata": {},
          "output_type": "execute_result"
        }
      ],
      "source": [
        "type(fitness_encoded)"
      ]
    },
    {
      "cell_type": "code",
      "execution_count": 52,
      "metadata": {
        "colab": {
          "base_uri": "https://localhost:8080/",
          "height": 206
        },
        "id": "zM2BM5hpSIs1",
        "outputId": "bb8d6024-3589-49e0-bfd7-a64f2ee3745f"
      },
      "outputs": [
        {
          "data": {
            "text/html": [
              "<div>\n",
              "<style scoped>\n",
              "    .dataframe tbody tr th:only-of-type {\n",
              "        vertical-align: middle;\n",
              "    }\n",
              "\n",
              "    .dataframe tbody tr th {\n",
              "        vertical-align: top;\n",
              "    }\n",
              "\n",
              "    .dataframe thead th {\n",
              "        text-align: right;\n",
              "    }\n",
              "</style>\n",
              "<table border=\"1\" class=\"dataframe\">\n",
              "  <thead>\n",
              "    <tr style=\"text-align: right;\">\n",
              "      <th></th>\n",
              "      <th>Pregnancies</th>\n",
              "      <th>Glucose</th>\n",
              "      <th>BloodPressure</th>\n",
              "      <th>SkinThickness</th>\n",
              "      <th>Insulin</th>\n",
              "      <th>BMI</th>\n",
              "      <th>DiabetesPedigreeFunction</th>\n",
              "      <th>Age</th>\n",
              "      <th>Outcome</th>\n",
              "      <th>fitness</th>\n",
              "    </tr>\n",
              "  </thead>\n",
              "  <tbody>\n",
              "    <tr>\n",
              "      <th>455</th>\n",
              "      <td>14</td>\n",
              "      <td>175.0</td>\n",
              "      <td>62.0</td>\n",
              "      <td>30.0</td>\n",
              "      <td>125.0</td>\n",
              "      <td>33.6</td>\n",
              "      <td>0.212</td>\n",
              "      <td>38</td>\n",
              "      <td>1</td>\n",
              "      <td>0</td>\n",
              "    </tr>\n",
              "    <tr>\n",
              "      <th>74</th>\n",
              "      <td>1</td>\n",
              "      <td>79.0</td>\n",
              "      <td>75.0</td>\n",
              "      <td>30.0</td>\n",
              "      <td>125.0</td>\n",
              "      <td>32.0</td>\n",
              "      <td>0.396</td>\n",
              "      <td>22</td>\n",
              "      <td>0</td>\n",
              "      <td>0</td>\n",
              "    </tr>\n",
              "    <tr>\n",
              "      <th>184</th>\n",
              "      <td>4</td>\n",
              "      <td>141.0</td>\n",
              "      <td>74.0</td>\n",
              "      <td>29.0</td>\n",
              "      <td>125.0</td>\n",
              "      <td>27.6</td>\n",
              "      <td>0.244</td>\n",
              "      <td>40</td>\n",
              "      <td>0</td>\n",
              "      <td>0</td>\n",
              "    </tr>\n",
              "    <tr>\n",
              "      <th>486</th>\n",
              "      <td>1</td>\n",
              "      <td>139.0</td>\n",
              "      <td>62.0</td>\n",
              "      <td>41.0</td>\n",
              "      <td>480.0</td>\n",
              "      <td>40.7</td>\n",
              "      <td>0.536</td>\n",
              "      <td>21</td>\n",
              "      <td>0</td>\n",
              "      <td>1</td>\n",
              "    </tr>\n",
              "    <tr>\n",
              "      <th>625</th>\n",
              "      <td>4</td>\n",
              "      <td>90.0</td>\n",
              "      <td>88.0</td>\n",
              "      <td>47.0</td>\n",
              "      <td>54.0</td>\n",
              "      <td>37.7</td>\n",
              "      <td>0.362</td>\n",
              "      <td>29</td>\n",
              "      <td>0</td>\n",
              "      <td>0</td>\n",
              "    </tr>\n",
              "  </tbody>\n",
              "</table>\n",
              "</div>"
            ],
            "text/plain": [
              "     Pregnancies  Glucose  BloodPressure  SkinThickness  Insulin   BMI   \n",
              "455           14    175.0           62.0           30.0    125.0  33.6  \\\n",
              "74             1     79.0           75.0           30.0    125.0  32.0   \n",
              "184            4    141.0           74.0           29.0    125.0  27.6   \n",
              "486            1    139.0           62.0           41.0    480.0  40.7   \n",
              "625            4     90.0           88.0           47.0     54.0  37.7   \n",
              "\n",
              "     DiabetesPedigreeFunction  Age  Outcome  fitness  \n",
              "455                     0.212   38        1        0  \n",
              "74                      0.396   22        0        0  \n",
              "184                     0.244   40        0        0  \n",
              "486                     0.536   21        0        1  \n",
              "625                     0.362   29        0        0  "
            ]
          },
          "execution_count": 52,
          "metadata": {},
          "output_type": "execute_result"
        }
      ],
      "source": [
        "temp_df['fitness'] = fitness_encoded\n",
        "temp_df.head()"
      ]
    },
    {
      "cell_type": "code",
      "execution_count": 53,
      "metadata": {
        "colab": {
          "base_uri": "https://localhost:8080/"
        },
        "id": "NrB7TYDcSQUB",
        "outputId": "eaf68ef7-7476-4480-92f6-4dd476d1db4c"
      },
      "outputs": [
        {
          "name": "stdout",
          "output_type": "stream",
          "text": [
            "<class 'pandas.core.frame.DataFrame'>\n",
            "Index: 614 entries, 455 to 228\n",
            "Data columns (total 10 columns):\n",
            " #   Column                    Non-Null Count  Dtype  \n",
            "---  ------                    --------------  -----  \n",
            " 0   Pregnancies               614 non-null    int64  \n",
            " 1   Glucose                   614 non-null    float64\n",
            " 2   BloodPressure             614 non-null    float64\n",
            " 3   SkinThickness             614 non-null    float64\n",
            " 4   Insulin                   614 non-null    float64\n",
            " 5   BMI                       614 non-null    float64\n",
            " 6   DiabetesPedigreeFunction  614 non-null    float64\n",
            " 7   Age                       614 non-null    int64  \n",
            " 8   Outcome                   614 non-null    int64  \n",
            " 9   fitness                   614 non-null    int32  \n",
            "dtypes: float64(6), int32(1), int64(3)\n",
            "memory usage: 50.4 KB\n"
          ]
        }
      ],
      "source": [
        "temp_df.info()"
      ]
    },
    {
      "cell_type": "markdown",
      "metadata": {
        "id": "ppcojCET0qYn"
      },
      "source": [
        "An disadvantage of an integer encoding like {\"bad\": 0, \"moderate\": 1, \"good\": 2, \"very good\": 3} arises from the functioning of some machine learning algorithms: when comparing different data points, two nearby values (e.g. 2 and 3) will be considered more \"similar\" than distant values (like 0 and 3) although the corresponding categories might not necessarily be similar to each other.\n",
        "\n",
        "Another possibility (which solves the just mentioned problem) would be to create a *one-hot encoding* of the attribute values. In our case this means that each text label would become a binary attribute, e.g. \"bad fitness\", \"moderate fitness\", \"good fitness\" and \"very good fitness\". The labels would simply be 0 or 1.\n",
        "\n",
        "For example, if a person has a \"good\" fitness, the attributes \"bad fitness\", \"moderate fitness\" and \"very good fitness\" would be set to 0, the \"good fitness\" attribute to 1.\n",
        "\n",
        "To create one-hot encoded labels we could use scikit-learn's [OneHotEncoder](http://scikit-learn.org/stable/modules/generated/sklearn.preprocessing.OneHotEncoder.html) and [LabelBinarizer](http://scikit-learn.org/stable/modules/generated/sklearn.preprocessing.LabelBinarizer.html)."
      ]
    },
    {
      "cell_type": "code",
      "execution_count": null,
      "metadata": {
        "id": "VMFF0VM6S_kh"
      },
      "outputs": [],
      "source": []
    },
    {
      "cell_type": "markdown",
      "metadata": {
        "id": "Q7vnAyWf0qYn"
      },
      "source": [
        "## Rescaling or standardizing attributes\n",
        "\n",
        "Several algorithms are sensitive to the *scale* of numerical attributes and won't perform well if the attributes have very different scales.\n",
        "\n",
        "A classical example is the [k-nearest-neighbor algorithm](https://github.com/zotroneneis/machine_learning_basics/blob/master/k_nearest_neighbour.ipynb). When having an attribute \"age\" that ranges from 0 to 100 and an attribute \"income\" that ranges from 1 to 1.000.000, the attribute with the larger range will have a higher influence on the result.\n",
        "\n",
        "Therefore, whenever having attributes with different scales, make sure to rescale them. Two standard ways of rescaling are [min-max scaling](https://en.wikipedia.org/wiki/Feature_scaling) and [standardization](https://en.wikipedia.org/wiki/Feature_scaling).\n",
        "\n",
        "In min-max scaling each feature value is rescaled to be in the range from 0 to 1. The formula for applying min-max scaling to some attribute value $x_i$ is:   \n",
        "\n",
        "$x'_i = \\frac{x_i - min(x)}{max(x) - min(x)}$\n",
        "\n",
        "with $min(x)$ being the minimum value of attribute $x$ and $x'_i$ being the rescaled value of $x_i$.\n",
        "\n",
        "To perform min-max scaling we can use scikit-learn's [MinMax Scaler](http://scikit-learn.org/stable/modules/generated/sklearn.preprocessing.MinMaxScaler.html)."
      ]
    },
    {
      "cell_type": "code",
      "execution_count": 54,
      "metadata": {
        "colab": {
          "base_uri": "https://localhost:8080/",
          "height": 206
        },
        "id": "l1jQortA0qYo",
        "outputId": "6f5c2415-984c-4a30-c705-e387e45a9a91"
      },
      "outputs": [
        {
          "data": {
            "text/html": [
              "<div>\n",
              "<style scoped>\n",
              "    .dataframe tbody tr th:only-of-type {\n",
              "        vertical-align: middle;\n",
              "    }\n",
              "\n",
              "    .dataframe tbody tr th {\n",
              "        vertical-align: top;\n",
              "    }\n",
              "\n",
              "    .dataframe thead th {\n",
              "        text-align: right;\n",
              "    }\n",
              "</style>\n",
              "<table border=\"1\" class=\"dataframe\">\n",
              "  <thead>\n",
              "    <tr style=\"text-align: right;\">\n",
              "      <th></th>\n",
              "      <th>Pregnancies</th>\n",
              "      <th>Glucose</th>\n",
              "      <th>BloodPressure</th>\n",
              "      <th>SkinThickness</th>\n",
              "      <th>Insulin</th>\n",
              "      <th>BMI</th>\n",
              "      <th>DiabetesPedigreeFunction</th>\n",
              "      <th>Age</th>\n",
              "      <th>Outcome</th>\n",
              "    </tr>\n",
              "  </thead>\n",
              "  <tbody>\n",
              "    <tr>\n",
              "      <th>0</th>\n",
              "      <td>0.352941</td>\n",
              "      <td>0.643357</td>\n",
              "      <td>0.489796</td>\n",
              "      <td>0.304348</td>\n",
              "      <td>0.133413</td>\n",
              "      <td>0.314928</td>\n",
              "      <td>0.234415</td>\n",
              "      <td>0.483333</td>\n",
              "      <td>1.0</td>\n",
              "    </tr>\n",
              "    <tr>\n",
              "      <th>2</th>\n",
              "      <td>0.470588</td>\n",
              "      <td>0.888112</td>\n",
              "      <td>0.408163</td>\n",
              "      <td>0.239130</td>\n",
              "      <td>0.133413</td>\n",
              "      <td>0.104294</td>\n",
              "      <td>0.253629</td>\n",
              "      <td>0.183333</td>\n",
              "      <td>1.0</td>\n",
              "    </tr>\n",
              "    <tr>\n",
              "      <th>3</th>\n",
              "      <td>0.058824</td>\n",
              "      <td>0.230769</td>\n",
              "      <td>0.428571</td>\n",
              "      <td>0.173913</td>\n",
              "      <td>0.096154</td>\n",
              "      <td>0.202454</td>\n",
              "      <td>0.038002</td>\n",
              "      <td>0.000000</td>\n",
              "      <td>0.0</td>\n",
              "    </tr>\n",
              "    <tr>\n",
              "      <th>6</th>\n",
              "      <td>0.176471</td>\n",
              "      <td>0.153846</td>\n",
              "      <td>0.265306</td>\n",
              "      <td>0.271739</td>\n",
              "      <td>0.088942</td>\n",
              "      <td>0.261759</td>\n",
              "      <td>0.072588</td>\n",
              "      <td>0.083333</td>\n",
              "      <td>1.0</td>\n",
              "    </tr>\n",
              "    <tr>\n",
              "      <th>7</th>\n",
              "      <td>0.588235</td>\n",
              "      <td>0.412587</td>\n",
              "      <td>0.489796</td>\n",
              "      <td>0.239130</td>\n",
              "      <td>0.133413</td>\n",
              "      <td>0.349693</td>\n",
              "      <td>0.023911</td>\n",
              "      <td>0.133333</td>\n",
              "      <td>0.0</td>\n",
              "    </tr>\n",
              "  </tbody>\n",
              "</table>\n",
              "</div>"
            ],
            "text/plain": [
              "   Pregnancies   Glucose  BloodPressure  SkinThickness   Insulin       BMI   \n",
              "0     0.352941  0.643357       0.489796       0.304348  0.133413  0.314928  \\\n",
              "2     0.470588  0.888112       0.408163       0.239130  0.133413  0.104294   \n",
              "3     0.058824  0.230769       0.428571       0.173913  0.096154  0.202454   \n",
              "6     0.176471  0.153846       0.265306       0.271739  0.088942  0.261759   \n",
              "7     0.588235  0.412587       0.489796       0.239130  0.133413  0.349693   \n",
              "\n",
              "   DiabetesPedigreeFunction       Age  Outcome  \n",
              "0                  0.234415  0.483333      1.0  \n",
              "2                  0.253629  0.183333      1.0  \n",
              "3                  0.038002  0.000000      0.0  \n",
              "6                  0.072588  0.083333      1.0  \n",
              "7                  0.023911  0.133333      0.0  "
            ]
          },
          "execution_count": 54,
          "metadata": {},
          "output_type": "execute_result"
        }
      ],
      "source": [
        "from sklearn.preprocessing import MinMaxScaler\n",
        "\n",
        "# initialize min-max scaler\n",
        "mm_scaler = MinMaxScaler()\n",
        "\n",
        "temp1_df = train_df.copy()\n",
        "column_names = temp1_df.columns.tolist()\n",
        "\n",
        "# transform all attributes\n",
        "temp1_df[column_names] = mm_scaler.fit_transform(temp1_df[column_names])\n",
        "\n",
        "temp1_df.sort_index(inplace=True)\n",
        "temp1_df.head()"
      ]
    },
    {
      "cell_type": "markdown",
      "metadata": {
        "id": "gszoqmYv0qYo"
      },
      "source": [
        "Note: it's important that you fit the scaler only on the TRAINING set (not the test set!)\n",
        "\n",
        "The other approach, called **standardization** transform attributes such that they're distributed according to a standard normal distribution with mean 0 and standard deviation 1.   \n",
        "The formula for standardizing some attribute value $x_i$ is:   \n",
        "\n",
        "$x'_i = \\frac{x_i - mean(x)}{\\sigma(x)}$\n",
        "\n",
        "with $mean(x)$ being the mean of attribute $x$, $\\sigma(x)$ being the standard deviation of attribute $x$ and $x'_i$ being the rescaled value of $x_i$.\n",
        "\n",
        "To perform standardization we can use scikit-learn's [Standard Scaler](http://scikit-learn.org/stable/modules/generated/sklearn.preprocessing.StandardScaler.html)."
      ]
    },
    {
      "cell_type": "code",
      "execution_count": 55,
      "metadata": {
        "colab": {
          "base_uri": "https://localhost:8080/",
          "height": 206
        },
        "id": "LDkJopcW0qYo",
        "outputId": "07616f26-227f-4c73-ebfd-8abeaf48abcb"
      },
      "outputs": [
        {
          "data": {
            "text/html": [
              "<div>\n",
              "<style scoped>\n",
              "    .dataframe tbody tr th:only-of-type {\n",
              "        vertical-align: middle;\n",
              "    }\n",
              "\n",
              "    .dataframe tbody tr th {\n",
              "        vertical-align: top;\n",
              "    }\n",
              "\n",
              "    .dataframe thead th {\n",
              "        text-align: right;\n",
              "    }\n",
              "</style>\n",
              "<table border=\"1\" class=\"dataframe\">\n",
              "  <thead>\n",
              "    <tr style=\"text-align: right;\">\n",
              "      <th></th>\n",
              "      <th>Pregnancies</th>\n",
              "      <th>Glucose</th>\n",
              "      <th>BloodPressure</th>\n",
              "      <th>SkinThickness</th>\n",
              "      <th>Insulin</th>\n",
              "      <th>BMI</th>\n",
              "      <th>DiabetesPedigreeFunction</th>\n",
              "      <th>Age</th>\n",
              "      <th>Outcome</th>\n",
              "    </tr>\n",
              "  </thead>\n",
              "  <tbody>\n",
              "    <tr>\n",
              "      <th>0</th>\n",
              "      <td>0.352941</td>\n",
              "      <td>0.643357</td>\n",
              "      <td>0.489796</td>\n",
              "      <td>0.304348</td>\n",
              "      <td>0.133413</td>\n",
              "      <td>0.314928</td>\n",
              "      <td>0.234415</td>\n",
              "      <td>0.483333</td>\n",
              "      <td>1.0</td>\n",
              "    </tr>\n",
              "    <tr>\n",
              "      <th>2</th>\n",
              "      <td>0.470588</td>\n",
              "      <td>0.888112</td>\n",
              "      <td>0.408163</td>\n",
              "      <td>0.239130</td>\n",
              "      <td>0.133413</td>\n",
              "      <td>0.104294</td>\n",
              "      <td>0.253629</td>\n",
              "      <td>0.183333</td>\n",
              "      <td>1.0</td>\n",
              "    </tr>\n",
              "    <tr>\n",
              "      <th>3</th>\n",
              "      <td>0.058824</td>\n",
              "      <td>0.230769</td>\n",
              "      <td>0.428571</td>\n",
              "      <td>0.173913</td>\n",
              "      <td>0.096154</td>\n",
              "      <td>0.202454</td>\n",
              "      <td>0.038002</td>\n",
              "      <td>0.000000</td>\n",
              "      <td>0.0</td>\n",
              "    </tr>\n",
              "    <tr>\n",
              "      <th>6</th>\n",
              "      <td>0.176471</td>\n",
              "      <td>0.153846</td>\n",
              "      <td>0.265306</td>\n",
              "      <td>0.271739</td>\n",
              "      <td>0.088942</td>\n",
              "      <td>0.261759</td>\n",
              "      <td>0.072588</td>\n",
              "      <td>0.083333</td>\n",
              "      <td>1.0</td>\n",
              "    </tr>\n",
              "    <tr>\n",
              "      <th>7</th>\n",
              "      <td>0.588235</td>\n",
              "      <td>0.412587</td>\n",
              "      <td>0.489796</td>\n",
              "      <td>0.239130</td>\n",
              "      <td>0.133413</td>\n",
              "      <td>0.349693</td>\n",
              "      <td>0.023911</td>\n",
              "      <td>0.133333</td>\n",
              "      <td>0.0</td>\n",
              "    </tr>\n",
              "  </tbody>\n",
              "</table>\n",
              "</div>"
            ],
            "text/plain": [
              "   Pregnancies   Glucose  BloodPressure  SkinThickness   Insulin       BMI   \n",
              "0     0.352941  0.643357       0.489796       0.304348  0.133413  0.314928  \\\n",
              "2     0.470588  0.888112       0.408163       0.239130  0.133413  0.104294   \n",
              "3     0.058824  0.230769       0.428571       0.173913  0.096154  0.202454   \n",
              "6     0.176471  0.153846       0.265306       0.271739  0.088942  0.261759   \n",
              "7     0.588235  0.412587       0.489796       0.239130  0.133413  0.349693   \n",
              "\n",
              "   DiabetesPedigreeFunction       Age  Outcome  \n",
              "0                  0.234415  0.483333      1.0  \n",
              "2                  0.253629  0.183333      1.0  \n",
              "3                  0.038002  0.000000      0.0  \n",
              "6                  0.072588  0.083333      1.0  \n",
              "7                  0.023911  0.133333      0.0  "
            ]
          },
          "execution_count": 55,
          "metadata": {},
          "output_type": "execute_result"
        }
      ],
      "source": [
        "from sklearn.preprocessing import StandardScaler\n",
        "\n",
        "standard_scaler = StandardScaler()\n",
        "\n",
        "temp2_df = train_df.copy()\n",
        "\n",
        "# transform all attributes\n",
        "temp2_df[column_names] = mm_scaler.fit_transform(temp2_df[column_names])\n",
        "temp2_df.sort_index(inplace=True)\n",
        "temp2_df.head()"
      ]
    },
    {
      "cell_type": "code",
      "execution_count": 56,
      "metadata": {
        "colab": {
          "base_uri": "https://localhost:8080/",
          "height": 831
        },
        "id": "PsHLMazFse99",
        "outputId": "58eb06ef-c88d-4dfa-9cb1-70599e845b74"
      },
      "outputs": [
        {
          "data": {
            "image/png": "[encoded data removed]",
            "text/plain": [
              "<Figure size 2500x2000 with 9 Axes>"
            ]
          },
          "metadata": {},
          "output_type": "display_data"
        }
      ],
      "source": [
        "temp2_df.hist(bins=50, figsize=(25, 20))\n",
        "plt.show()"
      ]
    },
    {
      "cell_type": "markdown",
      "metadata": {
        "id": "w0aaDKF40qYp"
      },
      "source": [
        "These steps should be enough to get us started with training machine learning models on the data. If you want to know more about those, check out the other notebooks!"
      ]
    },
    {
      "cell_type": "code",
      "execution_count": null,
      "metadata": {
        "id": "6nK91cJKtWez"
      },
      "outputs": [],
      "source": []
    },
    {
      "cell_type": "code",
      "execution_count": null,
      "metadata": {
        "id": "yXdwHST5tWkm"
      },
      "outputs": [],
      "source": []
    },
    {
      "cell_type": "markdown",
      "metadata": {
        "id": "O8_RRatEtXuO"
      },
      "source": [
        "## Practice\n",
        "\n",
        "#### Think about the below dataset"
      ]
    },
    {
      "cell_type": "code",
      "execution_count": 57,
      "metadata": {
        "colab": {
          "base_uri": "https://localhost:8080/",
          "height": 250
        },
        "id": "DTYa8PMwtWnN",
        "outputId": "27d066a6-e851-4ae9-c3f1-d33403c1a6f8"
      },
      "outputs": [
        {
          "data": {
            "text/html": [
              "<div>\n",
              "<style scoped>\n",
              "    .dataframe tbody tr th:only-of-type {\n",
              "        vertical-align: middle;\n",
              "    }\n",
              "\n",
              "    .dataframe tbody tr th {\n",
              "        vertical-align: top;\n",
              "    }\n",
              "\n",
              "    .dataframe thead th {\n",
              "        text-align: right;\n",
              "    }\n",
              "</style>\n",
              "<table border=\"1\" class=\"dataframe\">\n",
              "  <thead>\n",
              "    <tr style=\"text-align: right;\">\n",
              "      <th></th>\n",
              "      <th>PassengerId</th>\n",
              "      <th>Survived</th>\n",
              "      <th>Pclass</th>\n",
              "      <th>Name</th>\n",
              "      <th>Sex</th>\n",
              "      <th>Age</th>\n",
              "      <th>SibSp</th>\n",
              "      <th>Parch</th>\n",
              "      <th>Ticket</th>\n",
              "      <th>Fare</th>\n",
              "      <th>Cabin</th>\n",
              "      <th>Embarked</th>\n",
              "    </tr>\n",
              "  </thead>\n",
              "  <tbody>\n",
              "    <tr>\n",
              "      <th>0</th>\n",
              "      <td>1</td>\n",
              "      <td>0</td>\n",
              "      <td>3</td>\n",
              "      <td>Braund, Mr. Owen Harris</td>\n",
              "      <td>male</td>\n",
              "      <td>22.0</td>\n",
              "      <td>1</td>\n",
              "      <td>0</td>\n",
              "      <td>A/5 21171</td>\n",
              "      <td>7.2500</td>\n",
              "      <td>NaN</td>\n",
              "      <td>S</td>\n",
              "    </tr>\n",
              "    <tr>\n",
              "      <th>1</th>\n",
              "      <td>2</td>\n",
              "      <td>1</td>\n",
              "      <td>1</td>\n",
              "      <td>Cumings, Mrs. John Bradley (Florence Briggs Th...</td>\n",
              "      <td>female</td>\n",
              "      <td>38.0</td>\n",
              "      <td>1</td>\n",
              "      <td>0</td>\n",
              "      <td>PC 17599</td>\n",
              "      <td>71.2833</td>\n",
              "      <td>C85</td>\n",
              "      <td>C</td>\n",
              "    </tr>\n",
              "    <tr>\n",
              "      <th>2</th>\n",
              "      <td>3</td>\n",
              "      <td>1</td>\n",
              "      <td>3</td>\n",
              "      <td>Heikkinen, Miss. Laina</td>\n",
              "      <td>female</td>\n",
              "      <td>26.0</td>\n",
              "      <td>0</td>\n",
              "      <td>0</td>\n",
              "      <td>STON/O2. 3101282</td>\n",
              "      <td>7.9250</td>\n",
              "      <td>NaN</td>\n",
              "      <td>S</td>\n",
              "    </tr>\n",
              "    <tr>\n",
              "      <th>3</th>\n",
              "      <td>4</td>\n",
              "      <td>1</td>\n",
              "      <td>1</td>\n",
              "      <td>Futrelle, Mrs. Jacques Heath (Lily May Peel)</td>\n",
              "      <td>female</td>\n",
              "      <td>35.0</td>\n",
              "      <td>1</td>\n",
              "      <td>0</td>\n",
              "      <td>113803</td>\n",
              "      <td>53.1000</td>\n",
              "      <td>C123</td>\n",
              "      <td>S</td>\n",
              "    </tr>\n",
              "    <tr>\n",
              "      <th>4</th>\n",
              "      <td>5</td>\n",
              "      <td>0</td>\n",
              "      <td>3</td>\n",
              "      <td>Allen, Mr. William Henry</td>\n",
              "      <td>male</td>\n",
              "      <td>35.0</td>\n",
              "      <td>0</td>\n",
              "      <td>0</td>\n",
              "      <td>373450</td>\n",
              "      <td>8.0500</td>\n",
              "      <td>NaN</td>\n",
              "      <td>S</td>\n",
              "    </tr>\n",
              "  </tbody>\n",
              "</table>\n",
              "</div>"
            ],
            "text/plain": [
              "   PassengerId  Survived  Pclass   \n",
              "0            1         0       3  \\\n",
              "1            2         1       1   \n",
              "2            3         1       3   \n",
              "3            4         1       1   \n",
              "4            5         0       3   \n",
              "\n",
              "                                                Name     Sex   Age  SibSp   \n",
              "0                            Braund, Mr. Owen Harris    male  22.0      1  \\\n",
              "1  Cumings, Mrs. John Bradley (Florence Briggs Th...  female  38.0      1   \n",
              "2                             Heikkinen, Miss. Laina  female  26.0      0   \n",
              "3       Futrelle, Mrs. Jacques Heath (Lily May Peel)  female  35.0      1   \n",
              "4                           Allen, Mr. William Henry    male  35.0      0   \n",
              "\n",
              "   Parch            Ticket     Fare Cabin Embarked  \n",
              "0      0         A/5 21171   7.2500   NaN        S  \n",
              "1      0          PC 17599  71.2833   C85        C  \n",
              "2      0  STON/O2. 3101282   7.9250   NaN        S  \n",
              "3      0            113803  53.1000  C123        S  \n",
              "4      0            373450   8.0500   NaN        S  "
            ]
          },
          "execution_count": 57,
          "metadata": {},
          "output_type": "execute_result"
        }
      ],
      "source": [
        "data = pd.read_csv('https://raw.githubusercontent.com/agconti/kaggle-titanic/master/data/train.csv')\n",
        "data.head()"
      ]
    },
    {
      "cell_type": "code",
      "execution_count": 58,
      "metadata": {
        "colab": {
          "base_uri": "https://localhost:8080/"
        },
        "id": "OLwuOQrQtui9",
        "outputId": "9a3d9045-e11b-40dd-c432-5e7dc7952e70"
      },
      "outputs": [
        {
          "name": "stdout",
          "output_type": "stream",
          "text": [
            "<class 'pandas.core.frame.DataFrame'>\n",
            "RangeIndex: 891 entries, 0 to 890\n",
            "Data columns (total 12 columns):\n",
            " #   Column       Non-Null Count  Dtype  \n",
            "---  ------       --------------  -----  \n",
            " 0   PassengerId  891 non-null    int64  \n",
            " 1   Survived     891 non-null    int64  \n",
            " 2   Pclass       891 non-null    int64  \n",
            " 3   Name         891 non-null    object \n",
            " 4   Sex          891 non-null    object \n",
            " 5   Age          714 non-null    float64\n",
            " 6   SibSp        891 non-null    int64  \n",
            " 7   Parch        891 non-null    int64  \n",
            " 8   Ticket       891 non-null    object \n",
            " 9   Fare         891 non-null    float64\n",
            " 10  Cabin        204 non-null    object \n",
            " 11  Embarked     889 non-null    object \n",
            "dtypes: float64(2), int64(5), object(5)\n",
            "memory usage: 83.7+ KB\n"
          ]
        }
      ],
      "source": [
        "data.info()"
      ]
    },
    {
      "cell_type": "markdown",
      "metadata": {
        "id": "QsmI9xj2Y1TZ"
      },
      "source": [
        "#### Second practice"
      ]
    },
    {
      "cell_type": "code",
      "execution_count": 59,
      "metadata": {
        "colab": {
          "base_uri": "https://localhost:8080/",
          "height": 577
        },
        "id": "0u5Myq9xtfC0",
        "outputId": "3b299342-49a7-4b5b-dbb8-7d1ade4e598c"
      },
      "outputs": [
        {
          "data": {
            "text/html": [
              "<div>\n",
              "<style scoped>\n",
              "    .dataframe tbody tr th:only-of-type {\n",
              "        vertical-align: middle;\n",
              "    }\n",
              "\n",
              "    .dataframe tbody tr th {\n",
              "        vertical-align: top;\n",
              "    }\n",
              "\n",
              "    .dataframe thead th {\n",
              "        text-align: right;\n",
              "    }\n",
              "</style>\n",
              "<table border=\"1\" class=\"dataframe\">\n",
              "  <thead>\n",
              "    <tr style=\"text-align: right;\">\n",
              "      <th></th>\n",
              "      <th>AvgTicketPrice</th>\n",
              "      <th>Cancelled</th>\n",
              "      <th>Dest</th>\n",
              "      <th>DestAirportID</th>\n",
              "      <th>DestCityName</th>\n",
              "      <th>DestCountry</th>\n",
              "      <th>DestLocation</th>\n",
              "      <th>DestRegion</th>\n",
              "      <th>DestWeather</th>\n",
              "      <th>DistanceKilometers</th>\n",
              "      <th>...</th>\n",
              "      <th>FlightTimeMin</th>\n",
              "      <th>Origin</th>\n",
              "      <th>OriginAirportID</th>\n",
              "      <th>OriginCityName</th>\n",
              "      <th>OriginCountry</th>\n",
              "      <th>OriginLocation</th>\n",
              "      <th>OriginRegion</th>\n",
              "      <th>OriginWeather</th>\n",
              "      <th>dayOfWeek</th>\n",
              "      <th>hour_of_day</th>\n",
              "    </tr>\n",
              "  </thead>\n",
              "  <tbody>\n",
              "    <tr>\n",
              "      <th>0</th>\n",
              "      <td>$668.22</td>\n",
              "      <td>False</td>\n",
              "      <td>San Francisco International Airport</td>\n",
              "      <td>SFO</td>\n",
              "      <td>San Francisco</td>\n",
              "      <td>US</td>\n",
              "      <td>{\\n  \"lat\": \"37.61899948\",\\n  \"lon\": \"-122.375...</td>\n",
              "      <td>US-CA</td>\n",
              "      <td>Sunny</td>\n",
              "      <td>10,260.84</td>\n",
              "      <td>...</td>\n",
              "      <td>488.611</td>\n",
              "      <td>Naples International Airport</td>\n",
              "      <td>NA01</td>\n",
              "      <td>Naples</td>\n",
              "      <td>IT</td>\n",
              "      <td>{\\n  \"lat\": \"40.886002\",\\n  \"lon\": \"14.2908\"\\n}</td>\n",
              "      <td>IT-72</td>\n",
              "      <td>Sunny</td>\n",
              "      <td>5</td>\n",
              "      <td>16</td>\n",
              "    </tr>\n",
              "    <tr>\n",
              "      <th>1</th>\n",
              "      <td>$519.25</td>\n",
              "      <td>False</td>\n",
              "      <td>Tulsa International Airport</td>\n",
              "      <td>TUL</td>\n",
              "      <td>Tulsa</td>\n",
              "      <td>US</td>\n",
              "      <td>{\\n  \"lat\": \"36.19839859\",\\n  \"lon\": \"-95.8880...</td>\n",
              "      <td>US-OK</td>\n",
              "      <td>Sunny</td>\n",
              "      <td>4,137.26</td>\n",
              "      <td>...</td>\n",
              "      <td>376.115</td>\n",
              "      <td>El Dorado International Airport</td>\n",
              "      <td>BOG</td>\n",
              "      <td>Bogota</td>\n",
              "      <td>CO</td>\n",
              "      <td>{\\n  \"lat\": \"4.70159\",\\n  \"lon\": \"-74.1469\"\\n}</td>\n",
              "      <td>SE-BD</td>\n",
              "      <td>Rain</td>\n",
              "      <td>5</td>\n",
              "      <td>16</td>\n",
              "    </tr>\n",
              "    <tr>\n",
              "      <th>2</th>\n",
              "      <td>$847.82</td>\n",
              "      <td>False</td>\n",
              "      <td>Winnipeg / James Armstrong Richardson Internat...</td>\n",
              "      <td>YWG</td>\n",
              "      <td>Winnipeg</td>\n",
              "      <td>CA</td>\n",
              "      <td>{\\n  \"lat\": \"49.90999985\",\\n  \"lon\": \"-97.2398...</td>\n",
              "      <td>CA-MB</td>\n",
              "      <td>Sunny</td>\n",
              "      <td>11,251.57</td>\n",
              "      <td>...</td>\n",
              "      <td>625.087</td>\n",
              "      <td>Dubai International Airport</td>\n",
              "      <td>DXB</td>\n",
              "      <td>Dubai</td>\n",
              "      <td>AE</td>\n",
              "      <td>{\\n  \"lat\": \"25.25279999\",\\n  \"lon\": \"55.36439...</td>\n",
              "      <td>SE-BD</td>\n",
              "      <td>Sunny</td>\n",
              "      <td>5</td>\n",
              "      <td>16</td>\n",
              "    </tr>\n",
              "    <tr>\n",
              "      <th>3</th>\n",
              "      <td>$572.58</td>\n",
              "      <td>False</td>\n",
              "      <td>Xi'an Xianyang International Airport</td>\n",
              "      <td>XIY</td>\n",
              "      <td>Xi'an</td>\n",
              "      <td>CN</td>\n",
              "      <td>{\\n  \"lat\": \"34.447102\",\\n  \"lon\": \"108.751999...</td>\n",
              "      <td>SE-BD</td>\n",
              "      <td>Clear</td>\n",
              "      <td>3,566.19</td>\n",
              "      <td>...</td>\n",
              "      <td>169.818</td>\n",
              "      <td>Rajiv Gandhi International Airport</td>\n",
              "      <td>HYD</td>\n",
              "      <td>Hyderabad</td>\n",
              "      <td>IN</td>\n",
              "      <td>{\\n  \"lat\": \"17.23131752\",\\n  \"lon\": \"78.42985...</td>\n",
              "      <td>SE-BD</td>\n",
              "      <td>Clear</td>\n",
              "      <td>5</td>\n",
              "      <td>16</td>\n",
              "    </tr>\n",
              "    <tr>\n",
              "      <th>4</th>\n",
              "      <td>$1,146.29</td>\n",
              "      <td>False</td>\n",
              "      <td>Malpensa International Airport</td>\n",
              "      <td>MI12</td>\n",
              "      <td>Milan</td>\n",
              "      <td>IT</td>\n",
              "      <td>{\\n  \"lat\": \"45.6306\",\\n  \"lon\": \"8.72811\"\\n}</td>\n",
              "      <td>IT-25</td>\n",
              "      <td>Rain</td>\n",
              "      <td>6,629.76</td>\n",
              "      <td>...</td>\n",
              "      <td>887.705</td>\n",
              "      <td>Lester B. Pearson International Airport</td>\n",
              "      <td>YYZ</td>\n",
              "      <td>Toronto</td>\n",
              "      <td>CA</td>\n",
              "      <td>{\\n  \"lat\": \"43.67720032\",\\n  \"lon\": \"-79.6305...</td>\n",
              "      <td>CA-ON</td>\n",
              "      <td>Rain</td>\n",
              "      <td>5</td>\n",
              "      <td>16</td>\n",
              "    </tr>\n",
              "  </tbody>\n",
              "</table>\n",
              "<p>5 rows × 26 columns</p>\n",
              "</div>"
            ],
            "text/plain": [
              "  AvgTicketPrice  Cancelled   \n",
              "0       $668.22       False  \\\n",
              "1       $519.25       False   \n",
              "2       $847.82       False   \n",
              "3       $572.58       False   \n",
              "4     $1,146.29       False   \n",
              "\n",
              "                                                Dest DestAirportID   \n",
              "0                San Francisco International Airport           SFO  \\\n",
              "1                        Tulsa International Airport           TUL   \n",
              "2  Winnipeg / James Armstrong Richardson Internat...           YWG   \n",
              "3               Xi'an Xianyang International Airport           XIY   \n",
              "4                     Malpensa International Airport          MI12   \n",
              "\n",
              "    DestCityName DestCountry   \n",
              "0  San Francisco          US  \\\n",
              "1          Tulsa          US   \n",
              "2       Winnipeg          CA   \n",
              "3          Xi'an          CN   \n",
              "4          Milan          IT   \n",
              "\n",
              "                                        DestLocation DestRegion DestWeather   \n",
              "0  {\\n  \"lat\": \"37.61899948\",\\n  \"lon\": \"-122.375...      US-CA       Sunny  \\\n",
              "1  {\\n  \"lat\": \"36.19839859\",\\n  \"lon\": \"-95.8880...      US-OK       Sunny   \n",
              "2  {\\n  \"lat\": \"49.90999985\",\\n  \"lon\": \"-97.2398...      CA-MB       Sunny   \n",
              "3  {\\n  \"lat\": \"34.447102\",\\n  \"lon\": \"108.751999...      SE-BD       Clear   \n",
              "4      {\\n  \"lat\": \"45.6306\",\\n  \"lon\": \"8.72811\"\\n}      IT-25        Rain   \n",
              "\n",
              "  DistanceKilometers  ... FlightTimeMin   \n",
              "0          10,260.84  ...       488.611  \\\n",
              "1           4,137.26  ...       376.115   \n",
              "2          11,251.57  ...       625.087   \n",
              "3           3,566.19  ...       169.818   \n",
              "4           6,629.76  ...       887.705   \n",
              "\n",
              "                                    Origin  OriginAirportID OriginCityName   \n",
              "0             Naples International Airport             NA01         Naples  \\\n",
              "1          El Dorado International Airport              BOG         Bogota   \n",
              "2              Dubai International Airport              DXB          Dubai   \n",
              "3       Rajiv Gandhi International Airport              HYD      Hyderabad   \n",
              "4  Lester B. Pearson International Airport              YYZ        Toronto   \n",
              "\n",
              "  OriginCountry                                     OriginLocation   \n",
              "0            IT    {\\n  \"lat\": \"40.886002\",\\n  \"lon\": \"14.2908\"\\n}  \\\n",
              "1            CO     {\\n  \"lat\": \"4.70159\",\\n  \"lon\": \"-74.1469\"\\n}   \n",
              "2            AE  {\\n  \"lat\": \"25.25279999\",\\n  \"lon\": \"55.36439...   \n",
              "3            IN  {\\n  \"lat\": \"17.23131752\",\\n  \"lon\": \"78.42985...   \n",
              "4            CA  {\\n  \"lat\": \"43.67720032\",\\n  \"lon\": \"-79.6305...   \n",
              "\n",
              "  OriginRegion OriginWeather dayOfWeek hour_of_day  \n",
              "0        IT-72         Sunny         5          16  \n",
              "1        SE-BD          Rain         5          16  \n",
              "2        SE-BD         Sunny         5          16  \n",
              "3        SE-BD         Clear         5          16  \n",
              "4        CA-ON          Rain         5          16  \n",
              "\n",
              "[5 rows x 26 columns]"
            ]
          },
          "execution_count": 59,
          "metadata": {},
          "output_type": "execute_result"
        }
      ],
      "source": [
        "import pandas as pd\n",
        "\n",
        "data = pd.read_csv('https://raw.githubusercontent.com/mdrilwan/datasets/master/flights.csv')\n",
        "data.head()"
      ]
    },
    {
      "cell_type": "code",
      "execution_count": null,
      "metadata": {
        "id": "YkpS2cjpZDpQ"
      },
      "outputs": [],
      "source": []
    }
  ],
  "metadata": {
    "anaconda-cloud": {},
    "colab": {
      "provenance": []
    },
    "kernelspec": {
      "display_name": "Python [default]",
      "language": "python",
      "name": "python3"
    },
    "language_info": {
      "codemirror_mode": {
        "name": "ipython",
        "version": 3
      },
      "file_extension": ".py",
      "mimetype": "text/x-python",
      "name": "python",
      "nbconvert_exporter": "python",
      "pygments_lexer": "ipython3",
      "version": "3.11.2"
    }
  },
  "nbformat": 4,
  "nbformat_minor": 0
}
