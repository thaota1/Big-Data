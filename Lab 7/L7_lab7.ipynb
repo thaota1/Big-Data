{
  "cells": [
    {
      "cell_type": "code",
      "execution_count": 158,
      "metadata": {
        "id": "qek60uWZPX_f"
      },
      "outputs": [],
      "source": [
        "import os\n",
        "from glob import glob\n",
        "import dask.dataframe as dd\n",
        "import pandas as pd\n",
        "import dask\n",
        "import dask.array as da"
      ]
    },
    {
      "cell_type": "code",
      "execution_count": 159,
      "metadata": {
        "id": "1iX-PieFPX_g"
      },
      "outputs": [],
      "source": [
        "# Uncomment the following lines if you want to use the distributed scheduler\n",
        "# from dask.distributed import Client\n",
        "# client = Client()"
      ]
    },
    {
      "cell_type": "code",
      "execution_count": 160,
      "metadata": {
        "id": "7Mvyzne9PX_h"
      },
      "outputs": [],
      "source": [
        "payroll_glob = \"./data/*.csv\""
      ]
    },
    {
      "cell_type": "markdown",
      "metadata": {
        "id": "IHDyNxkdPX_h"
      },
      "source": [
        "__Exercise__\n",
        "\n",
        "Incrementally calculate the mean `base_salary` of all CSVs in `/payroll-small/` using `pandas`. Time the entire computation using `%%time` as the first line of the cell.\n",
        "\n",
        "Do not use any Dask functions."
      ]
    },
    {
      "cell_type": "code",
      "execution_count": 161,
      "metadata": {
        "id": "ICweLMoPPX_i"
      },
      "outputs": [],
      "source": [
        "#!ls ./payroll-small/"
      ]
    },
    {
      "cell_type": "code",
      "execution_count": 162,
      "metadata": {
        "id": "zre-weY6PX_i"
      },
      "outputs": [],
      "source": [
        "#%%time\n"
      ]
    },
    {
      "cell_type": "code",
      "execution_count": 163,
      "metadata": {},
      "outputs": [
        {
          "name": "stdout",
          "output_type": "stream",
          "text": [
            "Mean Base Salary: 44387.192021095216\n",
            "CPU times: total: 156 ms\n",
            "Wall time: 168 ms\n"
          ]
        }
      ],
      "source": [
        "%%time\n",
        "directory_path = 'data'\n",
        "\n",
        "total_salary = 0\n",
        "num_rows = 0\n",
        "\n",
        "## Iterate over each CSV file in the directory\n",
        "for filename in os.listdir(directory_path):\n",
        "    if filename.endswith(\".csv\"):\n",
        "        file_path = os.path.join(directory_path, filename)\n",
        "        \n",
        "        ## Load csv into a DataFrame\n",
        "        df1 = pd.read_csv(file_path)\n",
        "        \n",
        "        ## Incrementally calculate mean base_salary\n",
        "        total_salary += df1['base_salary'].sum()\n",
        "        num_rows += len(df1)\n",
        "\n",
        "\n",
        "mean_base_salary = total_salary / num_rows\n",
        "\n",
        "# Print the result\n",
        "print(\"Mean Base Salary:\", mean_base_salary)\n"
      ]
    },
    {
      "cell_type": "markdown",
      "metadata": {
        "id": "hz4WxV3wPX_i"
      },
      "source": [
        "__Exercise__\n",
        "\n",
        "Load all the payroll CSVs using `dd.read_csv` and assign it to `payroll`. Calculate the number of partitions in the DataFrame."
      ]
    },
    {
      "cell_type": "code",
      "execution_count": 164,
      "metadata": {},
      "outputs": [],
      "source": [
        "payroll = df1 "
      ]
    },
    {
      "cell_type": "code",
      "execution_count": 165,
      "metadata": {},
      "outputs": [
        {
          "data": {
            "text/html": [
              "<div>\n",
              "<style scoped>\n",
              "    .dataframe tbody tr th:only-of-type {\n",
              "        vertical-align: middle;\n",
              "    }\n",
              "\n",
              "    .dataframe tbody tr th {\n",
              "        vertical-align: top;\n",
              "    }\n",
              "\n",
              "    .dataframe thead th {\n",
              "        text-align: right;\n",
              "    }\n",
              "</style>\n",
              "<table border=\"1\" class=\"dataframe\">\n",
              "  <thead>\n",
              "    <tr style=\"text-align: right;\">\n",
              "      <th></th>\n",
              "      <th>fiscal_year</th>\n",
              "      <th>agency_name</th>\n",
              "      <th>agency_start_date</th>\n",
              "      <th>work_location_borough</th>\n",
              "      <th>title_description</th>\n",
              "      <th>leave_status_as_of_june_30</th>\n",
              "      <th>base_salary</th>\n",
              "      <th>pay_basis</th>\n",
              "      <th>regular_hours</th>\n",
              "      <th>regular_gross_paid</th>\n",
              "      <th>ot_hours</th>\n",
              "      <th>total_ot_paid</th>\n",
              "      <th>total_other_pay</th>\n",
              "    </tr>\n",
              "  </thead>\n",
              "  <tbody>\n",
              "    <tr>\n",
              "      <th>0</th>\n",
              "      <td>2019</td>\n",
              "      <td>DEPT OF ED PARA PROFESSIONALS</td>\n",
              "      <td>2004-10-05</td>\n",
              "      <td>MANHATTAN</td>\n",
              "      <td>ANNUAL ED PARA</td>\n",
              "      <td>CEASED</td>\n",
              "      <td>41841.00</td>\n",
              "      <td>per Annum</td>\n",
              "      <td>0.00</td>\n",
              "      <td>6857.28</td>\n",
              "      <td>0.0</td>\n",
              "      <td>0.00</td>\n",
              "      <td>0.00</td>\n",
              "    </tr>\n",
              "    <tr>\n",
              "      <th>1</th>\n",
              "      <td>2019</td>\n",
              "      <td>DEPT OF ED PER SESSION TEACHER</td>\n",
              "      <td>1996-10-16</td>\n",
              "      <td>MANHATTAN</td>\n",
              "      <td>TEACHER- PER SESSION</td>\n",
              "      <td>CEASED</td>\n",
              "      <td>33.18</td>\n",
              "      <td>per Day</td>\n",
              "      <td>0.00</td>\n",
              "      <td>740.60</td>\n",
              "      <td>0.0</td>\n",
              "      <td>0.00</td>\n",
              "      <td>0.00</td>\n",
              "    </tr>\n",
              "    <tr>\n",
              "      <th>2</th>\n",
              "      <td>2019</td>\n",
              "      <td>DEPT OF ED PARA PROFESSIONALS</td>\n",
              "      <td>1999-05-25</td>\n",
              "      <td>MANHATTAN</td>\n",
              "      <td>ANNUAL ED PARA</td>\n",
              "      <td>ACTIVE</td>\n",
              "      <td>39830.00</td>\n",
              "      <td>per Annum</td>\n",
              "      <td>0.00</td>\n",
              "      <td>51968.92</td>\n",
              "      <td>0.0</td>\n",
              "      <td>11.08</td>\n",
              "      <td>0.00</td>\n",
              "    </tr>\n",
              "    <tr>\n",
              "      <th>3</th>\n",
              "      <td>2019</td>\n",
              "      <td>DEPT OF ED PEDAGOGICAL</td>\n",
              "      <td>1998-11-23</td>\n",
              "      <td>MANHATTAN</td>\n",
              "      <td>TEACHER SPECIAL EDUCATION</td>\n",
              "      <td>ACTIVE</td>\n",
              "      <td>115959.00</td>\n",
              "      <td>per Annum</td>\n",
              "      <td>0.00</td>\n",
              "      <td>120026.71</td>\n",
              "      <td>0.0</td>\n",
              "      <td>0.00</td>\n",
              "      <td>0.00</td>\n",
              "    </tr>\n",
              "    <tr>\n",
              "      <th>4</th>\n",
              "      <td>2019</td>\n",
              "      <td>DEPT OF ED PER SESSION TEACHER</td>\n",
              "      <td>2008-06-23</td>\n",
              "      <td>MANHATTAN</td>\n",
              "      <td>TEACHER- PER SESSION</td>\n",
              "      <td>ACTIVE</td>\n",
              "      <td>33.18</td>\n",
              "      <td>per Day</td>\n",
              "      <td>0.00</td>\n",
              "      <td>1539.61</td>\n",
              "      <td>0.0</td>\n",
              "      <td>0.00</td>\n",
              "      <td>2.03</td>\n",
              "    </tr>\n",
              "    <tr>\n",
              "      <th>...</th>\n",
              "      <td>...</td>\n",
              "      <td>...</td>\n",
              "      <td>...</td>\n",
              "      <td>...</td>\n",
              "      <td>...</td>\n",
              "      <td>...</td>\n",
              "      <td>...</td>\n",
              "      <td>...</td>\n",
              "      <td>...</td>\n",
              "      <td>...</td>\n",
              "      <td>...</td>\n",
              "      <td>...</td>\n",
              "      <td>...</td>\n",
              "    </tr>\n",
              "    <tr>\n",
              "      <th>29617</th>\n",
              "      <td>2019</td>\n",
              "      <td>DEPT OF PARKS &amp; RECREATION</td>\n",
              "      <td>2018-03-30</td>\n",
              "      <td>MANHATTAN</td>\n",
              "      <td>JOB TRAINING PARTICIPANT</td>\n",
              "      <td>CEASED</td>\n",
              "      <td>15.00</td>\n",
              "      <td>per Hour</td>\n",
              "      <td>577.88</td>\n",
              "      <td>8910.10</td>\n",
              "      <td>48.0</td>\n",
              "      <td>963.90</td>\n",
              "      <td>56.16</td>\n",
              "    </tr>\n",
              "    <tr>\n",
              "      <th>29618</th>\n",
              "      <td>2019</td>\n",
              "      <td>POLICE DEPARTMENT</td>\n",
              "      <td>1999-02-10</td>\n",
              "      <td>BROOKLYN</td>\n",
              "      <td>SENIOR POLICE ADMINISTRATIVE AIDE</td>\n",
              "      <td>ACTIVE</td>\n",
              "      <td>54110.00</td>\n",
              "      <td>per Annum</td>\n",
              "      <td>1785.00</td>\n",
              "      <td>51432.93</td>\n",
              "      <td>1.0</td>\n",
              "      <td>30.42</td>\n",
              "      <td>6264.69</td>\n",
              "    </tr>\n",
              "    <tr>\n",
              "      <th>29619</th>\n",
              "      <td>2019</td>\n",
              "      <td>DEPT OF HEALTH/MENTAL HYGIENE</td>\n",
              "      <td>2018-01-16</td>\n",
              "      <td>QUEENS</td>\n",
              "      <td>NUTRITIONIST</td>\n",
              "      <td>ACTIVE</td>\n",
              "      <td>57610.00</td>\n",
              "      <td>per Annum</td>\n",
              "      <td>1825.00</td>\n",
              "      <td>57681.37</td>\n",
              "      <td>0.0</td>\n",
              "      <td>0.00</td>\n",
              "      <td>109.15</td>\n",
              "    </tr>\n",
              "    <tr>\n",
              "      <th>29620</th>\n",
              "      <td>2019</td>\n",
              "      <td>DEPT OF HEALTH/MENTAL HYGIENE</td>\n",
              "      <td>2018-02-26</td>\n",
              "      <td>BRONX</td>\n",
              "      <td>JR PHNURSE</td>\n",
              "      <td>ACTIVE</td>\n",
              "      <td>33.72</td>\n",
              "      <td>per Hour</td>\n",
              "      <td>1477.00</td>\n",
              "      <td>55199.61</td>\n",
              "      <td>133.0</td>\n",
              "      <td>5136.33</td>\n",
              "      <td>6749.78</td>\n",
              "    </tr>\n",
              "    <tr>\n",
              "      <th>29621</th>\n",
              "      <td>2019</td>\n",
              "      <td>DEPT OF HEALTH/MENTAL HYGIENE</td>\n",
              "      <td>2014-09-02</td>\n",
              "      <td>QUEENS</td>\n",
              "      <td>JR PHNURSE</td>\n",
              "      <td>ACTIVE</td>\n",
              "      <td>33.72</td>\n",
              "      <td>per Hour</td>\n",
              "      <td>1552.25</td>\n",
              "      <td>63718.94</td>\n",
              "      <td>1.0</td>\n",
              "      <td>61.41</td>\n",
              "      <td>8629.98</td>\n",
              "    </tr>\n",
              "  </tbody>\n",
              "</table>\n",
              "<p>29622 rows × 13 columns</p>\n",
              "</div>"
            ],
            "text/plain": [
              "       fiscal_year                     agency_name agency_start_date  \\\n",
              "0             2019   DEPT OF ED PARA PROFESSIONALS        2004-10-05   \n",
              "1             2019  DEPT OF ED PER SESSION TEACHER        1996-10-16   \n",
              "2             2019   DEPT OF ED PARA PROFESSIONALS        1999-05-25   \n",
              "3             2019          DEPT OF ED PEDAGOGICAL        1998-11-23   \n",
              "4             2019  DEPT OF ED PER SESSION TEACHER        2008-06-23   \n",
              "...            ...                             ...               ...   \n",
              "29617         2019      DEPT OF PARKS & RECREATION        2018-03-30   \n",
              "29618         2019               POLICE DEPARTMENT        1999-02-10   \n",
              "29619         2019   DEPT OF HEALTH/MENTAL HYGIENE        2018-01-16   \n",
              "29620         2019   DEPT OF HEALTH/MENTAL HYGIENE        2018-02-26   \n",
              "29621         2019   DEPT OF HEALTH/MENTAL HYGIENE        2014-09-02   \n",
              "\n",
              "      work_location_borough                  title_description  \\\n",
              "0                 MANHATTAN                     ANNUAL ED PARA   \n",
              "1                 MANHATTAN               TEACHER- PER SESSION   \n",
              "2                 MANHATTAN                     ANNUAL ED PARA   \n",
              "3                 MANHATTAN          TEACHER SPECIAL EDUCATION   \n",
              "4                 MANHATTAN               TEACHER- PER SESSION   \n",
              "...                     ...                                ...   \n",
              "29617             MANHATTAN           JOB TRAINING PARTICIPANT   \n",
              "29618              BROOKLYN  SENIOR POLICE ADMINISTRATIVE AIDE   \n",
              "29619                QUEENS                       NUTRITIONIST   \n",
              "29620                 BRONX                         JR PHNURSE   \n",
              "29621                QUEENS                         JR PHNURSE   \n",
              "\n",
              "      leave_status_as_of_june_30  base_salary  pay_basis  regular_hours  \\\n",
              "0                         CEASED     41841.00  per Annum           0.00   \n",
              "1                         CEASED        33.18    per Day           0.00   \n",
              "2                         ACTIVE     39830.00  per Annum           0.00   \n",
              "3                         ACTIVE    115959.00  per Annum           0.00   \n",
              "4                         ACTIVE        33.18    per Day           0.00   \n",
              "...                          ...          ...        ...            ...   \n",
              "29617                     CEASED        15.00   per Hour         577.88   \n",
              "29618                     ACTIVE     54110.00  per Annum        1785.00   \n",
              "29619                     ACTIVE     57610.00  per Annum        1825.00   \n",
              "29620                     ACTIVE        33.72   per Hour        1477.00   \n",
              "29621                     ACTIVE        33.72   per Hour        1552.25   \n",
              "\n",
              "       regular_gross_paid  ot_hours  total_ot_paid  total_other_pay  \n",
              "0                 6857.28       0.0           0.00             0.00  \n",
              "1                  740.60       0.0           0.00             0.00  \n",
              "2                51968.92       0.0          11.08             0.00  \n",
              "3               120026.71       0.0           0.00             0.00  \n",
              "4                 1539.61       0.0           0.00             2.03  \n",
              "...                   ...       ...            ...              ...  \n",
              "29617             8910.10      48.0         963.90            56.16  \n",
              "29618            51432.93       1.0          30.42          6264.69  \n",
              "29619            57681.37       0.0           0.00           109.15  \n",
              "29620            55199.61     133.0        5136.33          6749.78  \n",
              "29621            63718.94       1.0          61.41          8629.98  \n",
              "\n",
              "[29622 rows x 13 columns]"
            ]
          },
          "execution_count": 165,
          "metadata": {},
          "output_type": "execute_result"
        }
      ],
      "source": [
        "payroll"
      ]
    },
    {
      "cell_type": "markdown",
      "metadata": {
        "id": "5RcBVFfqPX_j"
      },
      "source": [
        "__Exercise__\n",
        "\n",
        "Calculate the mean of the `payroll.base_salary` Dask DataFrame. How do the timings compare for the Dask and Pandas versions."
      ]
    },
    {
      "cell_type": "code",
      "execution_count": 168,
      "metadata": {
        "id": "bMqBTyLoPX_j"
      },
      "outputs": [
        {
          "name": "stdout",
          "output_type": "stream",
          "text": [
            "CPU times: total: 0 ns\n",
            "Wall time: 0 ns\n"
          ]
        },
        {
          "data": {
            "text/plain": [
              "0         41841.00\n",
              "1            33.18\n",
              "2         39830.00\n",
              "3        115959.00\n",
              "4            33.18\n",
              "           ...    \n",
              "29617        15.00\n",
              "29618     54110.00\n",
              "29619     57610.00\n",
              "29620        33.72\n",
              "29621        33.72\n",
              "Name: base_salary, Length: 29622, dtype: float64"
            ]
          },
          "execution_count": 168,
          "metadata": {},
          "output_type": "execute_result"
        }
      ],
      "source": [
        "%%time\n",
        "    mean_base_salary_dask = payroll.base_salary\n",
        "\n",
        "    mean_base_salary_dask"
      ]
    },
    {
      "cell_type": "markdown",
      "metadata": {},
      "source": [
        "The %%time gap betweeen the Dask DataFrame and Pandas version is enormous, Dask DataFrame is faster and shorter a lot than Pandas version"
      ]
    },
    {
      "cell_type": "markdown",
      "metadata": {
        "id": "fznLXtOxPX_j"
      },
      "source": [
        "__Exercise__\n",
        "\n",
        "Print out the task graph for the mean calculation from the previous exercise using `visualize`. Set `rankdir=\"LR\"` to display the graph left-to-right."
      ]
    },
    {
      "cell_type": "code",
      "execution_count": null,
      "metadata": {},
      "outputs": [],
      "source": []
    },
    {
      "cell_type": "markdown",
      "metadata": {
        "id": "umT0M_fvPX_k"
      },
      "source": [
        "__Exercise__\n",
        "\n",
        "Add a `max` calculation on `ot_hours` to the Dask graph but do not call `compute`. Why does the graph overlap with the previous one we visualize?"
      ]
    },
    {
      "cell_type": "code",
      "execution_count": 174,
      "metadata": {
        "id": "UrsuSy-3PX_k"
      },
      "outputs": [],
      "source": [
        "result_max = df1['ot_hours'].max()\n"
      ]
    },
    {
      "cell_type": "markdown",
      "metadata": {
        "id": "k0hXdHeiPX_k"
      },
      "source": [
        "__Exercise__\n",
        "\n",
        "Call `persist` on `payroll` and visualize the result. Why is the new graph different from the previous one?"
      ]
    },
    {
      "cell_type": "code",
      "execution_count": null,
      "metadata": {
        "id": "9s0wuQ5oPX_k"
      },
      "outputs": [],
      "source": []
    },
    {
      "cell_type": "code",
      "execution_count": null,
      "metadata": {
        "id": "PqKcduW-PX_k"
      },
      "outputs": [],
      "source": []
    }
  ],
  "metadata": {
    "colab": {
      "provenance": []
    },
    "kernelspec": {
      "display_name": "Python 3",
      "language": "python",
      "name": "python3"
    },
    "language_info": {
      "codemirror_mode": {
        "name": "ipython",
        "version": 3
      },
      "file_extension": ".py",
      "mimetype": "text/x-python",
      "name": "python",
      "nbconvert_exporter": "python",
      "pygments_lexer": "ipython3",
      "version": "3.11.6"
    }
  },
  "nbformat": 4,
  "nbformat_minor": 0
}
