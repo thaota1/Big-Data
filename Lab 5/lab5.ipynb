{
  "cells": [
    {
      "cell_type": "markdown",
      "metadata": {
        "id": "2gzngD9U-U5f"
      },
      "source": [
        "# Spark DataFrames Project Exercise"
      ]
    },
    {
      "cell_type": "markdown",
      "metadata": {
        "id": "IDWjfRkA-U5h"
      },
      "source": [
        "#### Use the `walmart_stock.csv` file to Answer and complete the  required tasks"
      ]
    },
    {
      "cell_type": "code",
      "execution_count": null,
      "metadata": {},
      "outputs": [],
      "source": [
        "### do on colab"
      ]
    },
    {
      "cell_type": "code",
      "execution_count": null,
      "metadata": {
        "colab": {
          "base_uri": "https://localhost:8080/"
        },
        "id": "jtPr-k1ca7HG",
        "outputId": "514ce74c-86d2-424b-c26e-7abebfedc265"
      },
      "outputs": [
        {
          "name": "stdout",
          "output_type": "stream",
          "text": [
            "Mounted at /content/gdrive\n"
          ]
        }
      ],
      "source": [
        "from google.colab import drive\n",
        "drive.mount('/content/gdrive')"
      ]
    },
    {
      "cell_type": "markdown",
      "metadata": {
        "id": "bmSM3IW--U5i"
      },
      "source": [
        "#### Start a simple Spark Session"
      ]
    },
    {
      "cell_type": "code",
      "execution_count": null,
      "metadata": {
        "collapsed": true,
        "id": "katj_e_r-U5i"
      },
      "outputs": [],
      "source": [
        "from pyspark import SparkContext, SparkConf\n",
        "from pyspark.sql import SparkSession\n",
        "\n",
        "# Check if a SparkContext exists\n",
        "try:\n",
        "    sc = SparkContext.getOrCreate()\n",
        "except Exception as e:\n",
        "    print(e)\n",
        "\n",
        "# Create a SparkSession using the existing SparkContext\n",
        "spark = SparkSession.builder.appName(\"YourAppName\").getOrCreate()\n",
        "\n",
        "# Now you can use the 'sc' and 'spark' variables for your Spark application\n"
      ]
    },
    {
      "cell_type": "markdown",
      "metadata": {
        "id": "jnKji_Fj-U5i"
      },
      "source": [
        "#### Load the Walmart Stock CSV File, have Spark infer the data types."
      ]
    },
    {
      "cell_type": "code",
      "execution_count": null,
      "metadata": {
        "collapsed": true,
        "id": "tZ4joCzR-U5i"
      },
      "outputs": [],
      "source": [
        "from google.colab import files\n",
        "files.upload()"
      ]
    },
    {
      "cell_type": "code",
      "execution_count": null,
      "metadata": {
        "colab": {
          "base_uri": "https://localhost:8080/",
          "height": 206
        },
        "id": "_YBWxsNLfiNg",
        "outputId": "ed1cf5e7-f1ff-467d-d6ca-5399d39456f6"
      },
      "outputs": [
        {
          "data": {
            "text/html": [
              "\n",
              "  <div id=\"df-3e686e24-64de-44b5-80b8-c2ecb58ff67e\" class=\"colab-df-container\">\n",
              "    <div>\n",
              "<style scoped>\n",
              "    .dataframe tbody tr th:only-of-type {\n",
              "        vertical-align: middle;\n",
              "    }\n",
              "\n",
              "    .dataframe tbody tr th {\n",
              "        vertical-align: top;\n",
              "    }\n",
              "\n",
              "    .dataframe thead th {\n",
              "        text-align: right;\n",
              "    }\n",
              "</style>\n",
              "<table border=\"1\" class=\"dataframe\">\n",
              "  <thead>\n",
              "    <tr style=\"text-align: right;\">\n",
              "      <th></th>\n",
              "      <th>Date</th>\n",
              "      <th>Open</th>\n",
              "      <th>High</th>\n",
              "      <th>Low</th>\n",
              "      <th>Close</th>\n",
              "      <th>Volume</th>\n",
              "      <th>Adj Close</th>\n",
              "    </tr>\n",
              "  </thead>\n",
              "  <tbody>\n",
              "    <tr>\n",
              "      <th>0</th>\n",
              "      <td>2012-01-03</td>\n",
              "      <td>59.970001</td>\n",
              "      <td>61.060001</td>\n",
              "      <td>59.869999</td>\n",
              "      <td>60.330002</td>\n",
              "      <td>12668800</td>\n",
              "      <td>52.619235</td>\n",
              "    </tr>\n",
              "    <tr>\n",
              "      <th>1</th>\n",
              "      <td>2012-01-04</td>\n",
              "      <td>60.209999</td>\n",
              "      <td>60.349998</td>\n",
              "      <td>59.470001</td>\n",
              "      <td>59.709999</td>\n",
              "      <td>9593300</td>\n",
              "      <td>52.078475</td>\n",
              "    </tr>\n",
              "    <tr>\n",
              "      <th>2</th>\n",
              "      <td>2012-01-05</td>\n",
              "      <td>59.349998</td>\n",
              "      <td>59.619999</td>\n",
              "      <td>58.369999</td>\n",
              "      <td>59.419998</td>\n",
              "      <td>12768200</td>\n",
              "      <td>51.825539</td>\n",
              "    </tr>\n",
              "    <tr>\n",
              "      <th>3</th>\n",
              "      <td>2012-01-06</td>\n",
              "      <td>59.419998</td>\n",
              "      <td>59.450001</td>\n",
              "      <td>58.869999</td>\n",
              "      <td>59.000000</td>\n",
              "      <td>8069400</td>\n",
              "      <td>51.459220</td>\n",
              "    </tr>\n",
              "    <tr>\n",
              "      <th>4</th>\n",
              "      <td>2012-01-09</td>\n",
              "      <td>59.029999</td>\n",
              "      <td>59.549999</td>\n",
              "      <td>58.919998</td>\n",
              "      <td>59.180000</td>\n",
              "      <td>6679300</td>\n",
              "      <td>51.616215</td>\n",
              "    </tr>\n",
              "  </tbody>\n",
              "</table>\n",
              "</div>\n",
              "    <div class=\"colab-df-buttons\">\n",
              "\n",
              "  <div class=\"colab-df-container\">\n",
              "    <button class=\"colab-df-convert\" onclick=\"convertToInteractive('df-3e686e24-64de-44b5-80b8-c2ecb58ff67e')\"\n",
              "            title=\"Convert this dataframe to an interactive table.\"\n",
              "            style=\"display:none;\">\n",
              "\n",
              "  <svg xmlns=\"http://www.w3.org/2000/svg\" height=\"24px\" viewBox=\"0 -960 960 960\">\n",
              "    <path d=\"M120-120v-720h720v720H120Zm60-500h600v-160H180v160Zm220 220h160v-160H400v160Zm0 220h160v-160H400v160ZM180-400h160v-160H180v160Zm440 0h160v-160H620v160ZM180-180h160v-160H180v160Zm440 0h160v-160H620v160Z\"/>\n",
              "  </svg>\n",
              "    </button>\n",
              "\n",
              "  <style>\n",
              "    .colab-df-container {\n",
              "      display:flex;\n",
              "      gap: 12px;\n",
              "    }\n",
              "\n",
              "    .colab-df-convert {\n",
              "      background-color: #E8F0FE;\n",
              "      border: none;\n",
              "      border-radius: 50%;\n",
              "      cursor: pointer;\n",
              "      display: none;\n",
              "      fill: #1967D2;\n",
              "      height: 32px;\n",
              "      padding: 0 0 0 0;\n",
              "      width: 32px;\n",
              "    }\n",
              "\n",
              "    .colab-df-convert:hover {\n",
              "      background-color: #E2EBFA;\n",
              "      box-shadow: 0px 1px 2px rgba(60, 64, 67, 0.3), 0px 1px 3px 1px rgba(60, 64, 67, 0.15);\n",
              "      fill: #174EA6;\n",
              "    }\n",
              "\n",
              "    .colab-df-buttons div {\n",
              "      margin-bottom: 4px;\n",
              "    }\n",
              "\n",
              "    [theme=dark] .colab-df-convert {\n",
              "      background-color: #3B4455;\n",
              "      fill: #D2E3FC;\n",
              "    }\n",
              "\n",
              "    [theme=dark] .colab-df-convert:hover {\n",
              "      background-color: #434B5C;\n",
              "      box-shadow: 0px 1px 3px 1px rgba(0, 0, 0, 0.15);\n",
              "      filter: drop-shadow(0px 1px 2px rgba(0, 0, 0, 0.3));\n",
              "      fill: #FFFFFF;\n",
              "    }\n",
              "  </style>\n",
              "\n",
              "    <script>\n",
              "      const buttonEl =\n",
              "        document.querySelector('#df-3e686e24-64de-44b5-80b8-c2ecb58ff67e button.colab-df-convert');\n",
              "      buttonEl.style.display =\n",
              "        google.colab.kernel.accessAllowed ? 'block' : 'none';\n",
              "\n",
              "      async function convertToInteractive(key) {\n",
              "        const element = document.querySelector('#df-3e686e24-64de-44b5-80b8-c2ecb58ff67e');\n",
              "        const dataTable =\n",
              "          await google.colab.kernel.invokeFunction('convertToInteractive',\n",
              "                                                    [key], {});\n",
              "        if (!dataTable) return;\n",
              "\n",
              "        const docLinkHtml = 'Like what you see? Visit the ' +\n",
              "          '<a target=\"_blank\" href=https://colab.research.google.com/notebooks/data_table.ipynb>data table notebook</a>'\n",
              "          + ' to learn more about interactive tables.';\n",
              "        element.innerHTML = '';\n",
              "        dataTable['output_type'] = 'display_data';\n",
              "        await google.colab.output.renderOutput(dataTable, element);\n",
              "        const docLink = document.createElement('div');\n",
              "        docLink.innerHTML = docLinkHtml;\n",
              "        element.appendChild(docLink);\n",
              "      }\n",
              "    </script>\n",
              "  </div>\n",
              "\n",
              "\n",
              "<div id=\"df-082b1001-3545-4f94-b6af-911fd151eedd\">\n",
              "  <button class=\"colab-df-quickchart\" onclick=\"quickchart('df-082b1001-3545-4f94-b6af-911fd151eedd')\"\n",
              "            title=\"Suggest charts\"\n",
              "            style=\"display:none;\">\n",
              "\n",
              "<svg xmlns=\"http://www.w3.org/2000/svg\" height=\"24px\"viewBox=\"0 0 24 24\"\n",
              "     width=\"24px\">\n",
              "    <g>\n",
              "        <path d=\"M19 3H5c-1.1 0-2 .9-2 2v14c0 1.1.9 2 2 2h14c1.1 0 2-.9 2-2V5c0-1.1-.9-2-2-2zM9 17H7v-7h2v7zm4 0h-2V7h2v10zm4 0h-2v-4h2v4z\"/>\n",
              "    </g>\n",
              "</svg>\n",
              "  </button>\n",
              "\n",
              "<style>\n",
              "  .colab-df-quickchart {\n",
              "      --bg-color: #E8F0FE;\n",
              "      --fill-color: #1967D2;\n",
              "      --hover-bg-color: #E2EBFA;\n",
              "      --hover-fill-color: #174EA6;\n",
              "      --disabled-fill-color: #AAA;\n",
              "      --disabled-bg-color: #DDD;\n",
              "  }\n",
              "\n",
              "  [theme=dark] .colab-df-quickchart {\n",
              "      --bg-color: #3B4455;\n",
              "      --fill-color: #D2E3FC;\n",
              "      --hover-bg-color: #434B5C;\n",
              "      --hover-fill-color: #FFFFFF;\n",
              "      --disabled-bg-color: #3B4455;\n",
              "      --disabled-fill-color: #666;\n",
              "  }\n",
              "\n",
              "  .colab-df-quickchart {\n",
              "    background-color: var(--bg-color);\n",
              "    border: none;\n",
              "    border-radius: 50%;\n",
              "    cursor: pointer;\n",
              "    display: none;\n",
              "    fill: var(--fill-color);\n",
              "    height: 32px;\n",
              "    padding: 0;\n",
              "    width: 32px;\n",
              "  }\n",
              "\n",
              "  .colab-df-quickchart:hover {\n",
              "    background-color: var(--hover-bg-color);\n",
              "    box-shadow: 0 1px 2px rgba(60, 64, 67, 0.3), 0 1px 3px 1px rgba(60, 64, 67, 0.15);\n",
              "    fill: var(--button-hover-fill-color);\n",
              "  }\n",
              "\n",
              "  .colab-df-quickchart-complete:disabled,\n",
              "  .colab-df-quickchart-complete:disabled:hover {\n",
              "    background-color: var(--disabled-bg-color);\n",
              "    fill: var(--disabled-fill-color);\n",
              "    box-shadow: none;\n",
              "  }\n",
              "\n",
              "  .colab-df-spinner {\n",
              "    border: 2px solid var(--fill-color);\n",
              "    border-color: transparent;\n",
              "    border-bottom-color: var(--fill-color);\n",
              "    animation:\n",
              "      spin 1s steps(1) infinite;\n",
              "  }\n",
              "\n",
              "  @keyframes spin {\n",
              "    0% {\n",
              "      border-color: transparent;\n",
              "      border-bottom-color: var(--fill-color);\n",
              "      border-left-color: var(--fill-color);\n",
              "    }\n",
              "    20% {\n",
              "      border-color: transparent;\n",
              "      border-left-color: var(--fill-color);\n",
              "      border-top-color: var(--fill-color);\n",
              "    }\n",
              "    30% {\n",
              "      border-color: transparent;\n",
              "      border-left-color: var(--fill-color);\n",
              "      border-top-color: var(--fill-color);\n",
              "      border-right-color: var(--fill-color);\n",
              "    }\n",
              "    40% {\n",
              "      border-color: transparent;\n",
              "      border-right-color: var(--fill-color);\n",
              "      border-top-color: var(--fill-color);\n",
              "    }\n",
              "    60% {\n",
              "      border-color: transparent;\n",
              "      border-right-color: var(--fill-color);\n",
              "    }\n",
              "    80% {\n",
              "      border-color: transparent;\n",
              "      border-right-color: var(--fill-color);\n",
              "      border-bottom-color: var(--fill-color);\n",
              "    }\n",
              "    90% {\n",
              "      border-color: transparent;\n",
              "      border-bottom-color: var(--fill-color);\n",
              "    }\n",
              "  }\n",
              "</style>\n",
              "\n",
              "  <script>\n",
              "    async function quickchart(key) {\n",
              "      const quickchartButtonEl =\n",
              "        document.querySelector('#' + key + ' button');\n",
              "      quickchartButtonEl.disabled = true;  // To prevent multiple clicks.\n",
              "      quickchartButtonEl.classList.add('colab-df-spinner');\n",
              "      try {\n",
              "        const charts = await google.colab.kernel.invokeFunction(\n",
              "            'suggestCharts', [key], {});\n",
              "      } catch (error) {\n",
              "        console.error('Error during call to suggestCharts:', error);\n",
              "      }\n",
              "      quickchartButtonEl.classList.remove('colab-df-spinner');\n",
              "      quickchartButtonEl.classList.add('colab-df-quickchart-complete');\n",
              "    }\n",
              "    (() => {\n",
              "      let quickchartButtonEl =\n",
              "        document.querySelector('#df-082b1001-3545-4f94-b6af-911fd151eedd button');\n",
              "      quickchartButtonEl.style.display =\n",
              "        google.colab.kernel.accessAllowed ? 'block' : 'none';\n",
              "    })();\n",
              "  </script>\n",
              "</div>\n",
              "    </div>\n",
              "  </div>\n"
            ],
            "text/plain": [
              "         Date       Open       High        Low      Close    Volume  Adj Close\n",
              "0  2012-01-03  59.970001  61.060001  59.869999  60.330002  12668800  52.619235\n",
              "1  2012-01-04  60.209999  60.349998  59.470001  59.709999   9593300  52.078475\n",
              "2  2012-01-05  59.349998  59.619999  58.369999  59.419998  12768200  51.825539\n",
              "3  2012-01-06  59.419998  59.450001  58.869999  59.000000   8069400  51.459220\n",
              "4  2012-01-09  59.029999  59.549999  58.919998  59.180000   6679300  51.616215"
            ]
          },
          "execution_count": 73,
          "metadata": {},
          "output_type": "execute_result"
        }
      ],
      "source": [
        "import pandas as pd\n",
        "\n",
        "data = pd.read_csv('walmartstock.csv')\n",
        "data.head()"
      ]
    },
    {
      "cell_type": "code",
      "execution_count": null,
      "metadata": {
        "colab": {
          "base_uri": "https://localhost:8080/"
        },
        "id": "9Bv7yw5Niunq",
        "outputId": "5293432c-9f14-412d-aaad-5c64d47d7b6e"
      },
      "outputs": [
        {
          "name": "stderr",
          "output_type": "stream",
          "text": [
            "/content/spark-3.1.1-bin-hadoop3.2/python/pyspark/sql/pandas/conversion.py:331: FutureWarning: iteritems is deprecated and will be removed in a future version. Use .items instead.\n",
            "  for column, series in pdf.iteritems():\n"
          ]
        },
        {
          "name": "stdout",
          "output_type": "stream",
          "text": [
            "+----------+---------+---------+---------+---------+--------+------------------+\n",
            "|      Date|     Open|     High|      Low|    Close|  Volume|         Adj Close|\n",
            "+----------+---------+---------+---------+---------+--------+------------------+\n",
            "|2012-01-03|59.970001|61.060001|59.869999|60.330002|12668800|         52.619235|\n",
            "|2012-01-04|60.209999|60.349998|59.470001|59.709999| 9593300|         52.078475|\n",
            "|2012-01-05|59.349998|59.619999|58.369999|59.419998|12768200|         51.825539|\n",
            "|2012-01-06|59.419998|59.450001|58.869999|     59.0| 8069400|          51.45922|\n",
            "|2012-01-09|59.029999|59.549999|58.919998|    59.18| 6679300|         51.616215|\n",
            "|2012-01-10|    59.43|59.709999|    58.98|59.040001| 6907300|         51.494109|\n",
            "|2012-01-11|59.060001|59.529999|59.040001|59.400002| 6365600|         51.808098|\n",
            "|2012-01-12|59.790001|     60.0|59.400002|     59.5| 7236400|         51.895316|\n",
            "|2012-01-13|    59.18|59.610001|59.009998|59.540001| 7729300|         51.930204|\n",
            "|2012-01-17|59.869999|60.110001|    59.52|59.849998| 8500000|         52.200581|\n",
            "|2012-01-18|59.790001|60.029999|59.650002|60.009998| 5911400|         52.340131|\n",
            "|2012-01-19|    59.93|    60.73|    59.75|60.610001| 9234600|         52.863447|\n",
            "|2012-01-20|    60.75|    61.25|60.669998|61.009998|10378800|         53.212321|\n",
            "|2012-01-23|60.810001|    60.98|60.509998|    60.91| 7134100|         53.125104|\n",
            "|2012-01-24|    60.75|     62.0|    60.75|61.389999| 7362800| 53.54375400000001|\n",
            "|2012-01-25|    61.18|61.610001|61.040001|61.470001| 5915800| 53.61353100000001|\n",
            "|2012-01-26|61.799999|    61.84|    60.77|60.970001| 7436200|         53.177436|\n",
            "|2012-01-27|60.860001|61.119999|60.540001|60.709999| 6287300|         52.950665|\n",
            "|2012-01-30|60.470001|    61.32|60.349998|61.299999| 7636900|         53.465257|\n",
            "|2012-01-31|61.529999|    61.57|60.580002|61.360001| 9761500|53.517590000000006|\n",
            "+----------+---------+---------+---------+---------+--------+------------------+\n",
            "only showing top 20 rows\n",
            "\n"
          ]
        }
      ],
      "source": [
        "#Spark Dataframe\n",
        "dataspark = spark.createDataFrame(data)\n",
        "dataspark.show()"
      ]
    },
    {
      "cell_type": "code",
      "execution_count": null,
      "metadata": {
        "colab": {
          "base_uri": "https://localhost:8080/"
        },
        "id": "P2V4yP8DiDaB",
        "outputId": "5f8f7945-7b9d-4404-c249-c5b7887bdffb"
      },
      "outputs": [
        {
          "name": "stdout",
          "output_type": "stream",
          "text": [
            "Data type <class 'pyspark.sql.dataframe.DataFrame'>\n"
          ]
        }
      ],
      "source": [
        "#Have Spark infer the data types\n",
        "print('Data type', type(dataspark))"
      ]
    },
    {
      "cell_type": "markdown",
      "metadata": {
        "id": "kOSWU5WL-U5j"
      },
      "source": [
        "#### What are the column names?"
      ]
    },
    {
      "cell_type": "code",
      "execution_count": null,
      "metadata": {
        "colab": {
          "base_uri": "https://localhost:8080/"
        },
        "id": "4DHzIrW6rH8C",
        "outputId": "59c106ec-e015-40d4-ed2d-dbb021fdad95"
      },
      "outputs": [
        {
          "data": {
            "text/plain": [
              "['Date', 'Open', 'High', 'Low', 'Close', 'Volume', 'Adj Close']"
            ]
          },
          "execution_count": 76,
          "metadata": {},
          "output_type": "execute_result"
        }
      ],
      "source": [
        "list(data.columns)"
      ]
    },
    {
      "cell_type": "markdown",
      "metadata": {
        "id": "8xuoco-J-U5k"
      },
      "source": [
        "#### What does the Schema look like?"
      ]
    },
    {
      "cell_type": "code",
      "execution_count": null,
      "metadata": {
        "colab": {
          "base_uri": "https://localhost:8080/"
        },
        "id": "sSFu0o3ry5yw",
        "outputId": "09a7ea53-6e58-45db-ff67-db0c5cb89bd0"
      },
      "outputs": [
        {
          "name": "stdout",
          "output_type": "stream",
          "text": [
            "root\n",
            " |-- Date: string (nullable = true)\n",
            " |-- Open: double (nullable = true)\n",
            " |-- High: double (nullable = true)\n",
            " |-- Low: double (nullable = true)\n",
            " |-- Close: double (nullable = true)\n",
            " |-- Volume: long (nullable = true)\n",
            " |-- Adj Close: double (nullable = true)\n",
            "\n"
          ]
        }
      ],
      "source": [
        "dataspark.printSchema()"
      ]
    },
    {
      "cell_type": "markdown",
      "metadata": {
        "id": "cFVSOM2B-U5k"
      },
      "source": [
        "#### Print out the first 5 columns."
      ]
    },
    {
      "cell_type": "code",
      "execution_count": null,
      "metadata": {
        "colab": {
          "base_uri": "https://localhost:8080/"
        },
        "id": "pDys_Y__-U5k",
        "outputId": "008e1a53-c7c0-4e4a-cb69-5d5743c6ba51"
      },
      "outputs": [
        {
          "data": {
            "text/plain": [
              "[(Row(Date='2012-01-03', Open=59.970001, High=61.060001, Low=59.869999, Close=60.330002, Volume=12668800, Adj Close=52.619235),\n",
              "  0),\n",
              " (Row(Date='2012-01-04', Open=60.209999, High=60.349998, Low=59.470001, Close=59.709999, Volume=9593300, Adj Close=52.078475),\n",
              "  1),\n",
              " (Row(Date='2012-01-05', Open=59.349998, High=59.619999, Low=58.369999, Close=59.419998, Volume=12768200, Adj Close=51.825539),\n",
              "  2),\n",
              " (Row(Date='2012-01-06', Open=59.419998, High=59.450001, Low=58.869999, Close=59.0, Volume=8069400, Adj Close=51.45922),\n",
              "  3),\n",
              " (Row(Date='2012-01-09', Open=59.029999, High=59.549999, Low=58.919998, Close=59.18, Volume=6679300, Adj Close=51.616215),\n",
              "  4)]"
            ]
          },
          "execution_count": 78,
          "metadata": {},
          "output_type": "execute_result"
        }
      ],
      "source": [
        "dataspark.rdd.zipWithIndex().take(5)"
      ]
    },
    {
      "cell_type": "markdown",
      "metadata": {
        "id": "eRa00vt6-U5k"
      },
      "source": [
        "#### Use `describe()` to learn about the DataFrame."
      ]
    },
    {
      "cell_type": "code",
      "execution_count": null,
      "metadata": {
        "colab": {
          "base_uri": "https://localhost:8080/"
        },
        "id": "7TjuWT-t-U5l",
        "outputId": "048093f5-4489-445b-a7a1-60873368265e"
      },
      "outputs": [
        {
          "name": "stdout",
          "output_type": "stream",
          "text": [
            "+-------+----------+-----------------+-----------------+-----------------+-----------------+-----------------+-----------------+\n",
            "|summary|      Date|             Open|             High|              Low|            Close|           Volume|        Adj Close|\n",
            "+-------+----------+-----------------+-----------------+-----------------+-----------------+-----------------+-----------------+\n",
            "|  count|      1258|             1258|             1258|             1258|             1258|             1258|             1258|\n",
            "|   mean|      null|72.35785375357703|72.83938807631154|71.91860095945944|72.38844998012719|8222093.481717011| 67.2388384872814|\n",
            "| stddev|      null|6.768090244708284|6.768186808159222|6.744075756255509|6.756859163732981|  4519780.8431556|6.722609449996835|\n",
            "|    min|2012-01-03|        56.389999|        57.060001|        56.299999|        56.419998|          2094900|        50.363689|\n",
            "|    max|2016-12-30|        90.800003|        90.970001|            89.25|        90.470001|         80898100|84.91421600000001|\n",
            "+-------+----------+-----------------+-----------------+-----------------+-----------------+-----------------+-----------------+\n",
            "\n"
          ]
        }
      ],
      "source": [
        "dataspark.describe().show()"
      ]
    },
    {
      "cell_type": "markdown",
      "metadata": {
        "id": "q1nk8glP-U5l"
      },
      "source": [
        "## Some advanced Question\n",
        "#### We can see that there are too many decimal places for `mean` and `stddev` in the `describe()` dataframe. Format the numbers to just show up to two decimal places. Pay careful attention to the datatypes that `.describe()` returns, we didn't cover how to do this exact formatting, but we covered something very similar. [Check this link for a hint](https://spark.apache.org/docs/3.1.1/api/python/reference/api/pyspark.sql.Column.cast.html)\n"
      ]
    },
    {
      "cell_type": "code",
      "execution_count": null,
      "metadata": {
        "colab": {
          "base_uri": "https://localhost:8080/"
        },
        "id": "VqxXyxDG-U5l",
        "outputId": "c7be0b6b-bcc2-442f-d81b-4cb51b0eeca0"
      },
      "outputs": [
        {
          "name": "stdout",
          "output_type": "stream",
          "text": [
            "root\n",
            " |-- Date: string (nullable = true)\n",
            " |-- Open: double (nullable = true)\n",
            " |-- High: double (nullable = true)\n",
            " |-- Low: double (nullable = true)\n",
            " |-- Close: double (nullable = true)\n",
            " |-- Volume: long (nullable = true)\n",
            " |-- Adj Close: double (nullable = true)\n",
            "\n"
          ]
        }
      ],
      "source": [
        "# First, let check out the schema\n",
        "dataspark.printSchema()"
      ]
    },
    {
      "cell_type": "code",
      "execution_count": null,
      "metadata": {
        "colab": {
          "base_uri": "https://localhost:8080/"
        },
        "id": "gGlGsNEm-U5l",
        "outputId": "d88a602f-7ffc-4044-8fee-4e86cb23b516"
      },
      "outputs": [
        {
          "name": "stdout",
          "output_type": "stream",
          "text": [
            "+-------+----------+-----------------+-----------------+-----------------+-----------------+-----------------+-----------------+\n",
            "|summary|      Date|             Open|             High|              Low|            Close|           Volume|        Adj Close|\n",
            "+-------+----------+-----------------+-----------------+-----------------+-----------------+-----------------+-----------------+\n",
            "|  count|      1258|             1258|             1258|             1258|             1258|             1258|             1258|\n",
            "|   mean|      null|72.35785375357703|72.83938807631154|71.91860095945944|72.38844998012719|8222093.481717011| 67.2388384872814|\n",
            "| stddev|      null|6.768090244708284|6.768186808159222|6.744075756255509|6.756859163732981|  4519780.8431556|6.722609449996835|\n",
            "|    min|2012-01-03|        56.389999|        57.060001|        56.299999|        56.419998|          2094900|        50.363689|\n",
            "|    max|2016-12-30|        90.800003|        90.970001|            89.25|        90.470001|         80898100|84.91421600000001|\n",
            "+-------+----------+-----------------+-----------------+-----------------+-----------------+-----------------+-----------------+\n",
            "\n"
          ]
        }
      ],
      "source": [
        "dataspark.describe().show()"
      ]
    },
    {
      "cell_type": "markdown",
      "metadata": {
        "id": "49d71j4G-U5l"
      },
      "source": [
        "#### Create a new dataframe with a column called HV Ratio that is the ratio of the High Price versus volume of stock traded for a day."
      ]
    },
    {
      "cell_type": "code",
      "execution_count": null,
      "metadata": {
        "colab": {
          "base_uri": "https://localhost:8080/"
        },
        "id": "fdnsjxWwAkjz",
        "outputId": "0ec67b48-129b-46a5-c0fb-115a7922dfef"
      },
      "outputs": [
        {
          "name": "stdout",
          "output_type": "stream",
          "text": [
            "+----------+--------------------+\n",
            "|      Date|            HV Ratio|\n",
            "+----------+--------------------+\n",
            "|2012-01-03|4.819714653321546E-6|\n",
            "|2012-01-04|6.290848613094555E-6|\n",
            "|2012-01-05|4.669412994783916E-6|\n",
            "|2012-01-06|7.367338463826307E-6|\n",
            "|2012-01-09|8.915604778943901E-6|\n",
            "|2012-01-10|8.644477436914568E-6|\n",
            "|2012-01-11|9.351828421515645E-6|\n",
            "|2012-01-12| 8.29141562102703E-6|\n",
            "|2012-01-13|7.712212102001474E-6|\n",
            "|2012-01-17|7.071764823529411...|\n",
            "|2012-01-18|1.015495466386981E-5|\n",
            "|2012-01-19|6.576354146362592...|\n",
            "|2012-01-20| 5.90145296180676E-6|\n",
            "|2012-01-23|8.547679455011844E-6|\n",
            "|2012-01-24|8.420709512685392E-6|\n",
            "|2012-01-25|1.041448341728929...|\n",
            "|2012-01-26|8.316075414862431E-6|\n",
            "|2012-01-27|9.721183814992126E-6|\n",
            "|2012-01-30|8.029436027707578E-6|\n",
            "|2012-01-31|6.307432259386365E-6|\n",
            "+----------+--------------------+\n",
            "only showing top 20 rows\n",
            "\n"
          ]
        }
      ],
      "source": [
        "from pyspark.sql import SparkSession\n",
        "from pyspark.sql.functions import col\n",
        "\n",
        "# Assuming you have a SparkSession named 'spark' and a DataFrame named 'dataspark'\n",
        "result_df = dataspark.select(\"Date\", (col(\"High\") / col(\"Volume\")).alias(\"HV Ratio\"))\n",
        "result_df.show()"
      ]
    },
    {
      "cell_type": "markdown",
      "metadata": {
        "id": "YlJ4cs7y-U5m"
      },
      "source": [
        "#### What day had the Peak High in Price?"
      ]
    },
    {
      "cell_type": "code",
      "execution_count": null,
      "metadata": {
        "colab": {
          "base_uri": "https://localhost:8080/"
        },
        "id": "FAQb1fet-U5m",
        "outputId": "c3c99299-763f-4fca-92aa-df20f615fc91"
      },
      "outputs": [
        {
          "name": "stdout",
          "output_type": "stream",
          "text": [
            "Peak High Price Row:\n",
            "Row(Date='2015-01-13', Open=90.800003, High=90.970001, Low=88.93, Close=89.309998, Volume=8215400, Adj Close=83.825448)\n"
          ]
        }
      ],
      "source": [
        "peak_high_row = dataspark.orderBy(col(\"High\").desc()).first()\n",
        "\n",
        "print(\"Peak High Price Row:\")\n",
        "print(peak_high_row)"
      ]
    },
    {
      "cell_type": "markdown",
      "metadata": {
        "id": "VXBumiDA-U5m"
      },
      "source": [
        "#### What is the mean of the Close column?"
      ]
    },
    {
      "cell_type": "code",
      "execution_count": null,
      "metadata": {
        "colab": {
          "base_uri": "https://localhost:8080/"
        },
        "id": "gMHR_1_N-U5m",
        "outputId": "15aded6d-f128-4e8c-d489-eba11cf3c8c6"
      },
      "outputs": [
        {
          "name": "stdout",
          "output_type": "stream",
          "text": [
            "Close Coumn mean:  72.38844998012719\n"
          ]
        }
      ],
      "source": [
        "close_mean = dataspark.select('Close').rdd.map(lambda x: x[0]).mean()\n",
        "print('Close Coumn mean: ',close_mean)"
      ]
    },
    {
      "cell_type": "markdown",
      "metadata": {
        "id": "LaqFJyth-U5m"
      },
      "source": [
        "#### What is the max and min of the Volume column?"
      ]
    },
    {
      "cell_type": "code",
      "execution_count": null,
      "metadata": {
        "colab": {
          "base_uri": "https://localhost:8080/"
        },
        "collapsed": true,
        "id": "B-DYCGim-U5m",
        "outputId": "a4baaeec-de02-402d-e961-34ea5e97cbc7"
      },
      "outputs": [
        {
          "name": "stdout",
          "output_type": "stream",
          "text": [
            "80898100\n"
          ]
        }
      ],
      "source": [
        "max_volume = dataspark.select('Volume').rdd.map(lambda x: x[0]).max()\n",
        "print(max_volume)"
      ]
    },
    {
      "cell_type": "code",
      "execution_count": null,
      "metadata": {
        "colab": {
          "base_uri": "https://localhost:8080/"
        },
        "id": "24k3DmJr-U5m",
        "outputId": "73dabd90-1a86-49ed-d40e-8c14ed522aec"
      },
      "outputs": [
        {
          "name": "stdout",
          "output_type": "stream",
          "text": [
            "2094900\n"
          ]
        }
      ],
      "source": [
        "min_volume = dataspark.select('Volume').rdd.map(lambda x: x[0]).min()\n",
        "print(min_volume)"
      ]
    },
    {
      "cell_type": "markdown",
      "metadata": {
        "id": "sVjD6umb-U5m"
      },
      "source": [
        "#### How many days was the Close lower than 60 dollars?\n",
        "\n",
        "---\n",
        "\n"
      ]
    },
    {
      "cell_type": "code",
      "execution_count": null,
      "metadata": {
        "colab": {
          "base_uri": "https://localhost:8080/"
        },
        "id": "ocEMJyyZ-U5m",
        "outputId": "f2a72294-cd69-4208-8f4a-56a28d339946"
      },
      "outputs": [
        {
          "name": "stdout",
          "output_type": "stream",
          "text": [
            "81\n"
          ]
        }
      ],
      "source": [
        "days_below_60_count = dataspark.filter(col(\"Close\") < 60).count()\n",
        "print(days_below_60_count)"
      ]
    },
    {
      "cell_type": "markdown",
      "metadata": {
        "id": "r8UBBFBq-U5m"
      },
      "source": [
        "#### What percentage of the time was the High greater than 80 dollars ?\n",
        "#### In other words, (Number of Days High>80)/(Total Days in the dataset)"
      ]
    },
    {
      "cell_type": "code",
      "execution_count": null,
      "metadata": {
        "id": "NWGIB5Zg-U5n"
      },
      "outputs": [],
      "source": [
        "total_days = dataspark.count()\n",
        "high_above_80_days = dataspark.filter(col(\"High\") > 80).count()\n",
        "percentage_high_above_80 = (high_above_80_days / total_days) * 100"
      ]
    },
    {
      "cell_type": "code",
      "execution_count": null,
      "metadata": {
        "colab": {
          "base_uri": "https://localhost:8080/"
        },
        "id": "SC-yc_MlIm1W",
        "outputId": "27b5dde8-95cd-40b2-e7e5-36d011e771a4"
      },
      "outputs": [
        {
          "name": "stdout",
          "output_type": "stream",
          "text": [
            "9.141494435612083\n"
          ]
        }
      ],
      "source": [
        "print(percentage_high_above_80)"
      ]
    },
    {
      "cell_type": "markdown",
      "metadata": {
        "id": "kGrUCY5K-U5n"
      },
      "source": [
        "#### What is the Pearson correlation between High and Volume?\n",
        "\n",
        "1.   List item\n",
        "2.   List item\n",
        "\n",
        "\n",
        "#### [Hint](https://spark.apache.org/docs/latest/api/java/index.html?org/apache/spark/sql/DataFrameStatFunctions.html)"
      ]
    },
    {
      "cell_type": "code",
      "execution_count": null,
      "metadata": {
        "id": "zfIEYFs7-U5n"
      },
      "outputs": [],
      "source": [
        "correlation = dataspark.corr(\"High\", \"Volume\")"
      ]
    },
    {
      "cell_type": "code",
      "execution_count": null,
      "metadata": {
        "colab": {
          "base_uri": "https://localhost:8080/"
        },
        "id": "Lm0AXmWqPc3s",
        "outputId": "74ea0c52-7b49-417b-a969-ed474e598415"
      },
      "outputs": [
        {
          "name": "stdout",
          "output_type": "stream",
          "text": [
            "-0.3384326061737167\n"
          ]
        }
      ],
      "source": [
        "print(correlation)"
      ]
    },
    {
      "cell_type": "markdown",
      "metadata": {
        "id": "U2WwPTok-U5n"
      },
      "source": [
        "#### What is the max High per year?"
      ]
    },
    {
      "cell_type": "code",
      "execution_count": null,
      "metadata": {
        "id": "bTD7K2XcX2KS"
      },
      "outputs": [],
      "source": [
        "from pyspark.sql.functions import year, max, col\n"
      ]
    },
    {
      "cell_type": "code",
      "execution_count": null,
      "metadata": {
        "colab": {
          "base_uri": "https://localhost:8080/"
        },
        "id": "M4qha0ls-U5n",
        "outputId": "8fc12026-e8bf-484b-94c3-570056e77179"
      },
      "outputs": [
        {
          "name": "stdout",
          "output_type": "stream",
          "text": [
            "+----+---------+\n",
            "|Year|  MaxHigh|\n",
            "+----+---------+\n",
            "|2015|90.970001|\n",
            "|2013|81.370003|\n",
            "|2014|88.089996|\n",
            "|2012|77.599998|\n",
            "|2016|75.190002|\n",
            "+----+---------+\n",
            "\n",
            "None\n"
          ]
        }
      ],
      "source": [
        "max_high_per_year = dataspark.withColumn(\"Year\", year(col(\"Date\"))).groupBy(\"Year\").agg(max(\"High\").alias(\"MaxHigh\"))\n",
        "print(max_high_per_year.show())"
      ]
    },
    {
      "cell_type": "markdown",
      "metadata": {
        "id": "Mdq9BS0s-U5n"
      },
      "source": [
        "#### What is the average Close for each Calendar Month?\n",
        "#### In other words, across all the years, what is the average Close price for Jan,Feb, Mar, etc... Your result will have a value for each of these months."
      ]
    },
    {
      "cell_type": "code",
      "execution_count": null,
      "metadata": {
        "colab": {
          "base_uri": "https://localhost:8080/"
        },
        "id": "-0dpBe0B-U5n",
        "outputId": "7a433d75-e7b2-4753-86ed-40d66d8ec5ec"
      },
      "outputs": [
        {
          "name": "stdout",
          "output_type": "stream",
          "text": [
            "+-----+-----------------+\n",
            "|Month|         AvgClose|\n",
            "+-----+-----------------+\n",
            "|   12|72.84792478301885|\n",
            "|    1|71.44801958415842|\n",
            "|    6|72.49537742452831|\n",
            "|    3|71.77794377570092|\n",
            "|    5|72.30971688679246|\n",
            "|    9|72.18411785294116|\n",
            "|    4|72.97361900952382|\n",
            "|    8|73.02981855454544|\n",
            "|    7|74.43971943925233|\n",
            "|   10|71.57854545454545|\n",
            "|   11|72.11108930693068|\n",
            "|    2|71.30680444329897|\n",
            "+-----+-----------------+\n",
            "\n",
            "None\n"
          ]
        }
      ],
      "source": [
        "from pyspark.sql.functions import month, avg, col\n",
        "avg_close_per_month = dataspark.withColumn(\"Month\", month(col(\"Date\"))).groupBy(\"Month\").agg(avg(\"Close\").alias(\"AvgClose\"))\n",
        "print(avg_close_per_month.show())"
      ]
    },
    {
      "cell_type": "code",
      "execution_count": null,
      "metadata": {
        "id": "uhxZafs9AFIc"
      },
      "outputs": [],
      "source": []
    }
  ],
  "metadata": {
    "anaconda-cloud": {},
    "colab": {
      "provenance": []
    },
    "kernelspec": {
      "display_name": "Python [conda root]",
      "language": "python",
      "name": "conda-root-py"
    },
    "language_info": {
      "codemirror_mode": {
        "name": "ipython",
        "version": 3
      },
      "file_extension": ".py",
      "mimetype": "text/x-python",
      "name": "python",
      "nbconvert_exporter": "python",
      "pygments_lexer": "ipython3",
      "version": "3.5.3"
    }
  },
  "nbformat": 4,
  "nbformat_minor": 0
}
