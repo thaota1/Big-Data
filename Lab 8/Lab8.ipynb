{
  "cells": [
    {
      "cell_type": "markdown",
      "metadata": {
        "id": "aXVdSGgF_720"
      },
      "source": [
        "NYCTaxi\n",
        "------\n",
        "\n",
        "[Download link](http://www.andresmh.com/nyctaxitrips/)\n",
        "\n",
        "Taxi trips taken in 2013 released by a FOIA request.  Around 20GB CSV uncompressed.\n",
        "\n",
        "**Try the following:**\n",
        "\n",
        "*  Use `dask.dataframe` with pandas-style queries\n",
        "*  Store in HDF5 both with and without categoricals, measure the size of the file and query times\n",
        "*  Set the index by one of the date-time columns and store in castra (also using categoricals).  Perform range queries and measure speed.  What size and complexity of query can you perform while still having an \"interactive\" experience?"
      ]
    },
    {
      "cell_type": "markdown",
      "metadata": {
        "id": "euk67U_IiYPC"
      },
      "source": [
        "## Trip the data down to 10.000 rows to easy mangage the data\n",
        "\n",
        "```python"
      ]
    },
    {
      "cell_type": "code",
      "execution_count": null,
      "metadata": {
        "id": "45pCgH4BXSKd",
        "outputId": "92d5c44b-76db-477a-9a12-8385d74a5d61"
      },
      "outputs": [
        {
          "name": "stderr",
          "output_type": "stream",
          "text": [
            "c:\\Users\\ASUS\\AppData\\Local\\Programs\\Python\\Python39\\lib\\site-packages\\dask\\dataframe\\_pyarrow_compat.py:23: UserWarning: You are using pyarrow version 11.0.0 which is known to be insecure. See https://www.cve.org/CVERecord?id=CVE-2023-47248 for further details. Please upgrade to pyarrow>=14.0.1 or install pyarrow-hotfix to patch your current version.\n",
            "  warnings.warn(\n"
          ]
        }
      ],
      "source": [
        "import dask.dataframe as dd\n",
        "\n",
        "taxi_data = dd.read_csv(r'G:\\My Drive\\Sem 1 năm 4\\Thay An Big Data\\Lab\\Lab 8\\trip_data_1.csv', parse_dates=['pickup_datetime'])\n",
        "result = taxi_data[(taxi_data['pickup_datetime'] >= '2013-01-01') & (taxi_data['pickup_datetime'] < '2014-01-01')]"
      ]
    },
    {
      "cell_type": "code",
      "execution_count": null,
      "metadata": {
        "id": "GJvUbW8DXxMY",
        "outputId": "a5a150c7-40b1-45cd-a0ba-e3e0e1cd56cc"
      },
      "outputs": [
        {
          "name": "stdout",
          "output_type": "stream",
          "text": [
            "HDF5 (No Categoricals) Size: 4.264446 MB\n",
            "HDF5 (No Categoricals) Query Time: \n",
            "CPU times: total: 93.8 ms\n",
            "Wall time: 398 ms\n"
          ]
        }
      ],
      "source": [
        "%%time\n",
        "taxi_data.to_hdf('taxi_data.h5', '/data', format='table', mode='w', append=True, data_columns=True)\n",
        "\n",
        "print(f\"HDF5 (No Categoricals) Size: {result.memory_usage(deep=True).sum().compute() / 1e6} MB\")\n",
        "print(f\"HDF5 (No Categoricals) Query Time: \")"
      ]
    },
    {
      "cell_type": "code",
      "execution_count": null,
      "metadata": {
        "id": "p4VpB9k6X2x-",
        "outputId": "608b98b3-3239-42d8-f314-03603129c778"
      },
      "outputs": [
        {
          "name": "stdout",
          "output_type": "stream",
          "text": [
            "HDF5 (No Categoricals) Size: 4.264446 MB\n",
            "HDF5 (No Categoricals) Query Time: \n",
            "CPU times: total: 31.2 ms\n",
            "Wall time: 364 ms\n"
          ]
        }
      ],
      "source": [
        "%%time\n",
        "taxi_data.to_hdf('taxi_data.h5', '/data', format='table', mode='w', append=True, data_columns=True)\n",
        "\n",
        "print(f\"HDF5 (No Categoricals) Size: {result.memory_usage(deep=True).sum().compute() / 1e6} MB\")\n",
        "print(f\"HDF5 (No Categoricals) Query Time: \")"
      ]
    },
    {
      "cell_type": "code",
      "execution_count": null,
      "metadata": {
        "id": "tkVLi_8JiYPE",
        "outputId": "84b5abec-b039-4a09-ba9e-bb6c536275e3"
      },
      "outputs": [
        {
          "name": "stdout",
          "output_type": "stream",
          "text": [
            "HDF5 (With Categoricals) Size: 2.773716 MB\n",
            "HDF5 (With Categoricals) Query Time: \n",
            "CPU times: total: 93.8 ms\n",
            "Wall time: 906 ms\n"
          ]
        }
      ],
      "source": [
        "%%time\n",
        "result = result.categorize(columns=['medallion', 'hack_license', 'vendor_id', 'rate_code', 'store_and_fwd_flag', 'pickup_datetime', 'dropoff_datetime', 'passenger_count', 'trip_time_in_secs', 'trip_distance', 'pickup_longitude', 'pickup_latitude', 'dropoff_longitude', 'dropoff_latitude'])\n",
        "result.to_hdf('taxi_data_with_categoricals.h5', '/data', format='table', mode='w', append=True, data_columns=True)\n",
        "\n",
        "print(f\"HDF5 (With Categoricals) Size: {result.memory_usage(deep=True).sum().compute() / 1e6} MB\")\n",
        "print(f\"HDF5 (With Categoricals) Query Time: \")"
      ]
    },
    {
      "cell_type": "markdown",
      "metadata": {
        "id": "B7wbYRHDiYPE"
      },
      "source": [
        "### the `castra` module is no longer maintained and has been deprecated.\n",
        "\n",
        "As an alternative, you can use `parquet` format with `dask` for on-disk dataframe storage."
      ]
    },
    {
      "cell_type": "code",
      "execution_count": null,
      "metadata": {
        "id": "KkiIcTZWiYPE",
        "outputId": "54219eae-1ee3-486d-9f30-e3e62b083367"
      },
      "outputs": [
        {
          "data": {
            "text/html": [
              "<div><strong>Dask DataFrame Structure:</strong></div>\n",
              "<div>\n",
              "<style scoped>\n",
              "    .dataframe tbody tr th:only-of-type {\n",
              "        vertical-align: middle;\n",
              "    }\n",
              "\n",
              "    .dataframe tbody tr th {\n",
              "        vertical-align: top;\n",
              "    }\n",
              "\n",
              "    .dataframe thead th {\n",
              "        text-align: right;\n",
              "    }\n",
              "</style>\n",
              "<table border=\"1\" class=\"dataframe\">\n",
              "  <thead>\n",
              "    <tr style=\"text-align: right;\">\n",
              "      <th></th>\n",
              "      <th>medallion</th>\n",
              "      <th>hack_license</th>\n",
              "      <th>vendor_id</th>\n",
              "      <th>rate_code</th>\n",
              "      <th>store_and_fwd_flag</th>\n",
              "      <th>dropoff_datetime</th>\n",
              "      <th>passenger_count</th>\n",
              "      <th>trip_time_in_secs</th>\n",
              "      <th>trip_distance</th>\n",
              "      <th>pickup_longitude</th>\n",
              "      <th>pickup_latitude</th>\n",
              "      <th>dropoff_longitude</th>\n",
              "      <th>dropoff_latitude</th>\n",
              "    </tr>\n",
              "    <tr>\n",
              "      <th>npartitions=1</th>\n",
              "      <th></th>\n",
              "      <th></th>\n",
              "      <th></th>\n",
              "      <th></th>\n",
              "      <th></th>\n",
              "      <th></th>\n",
              "      <th></th>\n",
              "      <th></th>\n",
              "      <th></th>\n",
              "      <th></th>\n",
              "      <th></th>\n",
              "      <th></th>\n",
              "      <th></th>\n",
              "    </tr>\n",
              "  </thead>\n",
              "  <tbody>\n",
              "    <tr>\n",
              "      <th></th>\n",
              "      <td>object</td>\n",
              "      <td>object</td>\n",
              "      <td>object</td>\n",
              "      <td>int64</td>\n",
              "      <td>object</td>\n",
              "      <td>object</td>\n",
              "      <td>int64</td>\n",
              "      <td>int64</td>\n",
              "      <td>float64</td>\n",
              "      <td>float64</td>\n",
              "      <td>float64</td>\n",
              "      <td>float64</td>\n",
              "      <td>float64</td>\n",
              "    </tr>\n",
              "    <tr>\n",
              "      <th></th>\n",
              "      <td>...</td>\n",
              "      <td>...</td>\n",
              "      <td>...</td>\n",
              "      <td>...</td>\n",
              "      <td>...</td>\n",
              "      <td>...</td>\n",
              "      <td>...</td>\n",
              "      <td>...</td>\n",
              "      <td>...</td>\n",
              "      <td>...</td>\n",
              "      <td>...</td>\n",
              "      <td>...</td>\n",
              "      <td>...</td>\n",
              "    </tr>\n",
              "  </tbody>\n",
              "</table>\n",
              "</div>\n",
              "<div>Dask Name: try_loc, 2 graph layers</div>"
            ],
            "text/plain": [
              "Dask DataFrame Structure:\n",
              "              medallion hack_license vendor_id rate_code store_and_fwd_flag dropoff_datetime passenger_count trip_time_in_secs trip_distance pickup_longitude pickup_latitude dropoff_longitude dropoff_latitude\n",
              "npartitions=1                                                                                                                                                                                                   \n",
              "                 object       object    object     int64             object           object           int64             int64       float64          float64         float64           float64          float64\n",
              "                    ...          ...       ...       ...                ...              ...             ...               ...           ...              ...             ...               ...              ...\n",
              "Dask Name: try_loc, 2 graph layers"
            ]
          },
          "execution_count": 9,
          "metadata": {},
          "output_type": "execute_result"
        }
      ],
      "source": [
        "import dask.dataframe as dd\n",
        "\n",
        "# Set the index by the date-time column\n",
        "df = taxi_data.set_index('pickup_datetime')\n",
        "\n",
        "# Store in parquet\n",
        "df.to_parquet('parquet_data')\n",
        "\n",
        "# Perform range queries\n",
        "df = dd.read_parquet('parquet_data')\n",
        "result = df.loc['start_date':'end_date']\n",
        "result"
      ]
    },
    {
      "cell_type": "markdown",
      "metadata": {
        "id": "iAxxPK_Q_721"
      },
      "source": [
        "Github Archive\n",
        "----------------\n",
        "\n",
        "[Download link](https://www.githubarchive.org/)\n",
        "\n",
        "Every public github event for the last few years stored as gzip compressed line-delimited JSON data.  Watch out, the schema switches at the 2014-2015 transition.\n",
        "\n",
        "**Try the following:**\n",
        "\n",
        "*  Use `dask.bag` to inspect the data\n",
        "*  Drill down using functions like `pluck` and `filter`\n",
        "*  Find who the most popular committers were in 2015"
      ]
    },
    {
      "cell_type": "code",
      "execution_count": null,
      "metadata": {
        "id": "aEMxilVOVRC2"
      },
      "outputs": [],
      "source": [
        "import dask.bag as db\n",
        "import json\n",
        "from collections import Counter\n",
        "\n",
        "github_data = db.read_text('G:\\My Drive\\Sem 1 năm 4\\Thay An Big Data\\Lab\\Lab 8\\2015-01-01-15.json\\2015-01-01-15.json').map(json.loads)"
      ]
    },
    {
      "cell_type": "code",
      "execution_count": null,
      "metadata": {
        "id": "WrckDH4NZN9r",
        "outputId": "61c72a48-6917-4e30-acb5-c62de3f8c5ad"
      },
      "outputs": [
        {
          "data": {
            "text/plain": [
              "dask.bag<topk-aggregate, npartitions=1>"
            ]
          },
          "execution_count": 11,
          "metadata": {},
          "output_type": "execute_result"
        }
      ],
      "source": [
        "github_data = db.read_text('/content/2015-01-01-15.json').map(json.loads)\n",
        "\n",
        "\n",
        "\n",
        "# Drill down using functions like pluck and filter\n",
        "commits = github_data.filter(lambda record: 'type' in record and record['type'] == 'PushEvent')\n",
        "\n",
        "# Find who the most popular committers were in 2015\n",
        "commits_2015 = commits.filter(lambda record: '2015' in record['created_at'])\n",
        "popular_committers = commits_2015.pluck('actor').pluck('login').frequencies().topk(10, lambda x: x[1])\n",
        "\n",
        "# Compute the result\n",
        "popular_committers"
      ]
    },
    {
      "cell_type": "markdown",
      "metadata": {
        "id": "TzBI148s_721"
      },
      "source": [
        "Reddit Comments\n",
        "-----------------\n",
        "\n",
        "[Download link](https://www.reddit.com/r/datasets/comments/3bxlg7/i_have_every_publicly_available_reddit_comment/)\n",
        "\n",
        "Every publicly available reddit comment, available as a large torrent\n",
        "\n",
        "**Try the following:**\n",
        "\n",
        "*  Use `dask.bag` to inspect the data\n",
        "*  Combine `dask.bag` with `nltk` or `gensim` to perform textual analyis on the data\n",
        "*  Reproduce the work of [Daniel Rodriguez](https://extrapolations.dev/blog/2015/07/reproduceit-reddit-word-count-dask/) and see if you can improve upon his speeds when analyzing this data."
      ]
    },
    {
      "cell_type": "code",
      "execution_count": null,
      "metadata": {
        "id": "y1fKTE3FiYPF",
        "outputId": "e0c6b3c4-47c8-477e-97a6-7f638f42c765"
      },
      "outputs": [
        {
          "name": "stderr",
          "output_type": "stream",
          "text": [
            "[nltk_data] Downloading package stopwords to\n",
            "[nltk_data]     C:\\Users\\ASUS\\AppData\\Roaming\\nltk_data...\n",
            "[nltk_data]   Package stopwords is already up-to-date!\n",
            "[nltk_data] Downloading package punkt to\n",
            "[nltk_data]     C:\\Users\\ASUS\\AppData\\Roaming\\nltk_data...\n",
            "[nltk_data]   Package punkt is already up-to-date!\n"
          ]
        },
        {
          "data": {
            "text/plain": [
              "True"
            ]
          },
          "execution_count": 12,
          "metadata": {},
          "output_type": "execute_result"
        }
      ],
      "source": [
        "import nltk\n",
        "nltk.download('stopwords')\n",
        "nltk.download('punkt')"
      ]
    },
    {
      "cell_type": "code",
      "execution_count": null,
      "metadata": {
        "id": "Xj2l7TkgiYPF",
        "outputId": "77132bbe-385c-4f0b-9915-4a7e741c268c"
      },
      "outputs": [
        {
          "name": "stdout",
          "output_type": "stream",
          "text": [
            "[('count', 1), (',', 41), ('comment', 1), ('avg_score', 1), ('count_subs', 1), ('count_authors', 1), ('example_id', 1), ('6056', 1), ('Thanks', 1), ('!', 2), (',1.808.790.956,132,5920', 1), ('r/pcmasterrace', 1), ('/comments/34tnkh/c/cqymdpy', 1), ('5887', 1), ('Yes,56.868.377.856,131,5731', 1), ('r/AdviceAnimals', 1), ('/comments/37s8vv/c/crpkuqv', 1), ('5441', 1), ('Yes.,87.958.409.805,129,5293', 1), ('r/movies', 1), ('/comments/36mruc/c/crfzgtq', 1), ('4668', 1), ('lol,33.695.471.736,121,4443', 1), ('r/2007scape', 1), ('/comments/34y3as/c/cqz4syu', 1), ('4256', 1), (':', 2), ('(', 2), (',102.876.656.485,121,4145', 1), ('r/AskReddit', 3), ('/comments/35owvx/c/cr70qla', 1), ('3852', 1), ('No.,38.500.449.796,127,3738', 1), ('r/MMA', 1), ('/comments/36kokn/c/crese9p', 1), ('3531', 1), ('F,62.622.771.182,106,3357', 1), ('r/gaming', 1), ('/comments/35dxln/c/cr3mr06', 1), ('3466', 1), ('No,35.924.608.652,124,3353', 1), ('r/PS4', 1), ('/comments/359xxn/c/cr3h8c7', 1), ('3386', 1), ('Thank', 1), (',26.401.087.044,133,3344', 1), ('r/MakeupAddiction', 1), ('/comments/35q806/c/cr8dql8', 1), ('3290', 1), ('yes,57.376.822.933,125,3216', 1), ('r/todayilearned', 2), ('/comments/34m93d/c/cqw7yuv', 1), ('3023', 1), ('?', 3), (',30.268.486.256,124,2952', 1), ('r/nfl', 1), ('/comments/34gp9p/c/cquhmx3', 1), ('2810', 1), (',34.551.855.151,124,2726', 1), ('r/mildlyinteresting', 1), ('/comments/36vioz/c/crhzdw8', 1), ('2737', 1), ('Lol,27.517.415.802,120,2603', 1), ('/comments/36kja4/c/crereph', 1), ('2733', 1), ('no,35.260.048.606,123,2662', 1), ('/comments/36u262/c/crha851', 1), ('2545', 1), ('Thanks,23.659.433.794,124,2492', 1), ('r/4chan', 1), ('/comments/34yx0y/c/cqzx7x5', 1), ('2319', 1), ('͡°', 2), ('͜ʖ', 1), (')', 2), (',126.626.049.876,108,2145', 1), ('r/millionairemakers', 1), ('/comments/36xf3t/c/cri8f4u', 1), ('2115', 1), (',56.482.539.926,115,2071', 1), ('r/politics', 1), ('/comments/35vfjl/c/cr9xw02', 1), ('1975', 1), ('Source', 1), (',36.242.656.355,116,1921', 1), ('/comments/37bvmu/c/crlkdc2', 1)]\n"
          ]
        }
      ],
      "source": [
        "import dask.bag as db\n",
        "import nltk\n",
        "from nltk.corpus import stopwords\n",
        "from nltk.tokenize import word_tokenize\n",
        "\n",
        "# Load the data\n",
        "b = db.read_text('G:\\My Drive\\Sem 1 năm 4\\Thay An Big Data\\Lab\\Lab 8\\Reddit Comment.csv')\n",
        "\n",
        "# Tokenize the comments\n",
        "tokenized_comments = b.map(word_tokenize)\n",
        "\n",
        "# Remove stop words\n",
        "stop_words = set(stopwords.words('english'))\n",
        "filtered_comments = tokenized_comments.map(lambda comment: [word for word in comment if word.casefold() not in stop_words])\n",
        "\n",
        "# Perform word count\n",
        "word_count = filtered_comments.flatten().frequencies().compute()\n",
        "\n",
        "print(word_count)"
      ]
    },
    {
      "cell_type": "markdown",
      "metadata": {
        "id": "qrEMCmJH_721"
      },
      "source": [
        "NYC 311\n",
        "---------\n",
        "\n",
        "[Download link](https://nycopendata.socrata.com/Social-Services/311-Service-Requests-from-2010-to-Present/erm2-nwe9)\n",
        "\n",
        "All 311 service requests since 2010 in New York City"
      ]
    },
    {
      "cell_type": "code",
      "execution_count": null,
      "metadata": {
        "id": "XMv8y9z3iYPG",
        "outputId": "f24aad95-2162-4bd9-9c7c-15ecfed9d6ea"
      },
      "outputs": [
        {
          "data": {
            "text/html": [
              "<div>\n",
              "<style scoped>\n",
              "    .dataframe tbody tr th:only-of-type {\n",
              "        vertical-align: middle;\n",
              "    }\n",
              "\n",
              "    .dataframe tbody tr th {\n",
              "        vertical-align: top;\n",
              "    }\n",
              "\n",
              "    .dataframe thead th {\n",
              "        text-align: right;\n",
              "    }\n",
              "</style>\n",
              "<table border=\"1\" class=\"dataframe\">\n",
              "  <thead>\n",
              "    <tr style=\"text-align: right;\">\n",
              "      <th></th>\n",
              "      <th>Unique Key</th>\n",
              "      <th>Created Date</th>\n",
              "      <th>Closed Date</th>\n",
              "      <th>Agency</th>\n",
              "      <th>Agency Name</th>\n",
              "      <th>Complaint Type</th>\n",
              "      <th>Descriptor</th>\n",
              "      <th>Location Type</th>\n",
              "      <th>Incident Zip</th>\n",
              "      <th>Incident Address</th>\n",
              "      <th>...</th>\n",
              "      <th>Vehicle Type</th>\n",
              "      <th>Taxi Company Borough</th>\n",
              "      <th>Taxi Pick Up Location</th>\n",
              "      <th>Bridge Highway Name</th>\n",
              "      <th>Bridge Highway Direction</th>\n",
              "      <th>Road Ramp</th>\n",
              "      <th>Bridge Highway Segment</th>\n",
              "      <th>Latitude</th>\n",
              "      <th>Longitude</th>\n",
              "      <th>Location</th>\n",
              "    </tr>\n",
              "  </thead>\n",
              "  <tbody>\n",
              "    <tr>\n",
              "      <th>0</th>\n",
              "      <td>59990471</td>\n",
              "      <td>01/11/2024 12:00:00 PM</td>\n",
              "      <td>NaN</td>\n",
              "      <td>DSNY</td>\n",
              "      <td>Department of Sanitation</td>\n",
              "      <td>Derelict Vehicles</td>\n",
              "      <td>Derelict Vehicles</td>\n",
              "      <td>Street</td>\n",
              "      <td>10467</td>\n",
              "      <td>343 EAST  209 STREET</td>\n",
              "      <td>...</td>\n",
              "      <td>NaN</td>\n",
              "      <td>NaN</td>\n",
              "      <td>NaN</td>\n",
              "      <td>NaN</td>\n",
              "      <td>NaN</td>\n",
              "      <td>NaN</td>\n",
              "      <td>NaN</td>\n",
              "      <td>4.087.663.618.204.300</td>\n",
              "      <td>-7.387.407.522.979.460</td>\n",
              "      <td>(40.87663618204302°, -73.87407522979463°)</td>\n",
              "    </tr>\n",
              "    <tr>\n",
              "      <th>1</th>\n",
              "      <td>59988966</td>\n",
              "      <td>01/11/2024 12:00:00 PM</td>\n",
              "      <td>NaN</td>\n",
              "      <td>DSNY</td>\n",
              "      <td>Department of Sanitation</td>\n",
              "      <td>Derelict Vehicles</td>\n",
              "      <td>Derelict Vehicles</td>\n",
              "      <td>Street</td>\n",
              "      <td>10467</td>\n",
              "      <td>3228 DECATUR AVENUE</td>\n",
              "      <td>...</td>\n",
              "      <td>NaN</td>\n",
              "      <td>NaN</td>\n",
              "      <td>NaN</td>\n",
              "      <td>NaN</td>\n",
              "      <td>NaN</td>\n",
              "      <td>NaN</td>\n",
              "      <td>NaN</td>\n",
              "      <td>4.087.454.575.900.520</td>\n",
              "      <td>-7.387.502.656.053.260</td>\n",
              "      <td>(40.87454575900527°, -73.87502656053266°)</td>\n",
              "    </tr>\n",
              "    <tr>\n",
              "      <th>2</th>\n",
              "      <td>59983031</td>\n",
              "      <td>01/11/2024 12:00:00 PM</td>\n",
              "      <td>NaN</td>\n",
              "      <td>DSNY</td>\n",
              "      <td>Department of Sanitation</td>\n",
              "      <td>Derelict Vehicles</td>\n",
              "      <td>Derelict Vehicles</td>\n",
              "      <td>Street</td>\n",
              "      <td>11206</td>\n",
              "      <td>202 MAUJER STREET</td>\n",
              "      <td>...</td>\n",
              "      <td>NaN</td>\n",
              "      <td>NaN</td>\n",
              "      <td>NaN</td>\n",
              "      <td>NaN</td>\n",
              "      <td>NaN</td>\n",
              "      <td>NaN</td>\n",
              "      <td>NaN</td>\n",
              "      <td>4.071.110.604.333.750</td>\n",
              "      <td>-7.394.152.606.103.560</td>\n",
              "      <td>(40.71110604333756°, -73.94152606103569°)</td>\n",
              "    </tr>\n",
              "    <tr>\n",
              "      <th>3</th>\n",
              "      <td>59983034</td>\n",
              "      <td>01/11/2024 12:00:00 PM</td>\n",
              "      <td>NaN</td>\n",
              "      <td>DSNY</td>\n",
              "      <td>Department of Sanitation</td>\n",
              "      <td>Derelict Vehicles</td>\n",
              "      <td>Derelict Vehicles</td>\n",
              "      <td>Street</td>\n",
              "      <td>10455</td>\n",
              "      <td>673 BECK STREET</td>\n",
              "      <td>...</td>\n",
              "      <td>NaN</td>\n",
              "      <td>NaN</td>\n",
              "      <td>NaN</td>\n",
              "      <td>NaN</td>\n",
              "      <td>NaN</td>\n",
              "      <td>NaN</td>\n",
              "      <td>NaN</td>\n",
              "      <td>408.148.077.988.588</td>\n",
              "      <td>-7.390.113.194.581.160</td>\n",
              "      <td>(40.8148077988588°, -73.90113194581166°)</td>\n",
              "    </tr>\n",
              "    <tr>\n",
              "      <th>4</th>\n",
              "      <td>59983033</td>\n",
              "      <td>01/11/2024 12:00:00 PM</td>\n",
              "      <td>NaN</td>\n",
              "      <td>DSNY</td>\n",
              "      <td>Department of Sanitation</td>\n",
              "      <td>Derelict Vehicles</td>\n",
              "      <td>Derelict Vehicles</td>\n",
              "      <td>Street</td>\n",
              "      <td>10455</td>\n",
              "      <td>673 BECK STREET</td>\n",
              "      <td>...</td>\n",
              "      <td>NaN</td>\n",
              "      <td>NaN</td>\n",
              "      <td>NaN</td>\n",
              "      <td>NaN</td>\n",
              "      <td>NaN</td>\n",
              "      <td>NaN</td>\n",
              "      <td>NaN</td>\n",
              "      <td>408.148.077.988.588</td>\n",
              "      <td>-7.390.113.194.581.160</td>\n",
              "      <td>(40.8148077988588°, -73.90113194581166°)</td>\n",
              "    </tr>\n",
              "    <tr>\n",
              "      <th>5</th>\n",
              "      <td>59988973</td>\n",
              "      <td>01/11/2024 12:00:00 PM</td>\n",
              "      <td>NaN</td>\n",
              "      <td>DSNY</td>\n",
              "      <td>Department of Sanitation</td>\n",
              "      <td>Derelict Vehicles</td>\n",
              "      <td>Derelict Vehicles</td>\n",
              "      <td>Street</td>\n",
              "      <td>11206</td>\n",
              "      <td>195 MAUJER STREET</td>\n",
              "      <td>...</td>\n",
              "      <td>NaN</td>\n",
              "      <td>NaN</td>\n",
              "      <td>NaN</td>\n",
              "      <td>NaN</td>\n",
              "      <td>NaN</td>\n",
              "      <td>NaN</td>\n",
              "      <td>NaN</td>\n",
              "      <td>4.071.102.149.850.240</td>\n",
              "      <td>-7.394.260.464.288.810</td>\n",
              "      <td>(40.71102149850243°, -73.94260464288811°)</td>\n",
              "    </tr>\n",
              "    <tr>\n",
              "      <th>6</th>\n",
              "      <td>59987452</td>\n",
              "      <td>01/11/2024 12:00:00 PM</td>\n",
              "      <td>NaN</td>\n",
              "      <td>DSNY</td>\n",
              "      <td>Department of Sanitation</td>\n",
              "      <td>Derelict Vehicles</td>\n",
              "      <td>Derelict Vehicles</td>\n",
              "      <td>Street</td>\n",
              "      <td>10455</td>\n",
              "      <td>673 BECK STREET</td>\n",
              "      <td>...</td>\n",
              "      <td>NaN</td>\n",
              "      <td>NaN</td>\n",
              "      <td>NaN</td>\n",
              "      <td>NaN</td>\n",
              "      <td>NaN</td>\n",
              "      <td>NaN</td>\n",
              "      <td>NaN</td>\n",
              "      <td>408.148.077.988.588</td>\n",
              "      <td>-7.390.113.194.581.160</td>\n",
              "      <td>(40.8148077988588°, -73.90113194581166°)</td>\n",
              "    </tr>\n",
              "    <tr>\n",
              "      <th>7</th>\n",
              "      <td>59988776</td>\n",
              "      <td>01/11/2024 01:49:23 AM</td>\n",
              "      <td>NaN</td>\n",
              "      <td>NYPD</td>\n",
              "      <td>New York City Police Department</td>\n",
              "      <td>Blocked Driveway</td>\n",
              "      <td>No Access</td>\n",
              "      <td>Street/Sidewalk</td>\n",
              "      <td>11367</td>\n",
              "      <td>136-14 61 ROAD</td>\n",
              "      <td>...</td>\n",
              "      <td>NaN</td>\n",
              "      <td>NaN</td>\n",
              "      <td>NaN</td>\n",
              "      <td>NaN</td>\n",
              "      <td>NaN</td>\n",
              "      <td>NaN</td>\n",
              "      <td>NaN</td>\n",
              "      <td>40.742.158.749.056.800</td>\n",
              "      <td>-7.382.956.299.071.490</td>\n",
              "      <td>(40.742158749056856°, -73.82956299071492°)</td>\n",
              "    </tr>\n",
              "    <tr>\n",
              "      <th>8</th>\n",
              "      <td>59988894</td>\n",
              "      <td>01/11/2024 01:48:44 AM</td>\n",
              "      <td>NaN</td>\n",
              "      <td>NYPD</td>\n",
              "      <td>New York City Police Department</td>\n",
              "      <td>Illegal Parking</td>\n",
              "      <td>Blocked Hydrant</td>\n",
              "      <td>Street/Sidewalk</td>\n",
              "      <td>11356</td>\n",
              "      <td>122-07 22 AVENUE</td>\n",
              "      <td>...</td>\n",
              "      <td>NaN</td>\n",
              "      <td>NaN</td>\n",
              "      <td>NaN</td>\n",
              "      <td>NaN</td>\n",
              "      <td>NaN</td>\n",
              "      <td>NaN</td>\n",
              "      <td>NaN</td>\n",
              "      <td>4.078.015.802.264.800</td>\n",
              "      <td>-7.384.584.792.528.790</td>\n",
              "      <td>(40.78015802264805°, -73.84584792528797°)</td>\n",
              "    </tr>\n",
              "    <tr>\n",
              "      <th>9</th>\n",
              "      <td>59984397</td>\n",
              "      <td>01/11/2024 01:48:00 AM</td>\n",
              "      <td>NaN</td>\n",
              "      <td>NYPD</td>\n",
              "      <td>New York City Police Department</td>\n",
              "      <td>Illegal Parking</td>\n",
              "      <td>Blocked Hydrant</td>\n",
              "      <td>Street/Sidewalk</td>\n",
              "      <td>10461</td>\n",
              "      <td>2567 POPLAR STREET</td>\n",
              "      <td>...</td>\n",
              "      <td>NaN</td>\n",
              "      <td>NaN</td>\n",
              "      <td>NaN</td>\n",
              "      <td>NaN</td>\n",
              "      <td>NaN</td>\n",
              "      <td>NaN</td>\n",
              "      <td>NaN</td>\n",
              "      <td>4.084.443.106.593.460</td>\n",
              "      <td>-7.384.776.635.760.520</td>\n",
              "      <td>(40.84443106593468°, -73.84776635760521°)</td>\n",
              "    </tr>\n",
              "    <tr>\n",
              "      <th>10</th>\n",
              "      <td>59984409</td>\n",
              "      <td>01/11/2024 01:47:18 AM</td>\n",
              "      <td>NaN</td>\n",
              "      <td>NYPD</td>\n",
              "      <td>New York City Police Department</td>\n",
              "      <td>Illegal Parking</td>\n",
              "      <td>Double Parked Blocking Traffic</td>\n",
              "      <td>Street/Sidewalk</td>\n",
              "      <td>11233</td>\n",
              "      <td>2411 DEAN STREET</td>\n",
              "      <td>...</td>\n",
              "      <td>Car</td>\n",
              "      <td>NaN</td>\n",
              "      <td>NaN</td>\n",
              "      <td>NaN</td>\n",
              "      <td>NaN</td>\n",
              "      <td>NaN</td>\n",
              "      <td>NaN</td>\n",
              "      <td>40.674.564.493.040.200</td>\n",
              "      <td>-7.390.741.440.600.590</td>\n",
              "      <td>(40.674564493040265°, -73.90741440600594°)</td>\n",
              "    </tr>\n",
              "    <tr>\n",
              "      <th>11</th>\n",
              "      <td>59983150</td>\n",
              "      <td>01/11/2024 01:46:22 AM</td>\n",
              "      <td>NaN</td>\n",
              "      <td>NYPD</td>\n",
              "      <td>New York City Police Department</td>\n",
              "      <td>Illegal Parking</td>\n",
              "      <td>Paper License Plates</td>\n",
              "      <td>Street/Sidewalk</td>\n",
              "      <td>11357</td>\n",
              "      <td>15-56 150 STREET</td>\n",
              "      <td>...</td>\n",
              "      <td>NaN</td>\n",
              "      <td>NaN</td>\n",
              "      <td>NaN</td>\n",
              "      <td>NaN</td>\n",
              "      <td>NaN</td>\n",
              "      <td>NaN</td>\n",
              "      <td>NaN</td>\n",
              "      <td>4.078.537.761.681.070</td>\n",
              "      <td>-7.381.365.386.556.950</td>\n",
              "      <td>(40.78537761681071°, -73.81365386556958°)</td>\n",
              "    </tr>\n",
              "    <tr>\n",
              "      <th>12</th>\n",
              "      <td>59980115</td>\n",
              "      <td>01/11/2024 01:46:19 AM</td>\n",
              "      <td>NaN</td>\n",
              "      <td>DSNY</td>\n",
              "      <td>Department of Sanitation</td>\n",
              "      <td>Illegal Dumping</td>\n",
              "      <td>Removal Request</td>\n",
              "      <td>Sidewalk</td>\n",
              "      <td>10032</td>\n",
              "      <td>418 WEST  160 STREET</td>\n",
              "      <td>...</td>\n",
              "      <td>NaN</td>\n",
              "      <td>NaN</td>\n",
              "      <td>NaN</td>\n",
              "      <td>NaN</td>\n",
              "      <td>NaN</td>\n",
              "      <td>NaN</td>\n",
              "      <td>NaN</td>\n",
              "      <td>4.083.408.553.728.480</td>\n",
              "      <td>-7.393.907.990.029.350</td>\n",
              "      <td>(40.83408553728484°, -73.93907990029359°)</td>\n",
              "    </tr>\n",
              "  </tbody>\n",
              "</table>\n",
              "<p>13 rows × 41 columns</p>\n",
              "</div>"
            ],
            "text/plain": [
              "    Unique Key            Created Date  Closed Date Agency  \\\n",
              "0     59990471  01/11/2024 12:00:00 PM          NaN   DSNY   \n",
              "1     59988966  01/11/2024 12:00:00 PM          NaN   DSNY   \n",
              "2     59983031  01/11/2024 12:00:00 PM          NaN   DSNY   \n",
              "3     59983034  01/11/2024 12:00:00 PM          NaN   DSNY   \n",
              "4     59983033  01/11/2024 12:00:00 PM          NaN   DSNY   \n",
              "5     59988973  01/11/2024 12:00:00 PM          NaN   DSNY   \n",
              "6     59987452  01/11/2024 12:00:00 PM          NaN   DSNY   \n",
              "7     59988776  01/11/2024 01:49:23 AM          NaN   NYPD   \n",
              "8     59988894  01/11/2024 01:48:44 AM          NaN   NYPD   \n",
              "9     59984397  01/11/2024 01:48:00 AM          NaN   NYPD   \n",
              "10    59984409  01/11/2024 01:47:18 AM          NaN   NYPD   \n",
              "11    59983150  01/11/2024 01:46:22 AM          NaN   NYPD   \n",
              "12    59980115  01/11/2024 01:46:19 AM          NaN   DSNY   \n",
              "\n",
              "                        Agency Name     Complaint Type  \\\n",
              "0          Department of Sanitation  Derelict Vehicles   \n",
              "1          Department of Sanitation  Derelict Vehicles   \n",
              "2          Department of Sanitation  Derelict Vehicles   \n",
              "3          Department of Sanitation  Derelict Vehicles   \n",
              "4          Department of Sanitation  Derelict Vehicles   \n",
              "5          Department of Sanitation  Derelict Vehicles   \n",
              "6          Department of Sanitation  Derelict Vehicles   \n",
              "7   New York City Police Department   Blocked Driveway   \n",
              "8   New York City Police Department    Illegal Parking   \n",
              "9   New York City Police Department    Illegal Parking   \n",
              "10  New York City Police Department    Illegal Parking   \n",
              "11  New York City Police Department    Illegal Parking   \n",
              "12         Department of Sanitation    Illegal Dumping   \n",
              "\n",
              "                        Descriptor    Location Type  Incident Zip  \\\n",
              "0                Derelict Vehicles           Street         10467   \n",
              "1                Derelict Vehicles           Street         10467   \n",
              "2                Derelict Vehicles           Street         11206   \n",
              "3                Derelict Vehicles           Street         10455   \n",
              "4                Derelict Vehicles           Street         10455   \n",
              "5                Derelict Vehicles           Street         11206   \n",
              "6                Derelict Vehicles           Street         10455   \n",
              "7                        No Access  Street/Sidewalk         11367   \n",
              "8                  Blocked Hydrant  Street/Sidewalk         11356   \n",
              "9                  Blocked Hydrant  Street/Sidewalk         10461   \n",
              "10  Double Parked Blocking Traffic  Street/Sidewalk         11233   \n",
              "11            Paper License Plates  Street/Sidewalk         11357   \n",
              "12                 Removal Request         Sidewalk         10032   \n",
              "\n",
              "        Incident Address  ... Vehicle Type Taxi Company Borough  \\\n",
              "0   343 EAST  209 STREET  ...          NaN                  NaN   \n",
              "1    3228 DECATUR AVENUE  ...          NaN                  NaN   \n",
              "2      202 MAUJER STREET  ...          NaN                  NaN   \n",
              "3        673 BECK STREET  ...          NaN                  NaN   \n",
              "4        673 BECK STREET  ...          NaN                  NaN   \n",
              "5      195 MAUJER STREET  ...          NaN                  NaN   \n",
              "6        673 BECK STREET  ...          NaN                  NaN   \n",
              "7         136-14 61 ROAD  ...          NaN                  NaN   \n",
              "8       122-07 22 AVENUE  ...          NaN                  NaN   \n",
              "9     2567 POPLAR STREET  ...          NaN                  NaN   \n",
              "10      2411 DEAN STREET  ...          Car                  NaN   \n",
              "11      15-56 150 STREET  ...          NaN                  NaN   \n",
              "12  418 WEST  160 STREET  ...          NaN                  NaN   \n",
              "\n",
              "   Taxi Pick Up Location Bridge Highway Name Bridge Highway Direction  \\\n",
              "0                    NaN                 NaN                      NaN   \n",
              "1                    NaN                 NaN                      NaN   \n",
              "2                    NaN                 NaN                      NaN   \n",
              "3                    NaN                 NaN                      NaN   \n",
              "4                    NaN                 NaN                      NaN   \n",
              "5                    NaN                 NaN                      NaN   \n",
              "6                    NaN                 NaN                      NaN   \n",
              "7                    NaN                 NaN                      NaN   \n",
              "8                    NaN                 NaN                      NaN   \n",
              "9                    NaN                 NaN                      NaN   \n",
              "10                   NaN                 NaN                      NaN   \n",
              "11                   NaN                 NaN                      NaN   \n",
              "12                   NaN                 NaN                      NaN   \n",
              "\n",
              "   Road Ramp Bridge Highway Segment                Latitude  \\\n",
              "0        NaN                    NaN   4.087.663.618.204.300   \n",
              "1        NaN                    NaN   4.087.454.575.900.520   \n",
              "2        NaN                    NaN   4.071.110.604.333.750   \n",
              "3        NaN                    NaN     408.148.077.988.588   \n",
              "4        NaN                    NaN     408.148.077.988.588   \n",
              "5        NaN                    NaN   4.071.102.149.850.240   \n",
              "6        NaN                    NaN     408.148.077.988.588   \n",
              "7        NaN                    NaN  40.742.158.749.056.800   \n",
              "8        NaN                    NaN   4.078.015.802.264.800   \n",
              "9        NaN                    NaN   4.084.443.106.593.460   \n",
              "10       NaN                    NaN  40.674.564.493.040.200   \n",
              "11       NaN                    NaN   4.078.537.761.681.070   \n",
              "12       NaN                    NaN   4.083.408.553.728.480   \n",
              "\n",
              "                 Longitude                                    Location  \n",
              "0   -7.387.407.522.979.460   (40.87663618204302°, -73.87407522979463°)  \n",
              "1   -7.387.502.656.053.260   (40.87454575900527°, -73.87502656053266°)  \n",
              "2   -7.394.152.606.103.560   (40.71110604333756°, -73.94152606103569°)  \n",
              "3   -7.390.113.194.581.160    (40.8148077988588°, -73.90113194581166°)  \n",
              "4   -7.390.113.194.581.160    (40.8148077988588°, -73.90113194581166°)  \n",
              "5   -7.394.260.464.288.810   (40.71102149850243°, -73.94260464288811°)  \n",
              "6   -7.390.113.194.581.160    (40.8148077988588°, -73.90113194581166°)  \n",
              "7   -7.382.956.299.071.490  (40.742158749056856°, -73.82956299071492°)  \n",
              "8   -7.384.584.792.528.790   (40.78015802264805°, -73.84584792528797°)  \n",
              "9   -7.384.776.635.760.520   (40.84443106593468°, -73.84776635760521°)  \n",
              "10  -7.390.741.440.600.590  (40.674564493040265°, -73.90741440600594°)  \n",
              "11  -7.381.365.386.556.950   (40.78537761681071°, -73.81365386556958°)  \n",
              "12  -7.393.907.990.029.350   (40.83408553728484°, -73.93907990029359°)  \n",
              "\n",
              "[13 rows x 41 columns]"
            ]
          },
          "execution_count": 14,
          "metadata": {},
          "output_type": "execute_result"
        }
      ],
      "source": [
        "data = pd.read_csv(r'G:\\My Drive\\Sem 1 năm 4\\Thay An Big Data\\Lab\\Lab 8\\NYC 311.csv')\n",
        "data"
      ]
    },
    {
      "cell_type": "markdown",
      "metadata": {
        "id": "mSgbHNVx_721"
      },
      "source": [
        "European Centre for Medium Range Weather Forecasts\n",
        "----------------------------------------------------------\n",
        "\n",
        "[Download script](https://gist.github.com/mrocklin/26d8323f9a8a6a75fce0)\n",
        "\n",
        "Download historical global weather data from the ECMWF.\n",
        "\n",
        "**Try the following:**\n",
        "\n",
        "*  What is the variance in temperature over time?\n",
        "*  What areas experienced the largest temperature swings in the last month relative to their previous history?\n",
        "*  Plot the temperature of the earth as a function of latitude and then as longitude"
      ]
    },
    {
      "cell_type": "code",
      "execution_count": null,
      "metadata": {
        "id": "EVblKHcHtm88"
      },
      "outputs": [],
      "source": [
        "import pandas as pd\n",
        "from ecmwfapi import ECMWFDataServer\n",
        "import dask.dataframe as dd\n",
        "import matplotlib.pyplot as plt"
      ]
    },
    {
      "cell_type": "code",
      "execution_count": null,
      "metadata": {
        "id": "FhgQFMOy_721",
        "outputId": "78e5b150-9ed2-4eea-b07e-a76583f8c4a4"
      },
      "outputs": [
        {
          "name": "stdout",
          "output_type": "stream",
          "text": [
            "2024-01-12 23:31:51 ECMWF API python library 1.6.3\n",
            "2024-01-12 23:31:51 ECMWF API at https://api.ecmwf.int/v1\n",
            "2024-01-12 23:31:52 Welcome Application anonymous\n",
            "2024-01-12 23:31:53 \n",
            "2024-01-12 23:31:53 You are accessing ECMWF data services as an anonymous user. For\n",
            "2024-01-12 23:31:53 improved quality of service you should consider registering an account\n",
            "2024-01-12 23:31:53 with ECMWF.\n",
            "2024-01-12 23:31:53 \n"
          ]
        },
        {
          "ename": "APIException",
          "evalue": "\"ecmwf.API error 1: User 'anonymous' has not access to datasets/interim. Please accept the terms and conditions at http://apps.ecmwf.int/datasets/licences/general\"",
          "output_type": "error",
          "traceback": [
            "\u001b[1;31m---------------------------------------------------------------------------\u001b[0m",
            "\u001b[1;31mAPIException\u001b[0m                              Traceback (most recent call last)",
            "Input \u001b[1;32mIn [16]\u001b[0m, in \u001b[0;36m<cell line: 6>\u001b[1;34m()\u001b[0m\n\u001b[0;32m      4\u001b[0m server \u001b[38;5;241m=\u001b[39m ECMWFDataServer()\n\u001b[0;32m      6\u001b[0m \u001b[38;5;28;01mfor\u001b[39;00m date \u001b[38;5;129;01min\u001b[39;00m dates:\n\u001b[1;32m----> 7\u001b[0m     \u001b[43mserver\u001b[49m\u001b[38;5;241;43m.\u001b[39;49m\u001b[43mretrieve\u001b[49m\u001b[43m(\u001b[49m\u001b[43m{\u001b[49m\n\u001b[0;32m      8\u001b[0m \u001b[43m      \u001b[49m\u001b[38;5;124;43m'\u001b[39;49m\u001b[38;5;124;43mstream\u001b[39;49m\u001b[38;5;124;43m'\u001b[39;49m\u001b[43m    \u001b[49m\u001b[43m:\u001b[49m\u001b[43m \u001b[49m\u001b[38;5;124;43m\"\u001b[39;49m\u001b[38;5;124;43moper\u001b[39;49m\u001b[38;5;124;43m\"\u001b[39;49m\u001b[43m,\u001b[49m\n\u001b[0;32m      9\u001b[0m \u001b[43m      \u001b[49m\u001b[38;5;124;43m'\u001b[39;49m\u001b[38;5;124;43mlevtype\u001b[39;49m\u001b[38;5;124;43m'\u001b[39;49m\u001b[43m   \u001b[49m\u001b[43m:\u001b[49m\u001b[43m \u001b[49m\u001b[38;5;124;43m\"\u001b[39;49m\u001b[38;5;124;43msfc\u001b[39;49m\u001b[38;5;124;43m\"\u001b[39;49m\u001b[43m,\u001b[49m\n\u001b[0;32m     10\u001b[0m \u001b[43m      \u001b[49m\u001b[38;5;124;43m'\u001b[39;49m\u001b[38;5;124;43mparam\u001b[39;49m\u001b[38;5;124;43m'\u001b[39;49m\u001b[43m     \u001b[49m\u001b[43m:\u001b[49m\u001b[43m \u001b[49m\u001b[38;5;124;43m\"\u001b[39;49m\u001b[38;5;124;43m165.128/166.128/167.128\u001b[39;49m\u001b[38;5;124;43m\"\u001b[39;49m\u001b[43m,\u001b[49m\n\u001b[0;32m     11\u001b[0m \u001b[43m      \u001b[49m\u001b[38;5;124;43m'\u001b[39;49m\u001b[38;5;124;43mdataset\u001b[39;49m\u001b[38;5;124;43m'\u001b[39;49m\u001b[43m   \u001b[49m\u001b[43m:\u001b[49m\u001b[43m \u001b[49m\u001b[38;5;124;43m\"\u001b[39;49m\u001b[38;5;124;43minterim\u001b[39;49m\u001b[38;5;124;43m\"\u001b[39;49m\u001b[43m,\u001b[49m\n\u001b[0;32m     12\u001b[0m \u001b[43m      \u001b[49m\u001b[38;5;124;43m'\u001b[39;49m\u001b[38;5;124;43mstep\u001b[39;49m\u001b[38;5;124;43m'\u001b[39;49m\u001b[43m      \u001b[49m\u001b[43m:\u001b[49m\u001b[43m \u001b[49m\u001b[38;5;124;43m\"\u001b[39;49m\u001b[38;5;124;43m00\u001b[39;49m\u001b[38;5;124;43m\"\u001b[39;49m\u001b[43m,\u001b[49m\n\u001b[0;32m     13\u001b[0m \u001b[43m      \u001b[49m\u001b[38;5;124;43m'\u001b[39;49m\u001b[38;5;124;43mgrid\u001b[39;49m\u001b[38;5;124;43m'\u001b[39;49m\u001b[43m      \u001b[49m\u001b[43m:\u001b[49m\u001b[43m \u001b[49m\u001b[38;5;124;43m\"\u001b[39;49m\u001b[38;5;124;43m0.25/0.25\u001b[39;49m\u001b[38;5;124;43m\"\u001b[39;49m\u001b[43m,\u001b[49m\n\u001b[0;32m     14\u001b[0m \u001b[43m      \u001b[49m\u001b[38;5;124;43m'\u001b[39;49m\u001b[38;5;124;43mtime\u001b[39;49m\u001b[38;5;124;43m'\u001b[39;49m\u001b[43m      \u001b[49m\u001b[43m:\u001b[49m\u001b[43m \u001b[49m\u001b[38;5;124;43m\"\u001b[39;49m\u001b[38;5;124;43m00/06/12/18\u001b[39;49m\u001b[38;5;124;43m\"\u001b[39;49m\u001b[43m,\u001b[49m\n\u001b[0;32m     15\u001b[0m \u001b[43m      \u001b[49m\u001b[38;5;124;43m'\u001b[39;49m\u001b[38;5;124;43mdate\u001b[39;49m\u001b[38;5;124;43m'\u001b[39;49m\u001b[43m      \u001b[49m\u001b[43m:\u001b[49m\u001b[43m \u001b[49m\u001b[43mdate\u001b[49m\u001b[43m,\u001b[49m\n\u001b[0;32m     16\u001b[0m \u001b[43m      \u001b[49m\u001b[38;5;124;43m'\u001b[39;49m\u001b[38;5;124;43mtype\u001b[39;49m\u001b[38;5;124;43m'\u001b[39;49m\u001b[43m      \u001b[49m\u001b[43m:\u001b[49m\u001b[43m \u001b[49m\u001b[38;5;124;43m\"\u001b[39;49m\u001b[38;5;124;43man\u001b[39;49m\u001b[38;5;124;43m\"\u001b[39;49m\u001b[43m,\u001b[49m\n\u001b[0;32m     17\u001b[0m \u001b[43m      \u001b[49m\u001b[38;5;124;43m'\u001b[39;49m\u001b[38;5;124;43mclass\u001b[39;49m\u001b[38;5;124;43m'\u001b[39;49m\u001b[43m     \u001b[49m\u001b[43m:\u001b[49m\u001b[43m \u001b[49m\u001b[38;5;124;43m\"\u001b[39;49m\u001b[38;5;124;43mei\u001b[39;49m\u001b[38;5;124;43m\"\u001b[39;49m\u001b[43m,\u001b[49m\n\u001b[0;32m     18\u001b[0m \u001b[43m      \u001b[49m\u001b[38;5;124;43m'\u001b[39;49m\u001b[38;5;124;43mtarget\u001b[39;49m\u001b[38;5;124;43m'\u001b[39;49m\u001b[43m    \u001b[49m\u001b[43m:\u001b[49m\u001b[43m \u001b[49m\u001b[43mdate\u001b[49m\u001b[43m \u001b[49m\u001b[38;5;241;43m+\u001b[39;49m\u001b[43m \u001b[49m\u001b[38;5;124;43m\"\u001b[39;49m\u001b[38;5;124;43m.nc3\u001b[39;49m\u001b[38;5;124;43m\"\u001b[39;49m\u001b[43m,\u001b[49m\n\u001b[0;32m     19\u001b[0m \u001b[43m      \u001b[49m\u001b[38;5;124;43m'\u001b[39;49m\u001b[38;5;124;43mformat\u001b[39;49m\u001b[38;5;124;43m'\u001b[39;49m\u001b[43m    \u001b[49m\u001b[43m:\u001b[49m\u001b[43m \u001b[49m\u001b[38;5;124;43m\"\u001b[39;49m\u001b[38;5;124;43mnetcdf\u001b[39;49m\u001b[38;5;124;43m\"\u001b[39;49m\u001b[43m \u001b[49m\u001b[43m}\u001b[49m\u001b[43m)\u001b[49m\n\u001b[0;32m     21\u001b[0m weather_data \u001b[38;5;241m=\u001b[39m dd\u001b[38;5;241m.\u001b[39mread_netcdf(\u001b[38;5;124m'\u001b[39m\u001b[38;5;124mpath/to/ecmwf_data/*.nc3\u001b[39m\u001b[38;5;124m'\u001b[39m)\n",
            "File \u001b[1;32mc:\\Users\\ASUS\\AppData\\Local\\Programs\\Python\\Python39\\lib\\site-packages\\ecmwfapi\\api.py:599\u001b[0m, in \u001b[0;36mECMWFDataServer.retrieve\u001b[1;34m(self, req)\u001b[0m\n\u001b[0;32m    597\u001b[0m target \u001b[38;5;241m=\u001b[39m req\u001b[38;5;241m.\u001b[39mget(\u001b[38;5;124m\"\u001b[39m\u001b[38;5;124mtarget\u001b[39m\u001b[38;5;124m\"\u001b[39m)\n\u001b[0;32m    598\u001b[0m dataset \u001b[38;5;241m=\u001b[39m req\u001b[38;5;241m.\u001b[39mget(\u001b[38;5;124m\"\u001b[39m\u001b[38;5;124mdataset\u001b[39m\u001b[38;5;124m\"\u001b[39m)\n\u001b[1;32m--> 599\u001b[0m c \u001b[38;5;241m=\u001b[39m \u001b[43mAPIRequest\u001b[49m\u001b[43m(\u001b[49m\n\u001b[0;32m    600\u001b[0m \u001b[43m    \u001b[49m\u001b[38;5;28;43mself\u001b[39;49m\u001b[38;5;241;43m.\u001b[39;49m\u001b[43murl\u001b[49m\u001b[43m,\u001b[49m\n\u001b[0;32m    601\u001b[0m \u001b[43m    \u001b[49m\u001b[38;5;124;43m\"\u001b[39;49m\u001b[38;5;124;43mdatasets/\u001b[39;49m\u001b[38;5;132;43;01m%s\u001b[39;49;00m\u001b[38;5;124;43m\"\u001b[39;49m\u001b[43m \u001b[49m\u001b[38;5;241;43m%\u001b[39;49m\u001b[43m \u001b[49m\u001b[43m(\u001b[49m\u001b[43mdataset\u001b[49m\u001b[43m,\u001b[49m\u001b[43m)\u001b[49m\u001b[43m,\u001b[49m\n\u001b[0;32m    602\u001b[0m \u001b[43m    \u001b[49m\u001b[43memail\u001b[49m\u001b[38;5;241;43m=\u001b[39;49m\u001b[38;5;28;43mself\u001b[39;49m\u001b[38;5;241;43m.\u001b[39;49m\u001b[43memail\u001b[49m\u001b[43m,\u001b[49m\n\u001b[0;32m    603\u001b[0m \u001b[43m    \u001b[49m\u001b[43mkey\u001b[49m\u001b[38;5;241;43m=\u001b[39;49m\u001b[38;5;28;43mself\u001b[39;49m\u001b[38;5;241;43m.\u001b[39;49m\u001b[43mkey\u001b[49m\u001b[43m,\u001b[49m\n\u001b[0;32m    604\u001b[0m \u001b[43m    \u001b[49m\u001b[43mlog\u001b[49m\u001b[38;5;241;43m=\u001b[39;49m\u001b[38;5;28;43mself\u001b[39;49m\u001b[38;5;241;43m.\u001b[39;49m\u001b[43mlog\u001b[49m\u001b[43m,\u001b[49m\n\u001b[0;32m    605\u001b[0m \u001b[43m    \u001b[49m\u001b[43mverbose\u001b[49m\u001b[38;5;241;43m=\u001b[39;49m\u001b[38;5;28;43mself\u001b[39;49m\u001b[38;5;241;43m.\u001b[39;49m\u001b[43mverbose\u001b[49m\u001b[43m,\u001b[49m\n\u001b[0;32m    606\u001b[0m \u001b[43m\u001b[49m\u001b[43m)\u001b[49m\n\u001b[0;32m    607\u001b[0m c\u001b[38;5;241m.\u001b[39mexecute(req, target)\n",
            "File \u001b[1;32mc:\\Users\\ASUS\\AppData\\Local\\Programs\\Python\\Python39\\lib\\site-packages\\ecmwfapi\\api.py:455\u001b[0m, in \u001b[0;36mAPIRequest.__init__\u001b[1;34m(self, url, service, email, key, log, quiet, verbose, news)\u001b[0m\n\u001b[0;32m    452\u001b[0m general_info \u001b[38;5;241m=\u001b[39m \u001b[38;5;28mself\u001b[39m\u001b[38;5;241m.\u001b[39mconnection\u001b[38;5;241m.\u001b[39mcall(\u001b[38;5;124m\"\u001b[39m\u001b[38;5;132;01m%s\u001b[39;00m\u001b[38;5;124m/\u001b[39m\u001b[38;5;132;01m%s\u001b[39;00m\u001b[38;5;124m\"\u001b[39m \u001b[38;5;241m%\u001b[39m (\u001b[38;5;28mself\u001b[39m\u001b[38;5;241m.\u001b[39murl, \u001b[38;5;124m\"\u001b[39m\u001b[38;5;124minfo\u001b[39m\u001b[38;5;124m\"\u001b[39m))\u001b[38;5;241m.\u001b[39mget(\u001b[38;5;124m\"\u001b[39m\u001b[38;5;124minfo\u001b[39m\u001b[38;5;124m\"\u001b[39m)\n\u001b[0;32m    453\u001b[0m \u001b[38;5;28mself\u001b[39m\u001b[38;5;241m.\u001b[39mshow_info(general_info, user[\u001b[38;5;124m\"\u001b[39m\u001b[38;5;124muid\u001b[39m\u001b[38;5;124m\"\u001b[39m])\n\u001b[1;32m--> 455\u001b[0m service_specific_info \u001b[38;5;241m=\u001b[39m \u001b[38;5;28;43mself\u001b[39;49m\u001b[38;5;241;43m.\u001b[39;49m\u001b[43mconnection\u001b[49m\u001b[38;5;241;43m.\u001b[39;49m\u001b[43mcall\u001b[49m\u001b[43m(\u001b[49m\n\u001b[0;32m    456\u001b[0m \u001b[43m    \u001b[49m\u001b[38;5;124;43m\"\u001b[39;49m\u001b[38;5;132;43;01m%s\u001b[39;49;00m\u001b[38;5;124;43m/\u001b[39;49m\u001b[38;5;132;43;01m%s\u001b[39;49;00m\u001b[38;5;124;43m/\u001b[39;49m\u001b[38;5;132;43;01m%s\u001b[39;49;00m\u001b[38;5;124;43m\"\u001b[39;49m\u001b[43m \u001b[49m\u001b[38;5;241;43m%\u001b[39;49m\u001b[43m \u001b[49m\u001b[43m(\u001b[49m\u001b[38;5;28;43mself\u001b[39;49m\u001b[38;5;241;43m.\u001b[39;49m\u001b[43murl\u001b[49m\u001b[43m,\u001b[49m\u001b[43m \u001b[49m\u001b[38;5;28;43mself\u001b[39;49m\u001b[38;5;241;43m.\u001b[39;49m\u001b[43mservice\u001b[49m\u001b[43m,\u001b[49m\u001b[43m \u001b[49m\u001b[38;5;124;43m\"\u001b[39;49m\u001b[38;5;124;43minfo\u001b[39;49m\u001b[38;5;124;43m\"\u001b[39;49m\u001b[43m)\u001b[49m\n\u001b[0;32m    457\u001b[0m \u001b[43m\u001b[49m\u001b[43m)\u001b[49m\u001b[38;5;241m.\u001b[39mget(\u001b[38;5;124m\"\u001b[39m\u001b[38;5;124minfo\u001b[39m\u001b[38;5;124m\"\u001b[39m)\n\u001b[0;32m    458\u001b[0m \u001b[38;5;28mself\u001b[39m\u001b[38;5;241m.\u001b[39mshow_info(service_specific_info, user[\u001b[38;5;124m\"\u001b[39m\u001b[38;5;124muid\u001b[39m\u001b[38;5;124m\"\u001b[39m])\n\u001b[0;32m    460\u001b[0m \u001b[38;5;28;01mif\u001b[39;00m news:\n",
            "File \u001b[1;32mc:\\Users\\ASUS\\AppData\\Local\\Programs\\Python\\Python39\\lib\\site-packages\\ecmwfapi\\api.py:183\u001b[0m, in \u001b[0;36mrobust.<locals>.wrapped\u001b[1;34m(self, *args, **kwargs)\u001b[0m\n\u001b[0;32m    181\u001b[0m \u001b[38;5;28;01mwhile\u001b[39;00m tries \u001b[38;5;241m>\u001b[39m \u001b[38;5;241m0\u001b[39m:\n\u001b[0;32m    182\u001b[0m     \u001b[38;5;28;01mtry\u001b[39;00m:\n\u001b[1;32m--> 183\u001b[0m         \u001b[38;5;28;01mreturn\u001b[39;00m func(\u001b[38;5;28mself\u001b[39m, \u001b[38;5;241m*\u001b[39margs, \u001b[38;5;241m*\u001b[39m\u001b[38;5;241m*\u001b[39mkwargs)\n\u001b[0;32m    184\u001b[0m     \u001b[38;5;28;01mexcept\u001b[39;00m HTTPError \u001b[38;5;28;01mas\u001b[39;00m e:\n\u001b[0;32m    185\u001b[0m         \u001b[38;5;28;01mif\u001b[39;00m \u001b[38;5;28mself\u001b[39m\u001b[38;5;241m.\u001b[39mverbose:\n",
            "File \u001b[1;32mc:\\Users\\ASUS\\AppData\\Local\\Programs\\Python\\Python39\\lib\\site-packages\\ecmwfapi\\api.py:386\u001b[0m, in \u001b[0;36mConnection.call\u001b[1;34m(self, url, payload, method)\u001b[0m\n\u001b[0;32m    383\u001b[0m     \u001b[38;5;28mself\u001b[39m\u001b[38;5;241m.\u001b[39mdone \u001b[38;5;241m=\u001b[39m \u001b[38;5;28;01mTrue\u001b[39;00m\n\u001b[0;32m    385\u001b[0m \u001b[38;5;28;01mif\u001b[39;00m \u001b[38;5;124m\"\u001b[39m\u001b[38;5;124merror\u001b[39m\u001b[38;5;124m\"\u001b[39m \u001b[38;5;129;01min\u001b[39;00m \u001b[38;5;28mself\u001b[39m\u001b[38;5;241m.\u001b[39mlast:\n\u001b[1;32m--> 386\u001b[0m     \u001b[38;5;28;01mraise\u001b[39;00m APIException(\u001b[38;5;124m\"\u001b[39m\u001b[38;5;124mecmwf.API error 1: \u001b[39m\u001b[38;5;132;01m%s\u001b[39;00m\u001b[38;5;124m\"\u001b[39m \u001b[38;5;241m%\u001b[39m (\u001b[38;5;28mself\u001b[39m\u001b[38;5;241m.\u001b[39mlast[\u001b[38;5;124m\"\u001b[39m\u001b[38;5;124merror\u001b[39m\u001b[38;5;124m\"\u001b[39m],))\n\u001b[0;32m    388\u001b[0m \u001b[38;5;28;01mif\u001b[39;00m error:\n\u001b[0;32m    389\u001b[0m     \u001b[38;5;28;01mraise\u001b[39;00m APIException(\u001b[38;5;124m\"\u001b[39m\u001b[38;5;124mecmwf.API error 2: \u001b[39m\u001b[38;5;132;01m%s\u001b[39;00m\u001b[38;5;124m\"\u001b[39m \u001b[38;5;241m%\u001b[39m (res,))\n",
            "\u001b[1;31mAPIException\u001b[0m: \"ecmwf.API error 1: User 'anonymous' has not access to datasets/interim. Please accept the terms and conditions at http://apps.ecmwf.int/datasets/licences/general\""
          ]
        }
      ],
      "source": [
        "dates = pd.date_range('2014-01-01', '2014-12-31', freq='D')\n",
        "dates = [str(d).split()[0] for d in dates]\n",
        "\n",
        "server = ECMWFDataServer()\n",
        "\n",
        "for date in dates:\n",
        "    server.retrieve({\n",
        "      'stream'    : \"oper\",\n",
        "      'levtype'   : \"sfc\",\n",
        "      'param'     : \"165.128/166.128/167.128\",\n",
        "      'dataset'   : \"interim\",\n",
        "      'step'      : \"00\",\n",
        "      'grid'      : \"0.25/0.25\",\n",
        "      'time'      : \"00/06/12/18\",\n",
        "      'date'      : date,\n",
        "      'type'      : \"an\",\n",
        "      'class'     : \"ei\",\n",
        "      'target'    : date + \".nc3\",\n",
        "      'format'    : \"netcdf\" })\n",
        "\n",
        "weather_data = dd.read_netcdf('path/to/ecmwf_data/*.nc3')"
      ]
    },
    {
      "cell_type": "code",
      "execution_count": null,
      "metadata": {
        "id": "3hF09EcIsbd5",
        "outputId": "fa54983c-fb22-4729-9386-6ba2c17b9952"
      },
      "outputs": [
        {
          "ename": "NameError",
          "evalue": "name 'weather_data' is not defined",
          "output_type": "error",
          "traceback": [
            "\u001b[1;31m---------------------------------------------------------------------------\u001b[0m",
            "\u001b[1;31mNameError\u001b[0m                                 Traceback (most recent call last)",
            "Input \u001b[1;32mIn [28]\u001b[0m, in \u001b[0;36m<cell line: 1>\u001b[1;34m()\u001b[0m\n\u001b[1;32m----> 1\u001b[0m variance_over_time \u001b[38;5;241m=\u001b[39m \u001b[43mweather_data\u001b[49m\u001b[38;5;241m.\u001b[39mgroupby(\u001b[38;5;124m'\u001b[39m\u001b[38;5;124mtimestamp\u001b[39m\u001b[38;5;124m'\u001b[39m)[\u001b[38;5;124m'\u001b[39m\u001b[38;5;124mtemperature\u001b[39m\u001b[38;5;124m'\u001b[39m]\u001b[38;5;241m.\u001b[39mvar()\u001b[38;5;241m.\u001b[39mcompute()\n\u001b[0;32m      2\u001b[0m variance_over_time\u001b[38;5;241m.\u001b[39mplot(title\u001b[38;5;241m=\u001b[39m\u001b[38;5;124m'\u001b[39m\u001b[38;5;124mVariance in Temperature Over Time\u001b[39m\u001b[38;5;124m'\u001b[39m)\n\u001b[0;32m      3\u001b[0m plt\u001b[38;5;241m.\u001b[39mxlabel(\u001b[38;5;124m'\u001b[39m\u001b[38;5;124mTimestamp\u001b[39m\u001b[38;5;124m'\u001b[39m)\n",
            "\u001b[1;31mNameError\u001b[0m: name 'weather_data' is not defined"
          ]
        }
      ],
      "source": [
        "variance_over_time = weather_data.groupby('timestamp')['temperature'].var().compute()\n",
        "variance_over_time.plot(title='Variance in Temperature Over Time')\n",
        "plt.xlabel('Timestamp')\n",
        "plt.ylabel('Temperature Variance')\n",
        "plt.show()"
      ]
    },
    {
      "cell_type": "code",
      "execution_count": null,
      "metadata": {
        "id": "udWaUZBcuuNw"
      },
      "outputs": [],
      "source": [
        "weather_data = weather_data.set_index('timestamp')\n",
        "last_month_data = weather_data.loc['2014-01-01':'2014-12-31']\n",
        "temperature_swings_last_month = last_month_data.groupby(['latitude', 'longitude'])['temperature'].std().compute()\n",
        "largest_temperature_swings = temperature_swings_last_month.nlargest(5)\n",
        "\n",
        "print(largest_temperature_swings)"
      ]
    },
    {
      "cell_type": "code",
      "execution_count": null,
      "metadata": {
        "id": "wv7Vy__Tsbd6"
      },
      "outputs": [],
      "source": [
        "weather_data.plot.scatter(x='latitude', y='temperature', alpha=0.2)\n",
        "plt.title('Temperature vs Latitude')\n",
        "plt.xlabel('Latitude')\n",
        "plt.ylabel('Temperature')\n",
        "plt.show()"
      ]
    },
    {
      "cell_type": "code",
      "execution_count": null,
      "metadata": {
        "id": "pmduZSUOuBiO"
      },
      "outputs": [],
      "source": [
        "weather_data.plot.scatter(x='longitude', y='temperature', alpha=0.2)\n",
        "plt.title('Temperature vs Longitude')\n",
        "plt.xlabel('Longitude')\n",
        "plt.ylabel('Temperature')\n",
        "plt.show()"
      ]
    }
  ],
  "metadata": {
    "colab": {
      "provenance": []
    },
    "kernelspec": {
      "display_name": "Python 3 (ipykernel)",
      "language": "python",
      "name": "python3"
    },
    "language_info": {
      "codemirror_mode": {
        "name": "ipython",
        "version": 3
      },
      "file_extension": ".py",
      "mimetype": "text/x-python",
      "name": "python",
      "nbconvert_exporter": "python",
      "pygments_lexer": "ipython3",
      "version": "3.9.9"
    }
  },
  "nbformat": 4,
  "nbformat_minor": 0
}